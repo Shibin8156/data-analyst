{
 "cells": [
  {
   "cell_type": "code",
   "execution_count": 20,
   "id": "f7fa0064",
   "metadata": {},
   "outputs": [],
   "source": [
    "from sklearn.datasets import load_digits\n",
    "from sklearn.model_selection import KFold, StratifiedKFold, cross_val_score\n",
    "from sklearn.linear_model import LogisticRegression\n",
    "from sklearn.ensemble import RandomForestClassifier\n",
    "from sklearn.svm import SVC"
   ]
  },
  {
   "cell_type": "code",
   "execution_count": 5,
   "id": "f420f6dd",
   "metadata": {},
   "outputs": [],
   "source": [
    "# Example\n",
    "fold = KFold(n_splits=5)"
   ]
  },
  {
   "cell_type": "code",
   "execution_count": 6,
   "id": "2577a56e",
   "metadata": {},
   "outputs": [
    {
     "name": "stdout",
     "output_type": "stream",
     "text": [
      "[ 3  4  5  6  7  8  9 10 11] [0 1 2]\n",
      "[ 0  1  2  6  7  8  9 10 11] [3 4 5]\n",
      "[ 0  1  2  3  4  5  8  9 10 11] [6 7]\n",
      "[ 0  1  2  3  4  5  6  7 10 11] [8 9]\n",
      "[0 1 2 3 4 5 6 7 8 9] [10 11]\n"
     ]
    }
   ],
   "source": [
    "# example for KFold  (alll values are used for train and test)\n",
    "list1= [1,3,5,6,1,8,9,5,6,7,9,10]\n",
    "for train, test in fold.split(list1):\n",
    "    print (train, test)"
   ]
  },
  {
   "cell_type": "code",
   "execution_count": 7,
   "id": "0b6d8fad",
   "metadata": {},
   "outputs": [],
   "source": [
    "fold = StratifiedKFold(n_splits=5)  #for keeping the splits balanced"
   ]
  },
  {
   "cell_type": "code",
   "execution_count": 8,
   "id": "bc74d800",
   "metadata": {},
   "outputs": [],
   "source": [
    "digits= load_digits()"
   ]
  },
  {
   "cell_type": "code",
   "execution_count": 23,
   "id": "4704513b",
   "metadata": {},
   "outputs": [],
   "source": [
    "def get_score(model,x_train,x_test,y_train,y_test):\n",
    "    model.fit(x_train,y_train)\n",
    "    return model.score(x_test,y_test)\n",
    "\n",
    "# lists for saving the scores of the model\n",
    "log_score= []\n",
    "svm_score= []\n",
    "rf_score= []\n",
    "\n",
    "for train_index, test_index in fold.split(digits.data, digits.target):\n",
    "    x_train,x_test, y_train, y_test = digits.data[train_index], digits.data[test_index],digits.target[train_index],digits.target[test_index]\n",
    "    log_score.append(get_score(LogisticRegression(), x_train,x_test,y_train,y_test))\n",
    "    svm_score.append(get_score(SVC(),x_train,x_test,y_train,y_test))\n",
    "    rf_score.append(get_score(RandomForestClassifier(random_state=34),x_train,x_test,y_train,y_test))"
   ]
  },
  {
   "cell_type": "code",
   "execution_count": null,
   "id": "7d0490c3",
   "metadata": {},
   "outputs": [],
   "source": []
  },
  {
   "cell_type": "code",
   "execution_count": 24,
   "id": "d62ca586",
   "metadata": {},
   "outputs": [
    {
     "data": {
      "text/plain": [
       "[0.9611111111111111,\n",
       " 0.9444444444444444,\n",
       " 0.9832869080779945,\n",
       " 0.9888579387186629,\n",
       " 0.9387186629526463]"
      ]
     },
     "execution_count": 24,
     "metadata": {},
     "output_type": "execute_result"
    }
   ],
   "source": [
    "svm_score"
   ]
  },
  {
   "cell_type": "code",
   "execution_count": 25,
   "id": "c880e627",
   "metadata": {},
   "outputs": [
    {
     "data": {
      "text/plain": [
       "[0.925,\n",
       " 0.9111111111111111,\n",
       " 0.958217270194986,\n",
       " 0.9610027855153204,\n",
       " 0.9275766016713092]"
      ]
     },
     "execution_count": 25,
     "metadata": {},
     "output_type": "execute_result"
    }
   ],
   "source": [
    "rf_score"
   ]
  },
  {
   "cell_type": "code",
   "execution_count": 26,
   "id": "8bb97149",
   "metadata": {},
   "outputs": [
    {
     "name": "stdout",
     "output_type": "stream",
     "text": [
      "0.9137650882079852\n",
      "0.9632838130609718\n",
      "0.9365815536985453\n"
     ]
    }
   ],
   "source": [
    "import numpy as np\n",
    "print (np.mean(log_score))\n",
    "print (np.mean(svm_score))\n",
    "print (np.mean(rf_score))"
   ]
  },
  {
   "cell_type": "code",
   "execution_count": 21,
   "id": "d5c8a326",
   "metadata": {},
   "outputs": [],
   "source": [
    "#to ignore warning messages\n",
    "import warnings\n",
    "warnings.filterwarnings('ignore')"
   ]
  },
  {
   "cell_type": "code",
   "execution_count": 27,
   "id": "0f8ba289",
   "metadata": {},
   "outputs": [],
   "source": [
    "# best easy method\n",
    "log_score = cross_val_score(LogisticRegression(),X= digits.data, y= digits.target, cv=5) #default cv\n",
    "svm_score = cross_val_score(SVC(), X=digits.data, y=digits.target)\n",
    "rf_score = cross_val_score(RandomForestClassifier(random_state=12), X= digits.data, y=digits.target)"
   ]
  },
  {
   "cell_type": "code",
   "execution_count": 28,
   "id": "e57aa5ae",
   "metadata": {},
   "outputs": [
    {
     "name": "stdout",
     "output_type": "stream",
     "text": [
      "[0.92222222 0.86944444 0.94150418 0.93871866 0.89693593]\n",
      "[0.96111111 0.94444444 0.98328691 0.98885794 0.93871866]\n",
      "[0.93611111 0.91111111 0.95264624 0.97771588 0.9275766 ]\n"
     ]
    }
   ],
   "source": [
    "print(log_score)\n",
    "print(svm_score)\n",
    "print(rf_score)"
   ]
  },
  {
   "cell_type": "code",
   "execution_count": 29,
   "id": "2b5c60b5",
   "metadata": {},
   "outputs": [
    {
     "name": "stdout",
     "output_type": "stream",
     "text": [
      "0.9137650882079852\n",
      "0.9632838130609718\n",
      "0.9410321881770349\n"
     ]
    }
   ],
   "source": [
    "print(log_score.mean())\n",
    "print(svm_score.mean())\n",
    "print(rf_score.mean())"
   ]
  },
  {
   "cell_type": "code",
   "execution_count": null,
   "id": "844e350a",
   "metadata": {},
   "outputs": [],
   "source": []
  }
 ],
 "metadata": {
  "kernelspec": {
   "display_name": "Python 3 (ipykernel)",
   "language": "python",
   "name": "python3"
  },
  "language_info": {
   "codemirror_mode": {
    "name": "ipython",
    "version": 3
   },
   "file_extension": ".py",
   "mimetype": "text/x-python",
   "name": "python",
   "nbconvert_exporter": "python",
   "pygments_lexer": "ipython3",
   "version": "3.10.9"
  }
 },
 "nbformat": 4,
 "nbformat_minor": 5
}
