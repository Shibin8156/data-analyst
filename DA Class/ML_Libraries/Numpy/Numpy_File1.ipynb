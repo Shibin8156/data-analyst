{
 "cells": [
  {
   "cell_type": "code",
   "execution_count": 6,
   "id": "e4ae842a",
   "metadata": {},
   "outputs": [],
   "source": [
    "import numpy as np"
   ]
  },
  {
   "cell_type": "markdown",
   "id": "6a405c5e",
   "metadata": {},
   "source": [
    "### creating a one-dimensional numpy array"
   ]
  },
  {
   "cell_type": "code",
   "execution_count": 9,
   "id": "e4f99d9c",
   "metadata": {},
   "outputs": [
    {
     "name": "stdout",
     "output_type": "stream",
     "text": [
      "[2.  3.4 7.  8.3 1.  3. ]\n",
      "[ 4  6  8 10 12]\n"
     ]
    },
    {
     "data": {
      "text/plain": [
       "array([ 4,  6,  8, 10, 12])"
      ]
     },
     "execution_count": 9,
     "metadata": {},
     "output_type": "execute_result"
    }
   ],
   "source": [
    "a=np.array([2,3.4,7,8.3,1,3.0])\n",
    "b=np.array((4,6,8,10,12))\n",
    "print(a)\n",
    "print(b)\n",
    "b"
   ]
  },
  {
   "cell_type": "code",
   "execution_count": 10,
   "id": "71ca9ff7",
   "metadata": {},
   "outputs": [
    {
     "data": {
      "text/plain": [
       "numpy.ndarray"
      ]
     },
     "execution_count": 10,
     "metadata": {},
     "output_type": "execute_result"
    }
   ],
   "source": [
    "type(a)"
   ]
  },
  {
   "cell_type": "code",
   "execution_count": 15,
   "id": "13fa0563",
   "metadata": {},
   "outputs": [
    {
     "data": {
      "text/plain": [
       "dtype('int32')"
      ]
     },
     "execution_count": 15,
     "metadata": {},
     "output_type": "execute_result"
    }
   ],
   "source": [
    "b.dtype"
   ]
  },
  {
   "cell_type": "code",
   "execution_count": 14,
   "id": "041ba098",
   "metadata": {},
   "outputs": [
    {
     "data": {
      "text/plain": [
       "dtype('float64')"
      ]
     },
     "execution_count": 14,
     "metadata": {},
     "output_type": "execute_result"
    }
   ],
   "source": [
    "a.dtype"
   ]
  },
  {
   "cell_type": "code",
   "execution_count": 19,
   "id": "41788a30",
   "metadata": {},
   "outputs": [
    {
     "name": "stdout",
     "output_type": "stream",
     "text": [
      "2.0\n",
      "[2.  3.4 7.  8.3 1.  3. ]\n",
      "[2.  3.4]\n",
      "[3.4 7. ]\n"
     ]
    }
   ],
   "source": [
    "# indexing\n",
    "print(a[0])\n",
    "print(a[0:])\n",
    "print(a[:2])\n",
    "print(a[1:3])"
   ]
  },
  {
   "cell_type": "markdown",
   "id": "1b37468b",
   "metadata": {},
   "source": [
    "## 2 dimensional array"
   ]
  },
  {
   "cell_type": "code",
   "execution_count": 4,
   "id": "46a5354f",
   "metadata": {},
   "outputs": [
    {
     "name": "stdout",
     "output_type": "stream",
     "text": [
      "[[1 2 3 4]\n",
      " [2 4 6 8]]\n"
     ]
    }
   ],
   "source": [
    "b=np.array([[1,2,3,4],[2,4,6,8]])\n",
    "print(b)"
   ]
  },
  {
   "cell_type": "markdown",
   "id": "a8632060",
   "metadata": {},
   "source": [
    "print(b[0])\n",
    "print(b[0:])\n",
    "print(b[1])\n",
    "print(b[1][1])\n",
    "print(b[0,2])\n",
    "print(b[:2])\n",
    "print(b[0,3])\n",
    "print(b[1][3])"
   ]
  },
  {
   "cell_type": "code",
   "execution_count": 34,
   "id": "79fd3f04",
   "metadata": {},
   "outputs": [
    {
     "name": "stdout",
     "output_type": "stream",
     "text": [
      "[[ 3  7 -5  0]\n",
      " [ 8  2  1  3]\n",
      " [ 7 -2  9  6]]\n"
     ]
    }
   ],
   "source": [
    "q=np.array([[3,7,-5,0],[8,2,1,3],[7,-2,9,6]])\n",
    "print(q)"
   ]
  },
  {
   "cell_type": "code",
   "execution_count": 38,
   "id": "a2fe5ea8",
   "metadata": {},
   "outputs": [
    {
     "name": "stdout",
     "output_type": "stream",
     "text": [
      "[[ 2  1]\n",
      " [-2  9]]\n"
     ]
    }
   ],
   "source": [
    "print(q[1:,1:3])\n"
   ]
  },
  {
   "cell_type": "code",
   "execution_count": 40,
   "id": "57fe3dce",
   "metadata": {},
   "outputs": [
    {
     "name": "stdout",
     "output_type": "stream",
     "text": [
      "[1 3]\n"
     ]
    }
   ],
   "source": [
    "print(q[1,2:])"
   ]
  },
  {
   "cell_type": "code",
   "execution_count": 41,
   "id": "621f7fa8",
   "metadata": {},
   "outputs": [
    {
     "name": "stdout",
     "output_type": "stream",
     "text": [
      "[0 3 6]\n"
     ]
    }
   ],
   "source": [
    "print(q[0:,3])"
   ]
  },
  {
   "cell_type": "code",
   "execution_count": 42,
   "id": "e80e3295",
   "metadata": {},
   "outputs": [
    {
     "name": "stdout",
     "output_type": "stream",
     "text": [
      "[1 9]\n"
     ]
    }
   ],
   "source": [
    "print(q[1:,2])"
   ]
  },
  {
   "cell_type": "markdown",
   "id": "4859c9c9",
   "metadata": {},
   "source": [
    "## array initialization"
   ]
  },
  {
   "cell_type": "code",
   "execution_count": 43,
   "id": "0dbdb7e0",
   "metadata": {},
   "outputs": [
    {
     "data": {
      "text/plain": [
       "array([[0., 0.],\n",
       "       [0., 0.],\n",
       "       [0., 0.]])"
      ]
     },
     "execution_count": 43,
     "metadata": {},
     "output_type": "execute_result"
    }
   ],
   "source": [
    "# creating an array full of zeros\n",
    "a=np.zeros((3,2))\n",
    "a"
   ]
  },
  {
   "cell_type": "code",
   "execution_count": 44,
   "id": "5397c14b",
   "metadata": {},
   "outputs": [
    {
     "data": {
      "text/plain": [
       "dtype('float64')"
      ]
     },
     "execution_count": 44,
     "metadata": {},
     "output_type": "execute_result"
    }
   ],
   "source": [
    "a.dtype"
   ]
  },
  {
   "cell_type": "code",
   "execution_count": null,
   "id": "23910b66",
   "metadata": {},
   "outputs": [],
   "source": []
  },
  {
   "cell_type": "code",
   "execution_count": 45,
   "id": "4640894b",
   "metadata": {
    "scrolled": true
   },
   "outputs": [
    {
     "data": {
      "text/plain": [
       "array([[1., 1., 1., 1.],\n",
       "       [1., 1., 1., 1.],\n",
       "       [1., 1., 1., 1.],\n",
       "       [1., 1., 1., 1.]])"
      ]
     },
     "execution_count": 45,
     "metadata": {},
     "output_type": "execute_result"
    }
   ],
   "source": [
    "# creating an array full of ones\n",
    "b=np.ones((4,4))\n",
    "b"
   ]
  },
  {
   "cell_type": "code",
   "execution_count": 47,
   "id": "ac6224c0",
   "metadata": {},
   "outputs": [
    {
     "data": {
      "text/plain": [
       "dtype('float64')"
      ]
     },
     "execution_count": 47,
     "metadata": {},
     "output_type": "execute_result"
    }
   ],
   "source": [
    "b.dtype"
   ]
  },
  {
   "cell_type": "code",
   "execution_count": 50,
   "id": "77d7cbcc",
   "metadata": {},
   "outputs": [
    {
     "data": {
      "text/plain": [
       "array([['zz', 'zz', 'zz', 'zz'],\n",
       "       ['zz', 'zz', 'zz', 'zz'],\n",
       "       ['zz', 'zz', 'zz', 'zz']], dtype='<U2')"
      ]
     },
     "execution_count": 50,
     "metadata": {},
     "output_type": "execute_result"
    }
   ],
   "source": [
    "# array_name= np.full((rows, columns), default_value)\n",
    "c=np.full((3,4),'zz')\n",
    "c"
   ]
  },
  {
   "cell_type": "code",
   "execution_count": 54,
   "id": "ff0c9475",
   "metadata": {},
   "outputs": [
    {
     "data": {
      "text/plain": [
       "array([10,  8,  6,  4,  2])"
      ]
     },
     "execution_count": 54,
     "metadata": {},
     "output_type": "execute_result"
    }
   ],
   "source": [
    "# generate a sequence of integers\n",
    "# array_name = np.arange(start,stop,step)\n",
    "a=np.arange(10,0,-2)\n",
    "a"
   ]
  },
  {
   "cell_type": "code",
   "execution_count": 56,
   "id": "eacfd3fa",
   "metadata": {},
   "outputs": [
    {
     "data": {
      "text/plain": [
       "array([[1., 0., 0., 0.],\n",
       "       [0., 1., 0., 0.],\n",
       "       [0., 0., 1., 0.],\n",
       "       [0., 0., 0., 1.]])"
      ]
     },
     "execution_count": 56,
     "metadata": {},
     "output_type": "execute_result"
    }
   ],
   "source": [
    "arr1=np.zeros((4,4))\n",
    "arr1[[0,1,2,3],[0,1,2,3]]=1\n",
    "arr1"
   ]
  },
  {
   "cell_type": "code",
   "execution_count": 6,
   "id": "cb976917",
   "metadata": {},
   "outputs": [],
   "source": [
    "import numpy as np"
   ]
  },
  {
   "cell_type": "markdown",
   "id": "105c7026",
   "metadata": {},
   "source": [
    "## 15-5-23"
   ]
  },
  {
   "cell_type": "code",
   "execution_count": 5,
   "id": "6998ae1f",
   "metadata": {},
   "outputs": [
    {
     "data": {
      "text/plain": [
       "array([ 5.        ,  5.26315789,  5.52631579,  5.78947368,  6.05263158,\n",
       "        6.31578947,  6.57894737,  6.84210526,  7.10526316,  7.36842105,\n",
       "        7.63157895,  7.89473684,  8.15789474,  8.42105263,  8.68421053,\n",
       "        8.94736842,  9.21052632,  9.47368421,  9.73684211, 10.        ])"
      ]
     },
     "execution_count": 5,
     "metadata": {},
     "output_type": "execute_result"
    }
   ],
   "source": [
    "# GENERTES A SEQUENCE OF EQUALLY SPACED VALUES AND END     only 1 to 10\n",
    "\n",
    "# array_name = np.linspace(start,end,no of elements)\n",
    "\n",
    "a =np.linspace(5,10,20)\n",
    "a"
   ]
  },
  {
   "cell_type": "code",
   "execution_count": 53,
   "id": "23ce197c",
   "metadata": {},
   "outputs": [
    {
     "data": {
      "text/plain": [
       "1"
      ]
     },
     "execution_count": 53,
     "metadata": {},
     "output_type": "execute_result"
    }
   ],
   "source": [
    "a.ndim"
   ]
  },
  {
   "cell_type": "markdown",
   "id": "3be26a37",
   "metadata": {},
   "source": [
    "## Random Module"
   ]
  },
  {
   "cell_type": "code",
   "execution_count": 9,
   "id": "36f41c8a",
   "metadata": {},
   "outputs": [
    {
     "data": {
      "text/plain": [
       "array([0.56641557, 0.68430492, 0.50638357, 0.39872694, 0.19122562,\n",
       "       0.36911902, 0.38268985, 0.26264452, 0.6108355 , 0.27986989])"
      ]
     },
     "execution_count": 9,
     "metadata": {},
     "output_type": "execute_result"
    }
   ],
   "source": [
    "# Generate random values between 0 and 1\n",
    "# array_name= np.random.random(no of elements)\n",
    "\n",
    "arr1= np.random.random(10)\n",
    "arr1"
   ]
  },
  {
   "cell_type": "markdown",
   "id": "21832336",
   "metadata": {},
   "source": [
    "### 1D"
   ]
  },
  {
   "cell_type": "code",
   "execution_count": 10,
   "id": "3568d6e2",
   "metadata": {},
   "outputs": [
    {
     "data": {
      "text/plain": [
       "array([9, 1, 7, 6, 7, 6, 6, 3, 9, 3, 2, 5, 2, 1, 7])"
      ]
     },
     "execution_count": 10,
     "metadata": {},
     "output_type": "execute_result"
    }
   ],
   "source": [
    "# generate a 1D array of random integer values between 'star'(inclusive) and 'end'(exclusive) \n",
    "# array_name = np.random.randint(start,end,no of elements)\n",
    "arr2= np.random.randint(1,10,15)\n",
    "arr2"
   ]
  },
  {
   "cell_type": "markdown",
   "id": "8028191b",
   "metadata": {},
   "source": [
    "### 2D"
   ]
  },
  {
   "cell_type": "code",
   "execution_count": 13,
   "id": "cba18d2d",
   "metadata": {},
   "outputs": [
    {
     "data": {
      "text/plain": [
       "array([[4, 9, 2, 7, 9],\n",
       "       [8, 3, 4, 6, 7],\n",
       "       [2, 7, 1, 4, 4],\n",
       "       [6, 9, 6, 5, 1]])"
      ]
     },
     "execution_count": 13,
     "metadata": {},
     "output_type": "execute_result"
    }
   ],
   "source": [
    "# GENERATES a 2D arry of random integers\n",
    "\n",
    "#array_name= np.random.randint(start,end,(row ,col))\n",
    "\n",
    "arr3=np.random.randint(1,10,(4,5))\n",
    "arr3"
   ]
  },
  {
   "cell_type": "code",
   "execution_count": 14,
   "id": "76911fd3",
   "metadata": {},
   "outputs": [
    {
     "data": {
      "text/plain": [
       "(4, 5)"
      ]
     },
     "execution_count": 14,
     "metadata": {},
     "output_type": "execute_result"
    }
   ],
   "source": [
    "arr3.shape  # no of rows and columns"
   ]
  },
  {
   "cell_type": "code",
   "execution_count": 15,
   "id": "0da285da",
   "metadata": {},
   "outputs": [
    {
     "data": {
      "text/plain": [
       "20"
      ]
     },
     "execution_count": 15,
     "metadata": {},
     "output_type": "execute_result"
    }
   ],
   "source": [
    "arr3.size   # total no of elemets of the array"
   ]
  },
  {
   "cell_type": "code",
   "execution_count": 16,
   "id": "6514b974",
   "metadata": {},
   "outputs": [
    {
     "data": {
      "text/plain": [
       "4"
      ]
     },
     "execution_count": 16,
     "metadata": {},
     "output_type": "execute_result"
    }
   ],
   "source": [
    "arr3.itemsize # size of each elements in bytes"
   ]
  },
  {
   "cell_type": "code",
   "execution_count": 17,
   "id": "cfb67050",
   "metadata": {},
   "outputs": [
    {
     "data": {
      "text/plain": [
       "80"
      ]
     },
     "execution_count": 17,
     "metadata": {},
     "output_type": "execute_result"
    }
   ],
   "source": [
    "arr3.nbytes   #total size of the array in bytes"
   ]
  },
  {
   "cell_type": "code",
   "execution_count": 18,
   "id": "60d76be9",
   "metadata": {},
   "outputs": [
    {
     "data": {
      "text/plain": [
       "2"
      ]
     },
     "execution_count": 18,
     "metadata": {},
     "output_type": "execute_result"
    }
   ],
   "source": [
    "arr3.ndim    # dimension of the array"
   ]
  },
  {
   "cell_type": "code",
   "execution_count": 20,
   "id": "8199ae30",
   "metadata": {
    "scrolled": true
   },
   "outputs": [
    {
     "data": {
      "text/plain": [
       "array([[3, 6, 9],\n",
       "       [4, 3, 6],\n",
       "       [8, 7, 6],\n",
       "       [4, 9, 2]])"
      ]
     },
     "execution_count": 20,
     "metadata": {},
     "output_type": "execute_result"
    }
   ],
   "source": [
    "ar= np.random.randint(2,10,(4,3))\n",
    "ar"
   ]
  },
  {
   "cell_type": "code",
   "execution_count": 21,
   "id": "b540e4b0",
   "metadata": {},
   "outputs": [
    {
     "data": {
      "text/plain": [
       "(4, 3)"
      ]
     },
     "execution_count": 21,
     "metadata": {},
     "output_type": "execute_result"
    }
   ],
   "source": [
    "ar.shape"
   ]
  },
  {
   "cell_type": "code",
   "execution_count": 22,
   "id": "40d0548a",
   "metadata": {},
   "outputs": [
    {
     "data": {
      "text/plain": [
       "12"
      ]
     },
     "execution_count": 22,
     "metadata": {},
     "output_type": "execute_result"
    }
   ],
   "source": [
    "ar.size"
   ]
  },
  {
   "cell_type": "code",
   "execution_count": 23,
   "id": "373f75f5",
   "metadata": {},
   "outputs": [
    {
     "data": {
      "text/plain": [
       "4"
      ]
     },
     "execution_count": 23,
     "metadata": {},
     "output_type": "execute_result"
    }
   ],
   "source": [
    "ar.itemsize"
   ]
  },
  {
   "cell_type": "code",
   "execution_count": 24,
   "id": "aaac5615",
   "metadata": {},
   "outputs": [
    {
     "data": {
      "text/plain": [
       "48"
      ]
     },
     "execution_count": 24,
     "metadata": {},
     "output_type": "execute_result"
    }
   ],
   "source": [
    "ar.nbytes"
   ]
  },
  {
   "cell_type": "code",
   "execution_count": 25,
   "id": "15ef053e",
   "metadata": {},
   "outputs": [
    {
     "data": {
      "text/plain": [
       "2"
      ]
     },
     "execution_count": 25,
     "metadata": {},
     "output_type": "execute_result"
    }
   ],
   "source": [
    "ar.ndim"
   ]
  },
  {
   "cell_type": "code",
   "execution_count": 31,
   "id": "a688b12f",
   "metadata": {},
   "outputs": [
    {
     "data": {
      "text/plain": [
       "array([[4, 4, 4],\n",
       "       [4, 4, 4],\n",
       "       [4, 4, 4]])"
      ]
     },
     "execution_count": 31,
     "metadata": {},
     "output_type": "execute_result"
    }
   ],
   "source": [
    "d=np.full((3,3),4)\n",
    "d"
   ]
  },
  {
   "cell_type": "markdown",
   "id": "740a33de",
   "metadata": {},
   "source": [
    "## Changing type of array"
   ]
  },
  {
   "cell_type": "code",
   "execution_count": 33,
   "id": "8c4bd102",
   "metadata": {},
   "outputs": [
    {
     "data": {
      "text/plain": [
       "array([0, 1, 2, 3, 4, 5, 6, 7, 8, 9])"
      ]
     },
     "execution_count": 33,
     "metadata": {},
     "output_type": "execute_result"
    }
   ],
   "source": [
    "a=np.arange(10)\n",
    "a"
   ]
  },
  {
   "cell_type": "code",
   "execution_count": 34,
   "id": "6dca4678",
   "metadata": {},
   "outputs": [
    {
     "data": {
      "text/plain": [
       "dtype('int32')"
      ]
     },
     "execution_count": 34,
     "metadata": {},
     "output_type": "execute_result"
    }
   ],
   "source": [
    "a.dtype"
   ]
  },
  {
   "cell_type": "code",
   "execution_count": 37,
   "id": "989887cd",
   "metadata": {},
   "outputs": [
    {
     "data": {
      "text/plain": [
       "array([0., 1., 2., 3., 4., 5., 6., 7., 8., 9.])"
      ]
     },
     "execution_count": 37,
     "metadata": {},
     "output_type": "execute_result"
    }
   ],
   "source": [
    "# astype\n",
    "\n",
    "a=a.astype('float')\n",
    "a"
   ]
  },
  {
   "cell_type": "code",
   "execution_count": 38,
   "id": "d2dbb68b",
   "metadata": {},
   "outputs": [
    {
     "data": {
      "text/plain": [
       "dtype('float64')"
      ]
     },
     "execution_count": 38,
     "metadata": {},
     "output_type": "execute_result"
    }
   ],
   "source": [
    "a.dtype"
   ]
  },
  {
   "cell_type": "markdown",
   "id": "8b24be79",
   "metadata": {},
   "source": [
    "## ADD or REMOVE elements"
   ]
  },
  {
   "cell_type": "code",
   "execution_count": 45,
   "id": "1987a9e9",
   "metadata": {},
   "outputs": [
    {
     "data": {
      "text/plain": [
       "array([ 2, 10,  7,  8,  6])"
      ]
     },
     "execution_count": 45,
     "metadata": {},
     "output_type": "execute_result"
    }
   ],
   "source": [
    "arr=np.array([2,10,7,8])\n",
    "\n",
    "# insert values to the end of the array\n",
    "# np.append(array_name,value)\n",
    "\n",
    "np.append(arr,6)"
   ]
  },
  {
   "cell_type": "code",
   "execution_count": 46,
   "id": "6223b8b2",
   "metadata": {},
   "outputs": [
    {
     "data": {
      "text/plain": [
       "array([[4, 9, 2, 7, 9],\n",
       "       [8, 3, 4, 6, 7],\n",
       "       [2, 7, 1, 4, 4],\n",
       "       [6, 9, 6, 5, 1]])"
      ]
     },
     "execution_count": 46,
     "metadata": {},
     "output_type": "execute_result"
    }
   ],
   "source": [
    "arr3"
   ]
  },
  {
   "cell_type": "code",
   "execution_count": 48,
   "id": "bba5ab63",
   "metadata": {},
   "outputs": [
    {
     "data": {
      "text/plain": [
       "array([ 4,  9,  2,  7,  9,  8,  3,  4,  6,  7,  2,  7,  1,  4,  4,  6,  9,\n",
       "        6,  5,  1, 10])"
      ]
     },
     "execution_count": 48,
     "metadata": {},
     "output_type": "execute_result"
    }
   ],
   "source": [
    "np.append(arr3,10)"
   ]
  },
  {
   "cell_type": "code",
   "execution_count": 49,
   "id": "e879b4d6",
   "metadata": {},
   "outputs": [
    {
     "data": {
      "text/plain": [
       "array([ 4,  9,  2,  7,  9,  8,  3,  4,  6,  7,  2,  7,  1,  4,  4,  6,  9,\n",
       "        6,  5,  1,  5, 10, 15])"
      ]
     },
     "execution_count": 49,
     "metadata": {},
     "output_type": "execute_result"
    }
   ],
   "source": [
    "np.append(arr3,(5,10,15))"
   ]
  },
  {
   "cell_type": "code",
   "execution_count": 50,
   "id": "7b27cb3d",
   "metadata": {},
   "outputs": [
    {
     "data": {
      "text/plain": [
       "array([ 2, 10,  3,  7,  8])"
      ]
     },
     "execution_count": 50,
     "metadata": {},
     "output_type": "execute_result"
    }
   ],
   "source": [
    "# insertn element at a particular position\n",
    "# np.insert(array_name,position,element)\n",
    "\n",
    "np.insert(arr,2,3)"
   ]
  },
  {
   "cell_type": "code",
   "execution_count": 51,
   "id": "8a6f3ecd",
   "metadata": {},
   "outputs": [
    {
     "data": {
      "text/plain": [
       "array([[3, 6, 9],\n",
       "       [4, 3, 6],\n",
       "       [8, 7, 6],\n",
       "       [4, 9, 2]])"
      ]
     },
     "execution_count": 51,
     "metadata": {},
     "output_type": "execute_result"
    }
   ],
   "source": [
    "ar"
   ]
  },
  {
   "cell_type": "code",
   "execution_count": 52,
   "id": "fa1278b3",
   "metadata": {},
   "outputs": [
    {
     "data": {
      "text/plain": [
       "array([ 3,  6, 10,  9,  4,  3,  6,  8,  7,  6,  4,  9,  2])"
      ]
     },
     "execution_count": 52,
     "metadata": {},
     "output_type": "execute_result"
    }
   ],
   "source": [
    "np.insert(ar,2,10)"
   ]
  },
  {
   "cell_type": "code",
   "execution_count": 54,
   "id": "b31d25dd",
   "metadata": {},
   "outputs": [
    {
     "data": {
      "text/plain": [
       "array([[4, 9, 2, 7, 9],\n",
       "       [8, 3, 4, 6, 7],\n",
       "       [3, 3, 3, 3, 3],\n",
       "       [2, 7, 1, 4, 4],\n",
       "       [6, 9, 6, 5, 1]])"
      ]
     },
     "execution_count": 54,
     "metadata": {},
     "output_type": "execute_result"
    }
   ],
   "source": [
    "# np.insert(array_name,position,value,axis=0/1)\n",
    "# axis 0: row\n",
    "# axis 1: column\n",
    "\n",
    "np.insert(arr3,2,3, axis=0)"
   ]
  },
  {
   "cell_type": "code",
   "execution_count": 57,
   "id": "146ccec5",
   "metadata": {},
   "outputs": [
    {
     "data": {
      "text/plain": [
       "array([[ 4, 10,  9,  2,  7,  9],\n",
       "       [ 8, 10,  3,  4,  6,  7],\n",
       "       [ 2, 10,  7,  1,  4,  4],\n",
       "       [ 6, 10,  9,  6,  5,  1]])"
      ]
     },
     "execution_count": 57,
     "metadata": {},
     "output_type": "execute_result"
    }
   ],
   "source": [
    "np.insert(arr3,1,10, axis=1)"
   ]
  },
  {
   "cell_type": "code",
   "execution_count": 59,
   "id": "81b418fa",
   "metadata": {},
   "outputs": [
    {
     "data": {
      "text/plain": [
       "array([[4, 9, 2, 7, 9],\n",
       "       [1, 2, 3, 4, 5],\n",
       "       [8, 3, 4, 6, 7],\n",
       "       [2, 7, 1, 4, 4],\n",
       "       [6, 9, 6, 5, 1]])"
      ]
     },
     "execution_count": 59,
     "metadata": {},
     "output_type": "execute_result"
    }
   ],
   "source": [
    "# to give multiple diferent numbers\n",
    "\n",
    "np.insert(arr3,1,[1,2,3,4,5],axis=0)"
   ]
  },
  {
   "cell_type": "code",
   "execution_count": 61,
   "id": "977bc5e4",
   "metadata": {},
   "outputs": [
    {
     "data": {
      "text/plain": [
       "array([[4, 9, 1, 2, 7, 9],\n",
       "       [8, 3, 2, 4, 6, 7],\n",
       "       [2, 7, 3, 1, 4, 4],\n",
       "       [6, 9, 4, 6, 5, 1]])"
      ]
     },
     "execution_count": 61,
     "metadata": {},
     "output_type": "execute_result"
    }
   ],
   "source": [
    "np.insert(arr3,2,[1,2,3,4,], axis=1)"
   ]
  },
  {
   "cell_type": "code",
   "execution_count": 62,
   "id": "c13ca373",
   "metadata": {
    "scrolled": true
   },
   "outputs": [
    {
     "data": {
      "text/plain": [
       "array([[5, 8],\n",
       "       [3, 7],\n",
       "       [1, 1]])"
      ]
     },
     "execution_count": 62,
     "metadata": {},
     "output_type": "execute_result"
    }
   ],
   "source": [
    "arr5 =np.random.randint(1,10,(3,2))\n",
    "arr5"
   ]
  },
  {
   "cell_type": "code",
   "execution_count": 63,
   "id": "dcf927ed",
   "metadata": {},
   "outputs": [
    {
     "data": {
      "text/plain": [
       "array([[5, 8],\n",
       "       [3, 7],\n",
       "       [1, 1]])"
      ]
     },
     "execution_count": 63,
     "metadata": {},
     "output_type": "execute_result"
    }
   ],
   "source": [
    "# delete element from an array\n",
    "\n",
    "#  np.delete(array_name,position)\n",
    "t=np.delete(arr5,4)\n",
    "arr5"
   ]
  },
  {
   "cell_type": "code",
   "execution_count": 65,
   "id": "d3f26e43",
   "metadata": {},
   "outputs": [
    {
     "data": {
      "text/plain": [
       "array([5, 8, 3, 7, 1])"
      ]
     },
     "execution_count": 65,
     "metadata": {},
     "output_type": "execute_result"
    }
   ],
   "source": [
    "t"
   ]
  },
  {
   "cell_type": "code",
   "execution_count": 67,
   "id": "197e1055",
   "metadata": {},
   "outputs": [
    {
     "data": {
      "text/plain": [
       "array([[4, 9, 2, 7, 9],\n",
       "       [8, 3, 4, 6, 7],\n",
       "       [2, 7, 1, 4, 4],\n",
       "       [6, 9, 6, 5, 1]])"
      ]
     },
     "execution_count": 67,
     "metadata": {},
     "output_type": "execute_result"
    }
   ],
   "source": [
    "arr3"
   ]
  },
  {
   "cell_type": "code",
   "execution_count": 68,
   "id": "f9b908e3",
   "metadata": {},
   "outputs": [
    {
     "data": {
      "text/plain": [
       "array([[4, 2, 7, 9],\n",
       "       [8, 4, 6, 7],\n",
       "       [2, 1, 4, 4],\n",
       "       [6, 6, 5, 1]])"
      ]
     },
     "execution_count": 68,
     "metadata": {},
     "output_type": "execute_result"
    }
   ],
   "source": [
    "# np.delete(array_name,position,row/col)\n",
    "\n",
    "np.delete(arr3,1,axis=1)"
   ]
  },
  {
   "cell_type": "code",
   "execution_count": 69,
   "id": "c04574f2",
   "metadata": {},
   "outputs": [
    {
     "data": {
      "text/plain": [
       "array([[4, 9, 2, 7, 9],\n",
       "       [8, 3, 4, 6, 7],\n",
       "       [6, 9, 6, 5, 1]])"
      ]
     },
     "execution_count": 69,
     "metadata": {},
     "output_type": "execute_result"
    }
   ],
   "source": [
    "np.delete(arr3,2,axis=0)"
   ]
  },
  {
   "cell_type": "code",
   "execution_count": 70,
   "id": "e454b885",
   "metadata": {},
   "outputs": [
    {
     "data": {
      "text/plain": [
       "array([[2, 7, 9],\n",
       "       [4, 6, 7],\n",
       "       [1, 4, 4],\n",
       "       [6, 5, 1]])"
      ]
     },
     "execution_count": 70,
     "metadata": {},
     "output_type": "execute_result"
    }
   ],
   "source": [
    "# np.delete(array_name, (tuple of row/column indices to delete), axis=0/1)\n",
    "# drelete multiple rows and column\n",
    "\n",
    "np.delete(arr3,(1,0),axis=1)"
   ]
  },
  {
   "cell_type": "code",
   "execution_count": 72,
   "id": "dd0cb19d",
   "metadata": {},
   "outputs": [
    {
     "data": {
      "text/plain": [
       "array([[4, 9, 2, 7, 9],\n",
       "       [6, 9, 6, 5, 1]])"
      ]
     },
     "execution_count": 72,
     "metadata": {},
     "output_type": "execute_result"
    }
   ],
   "source": [
    "np.delete(arr3,(1,2), axis=0)"
   ]
  },
  {
   "cell_type": "code",
   "execution_count": 76,
   "id": "a50ecbd3",
   "metadata": {},
   "outputs": [],
   "source": [
    "a=np.array([3,2,7])\n",
    "b=np.copy(a)"
   ]
  },
  {
   "cell_type": "code",
   "execution_count": 77,
   "id": "220f4668",
   "metadata": {},
   "outputs": [
    {
     "data": {
      "text/plain": [
       "array([3, 2, 7])"
      ]
     },
     "execution_count": 77,
     "metadata": {},
     "output_type": "execute_result"
    }
   ],
   "source": [
    "b"
   ]
  },
  {
   "cell_type": "code",
   "execution_count": 78,
   "id": "7f77959a",
   "metadata": {},
   "outputs": [],
   "source": [
    "# creates a copy of  an array\n",
    "b=a.copy()"
   ]
  },
  {
   "cell_type": "code",
   "execution_count": 79,
   "id": "cca8fb1e",
   "metadata": {},
   "outputs": [
    {
     "data": {
      "text/plain": [
       "array([3, 2, 7])"
      ]
     },
     "execution_count": 79,
     "metadata": {},
     "output_type": "execute_result"
    }
   ],
   "source": [
    "b"
   ]
  },
  {
   "cell_type": "code",
   "execution_count": 80,
   "id": "99c8dc91",
   "metadata": {},
   "outputs": [
    {
     "data": {
      "text/plain": [
       "array([2, 4, 8])"
      ]
     },
     "execution_count": 80,
     "metadata": {},
     "output_type": "execute_result"
    }
   ],
   "source": [
    "# returns a new sorted array-ascending\n",
    "a=np.array([4,2,8])\n",
    "sorted_a= np.sort(a)     # USING sort() as a Function \n",
    "sorted_a"
   ]
  },
  {
   "cell_type": "code",
   "execution_count": 81,
   "id": "76b33eb9",
   "metadata": {},
   "outputs": [
    {
     "data": {
      "text/plain": [
       "array([4, 2, 8])"
      ]
     },
     "execution_count": 81,
     "metadata": {},
     "output_type": "execute_result"
    }
   ],
   "source": [
    "a    # a dont change with the abouve operation. A new array is created"
   ]
  },
  {
   "cell_type": "code",
   "execution_count": 82,
   "id": "44693281",
   "metadata": {},
   "outputs": [
    {
     "data": {
      "text/plain": [
       "array([8, 4, 2])"
      ]
     },
     "execution_count": 82,
     "metadata": {},
     "output_type": "execute_result"
    }
   ],
   "source": [
    "# descending sorting \n",
    "\n",
    "np.sort(a)[::-1]"
   ]
  },
  {
   "cell_type": "code",
   "execution_count": 83,
   "id": "38aeaa74",
   "metadata": {},
   "outputs": [
    {
     "data": {
      "text/plain": [
       "array([4, 2, 8])"
      ]
     },
     "execution_count": 83,
     "metadata": {},
     "output_type": "execute_result"
    }
   ],
   "source": [
    "a"
   ]
  },
  {
   "cell_type": "code",
   "execution_count": 84,
   "id": "1a6d9d2f",
   "metadata": {},
   "outputs": [],
   "source": [
    "a.sort()   # sort() as method"
   ]
  },
  {
   "cell_type": "code",
   "execution_count": 85,
   "id": "fdedacb9",
   "metadata": {},
   "outputs": [
    {
     "data": {
      "text/plain": [
       "array([2, 4, 8])"
      ]
     },
     "execution_count": 85,
     "metadata": {},
     "output_type": "execute_result"
    }
   ],
   "source": [
    "a"
   ]
  },
  {
   "cell_type": "code",
   "execution_count": 87,
   "id": "219777e1",
   "metadata": {},
   "outputs": [
    {
     "data": {
      "text/plain": [
       "array([8, 4, 2])"
      ]
     },
     "execution_count": 87,
     "metadata": {},
     "output_type": "execute_result"
    }
   ],
   "source": [
    "a[::-1].sort()   #this chamges 'a' -- using sort() as a method\n",
    "a"
   ]
  },
  {
   "cell_type": "markdown",
   "id": "fafca1a2",
   "metadata": {},
   "source": [
    "## 16-05-23"
   ]
  },
  {
   "cell_type": "markdown",
   "id": "ab402ebe",
   "metadata": {},
   "source": [
    "## stacking of arrays"
   ]
  },
  {
   "cell_type": "code",
   "execution_count": 19,
   "id": "c9ebded6",
   "metadata": {},
   "outputs": [],
   "source": [
    "import numpy as np"
   ]
  },
  {
   "cell_type": "code",
   "execution_count": 4,
   "id": "0fd00182",
   "metadata": {},
   "outputs": [],
   "source": [
    "arr1=np.array([[1,2,3],[7,8,9],[4,5,6]])\n",
    "arr2=np.array([[4,7,-9],[2,4,6],[9,8,-7]])\n",
    "arr3=np.array([[3,2,1],[6,5,4],[0,1,0]])"
   ]
  },
  {
   "cell_type": "code",
   "execution_count": 5,
   "id": "b3e7dd8f",
   "metadata": {},
   "outputs": [
    {
     "data": {
      "text/plain": [
       "array([[1, 2, 3],\n",
       "       [7, 8, 9],\n",
       "       [4, 5, 6]])"
      ]
     },
     "execution_count": 5,
     "metadata": {},
     "output_type": "execute_result"
    }
   ],
   "source": [
    "arr1"
   ]
  },
  {
   "cell_type": "code",
   "execution_count": 6,
   "id": "62c9e9e9",
   "metadata": {},
   "outputs": [
    {
     "data": {
      "text/plain": [
       "array([[ 4,  7, -9],\n",
       "       [ 2,  4,  6],\n",
       "       [ 9,  8, -7]])"
      ]
     },
     "execution_count": 6,
     "metadata": {},
     "output_type": "execute_result"
    }
   ],
   "source": [
    "arr2"
   ]
  },
  {
   "cell_type": "code",
   "execution_count": 7,
   "id": "4f34f6c4",
   "metadata": {},
   "outputs": [
    {
     "data": {
      "text/plain": [
       "array([[3, 2, 1],\n",
       "       [6, 5, 4],\n",
       "       [0, 1, 0]])"
      ]
     },
     "execution_count": 7,
     "metadata": {},
     "output_type": "execute_result"
    }
   ],
   "source": [
    "arr3"
   ]
  },
  {
   "cell_type": "code",
   "execution_count": 9,
   "id": "9d28a87e",
   "metadata": {},
   "outputs": [
    {
     "data": {
      "text/plain": [
       "array([[ 1,  2,  3],\n",
       "       [ 7,  8,  9],\n",
       "       [ 4,  5,  6],\n",
       "       [ 4,  7, -9],\n",
       "       [ 2,  4,  6],\n",
       "       [ 9,  8, -7],\n",
       "       [ 3,  2,  1],\n",
       "       [ 6,  5,  4],\n",
       "       [ 0,  1,  0]])"
      ]
     },
     "execution_count": 9,
     "metadata": {},
     "output_type": "execute_result"
    }
   ],
   "source": [
    "# vertikle stacking\n",
    "np.vstack([arr1,arr2,arr3])"
   ]
  },
  {
   "cell_type": "code",
   "execution_count": 10,
   "id": "6a9f06c2",
   "metadata": {},
   "outputs": [
    {
     "data": {
      "text/plain": [
       "array([[ 1,  2,  3],\n",
       "       [ 7,  8,  9],\n",
       "       [ 4,  5,  6],\n",
       "       [ 4,  7, -9],\n",
       "       [ 2,  4,  6],\n",
       "       [ 9,  8, -7]])"
      ]
     },
     "execution_count": 10,
     "metadata": {},
     "output_type": "execute_result"
    }
   ],
   "source": [
    "# same as vstack\n",
    "\n",
    "np.concatenate([arr1,arr2],axis=0)\n"
   ]
  },
  {
   "cell_type": "code",
   "execution_count": 13,
   "id": "80588b31",
   "metadata": {},
   "outputs": [
    {
     "data": {
      "text/plain": [
       "array([[ 1,  2,  3],\n",
       "       [ 7,  8,  9],\n",
       "       [ 4,  5,  6],\n",
       "       [ 4,  7, -9],\n",
       "       [ 2,  4,  6],\n",
       "       [ 9,  8, -7],\n",
       "       [ 3,  2,  1],\n",
       "       [ 6,  5,  4],\n",
       "       [ 0,  1,  0]])"
      ]
     },
     "execution_count": 13,
     "metadata": {},
     "output_type": "execute_result"
    }
   ],
   "source": [
    "np.concatenate([arr1,arr2,arr3],axis=0)"
   ]
  },
  {
   "cell_type": "code",
   "execution_count": 11,
   "id": "4e290be3",
   "metadata": {},
   "outputs": [
    {
     "data": {
      "text/plain": [
       "array([[ 1,  2,  3,  4,  7, -9],\n",
       "       [ 7,  8,  9,  2,  4,  6],\n",
       "       [ 4,  5,  6,  9,  8, -7]])"
      ]
     },
     "execution_count": 11,
     "metadata": {},
     "output_type": "execute_result"
    }
   ],
   "source": [
    "# horizontal stacking\n",
    "np.hstack([arr1,arr2])"
   ]
  },
  {
   "cell_type": "code",
   "execution_count": 12,
   "id": "9e166df9",
   "metadata": {},
   "outputs": [
    {
     "data": {
      "text/plain": [
       "array([[ 1,  2,  3,  4,  7, -9,  3,  2,  1],\n",
       "       [ 7,  8,  9,  2,  4,  6,  6,  5,  4],\n",
       "       [ 4,  5,  6,  9,  8, -7,  0,  1,  0]])"
      ]
     },
     "execution_count": 12,
     "metadata": {},
     "output_type": "execute_result"
    }
   ],
   "source": [
    "np.hstack([arr1,arr2,arr3])"
   ]
  },
  {
   "cell_type": "code",
   "execution_count": 14,
   "id": "c65f2a23",
   "metadata": {},
   "outputs": [
    {
     "data": {
      "text/plain": [
       "array([1, 2, 3, 7, 8, 9, 4, 5, 6])"
      ]
     },
     "execution_count": 14,
     "metadata": {},
     "output_type": "execute_result"
    }
   ],
   "source": [
    "# to convert to single dimensional array\n",
    "arr1.ravel()"
   ]
  },
  {
   "cell_type": "markdown",
   "id": "fa5f4554",
   "metadata": {},
   "source": [
    "### numpy slicing"
   ]
  },
  {
   "cell_type": "code",
   "execution_count": 15,
   "id": "3cb75aa9",
   "metadata": {},
   "outputs": [],
   "source": [
    "# arr[row,col]\n",
    "# arr[start:stop:step,  start:stop:step]\n"
   ]
  },
  {
   "cell_type": "raw",
   "id": "7869690b",
   "metadata": {},
   "source": []
  },
  {
   "cell_type": "code",
   "execution_count": 16,
   "id": "cfb83b80",
   "metadata": {},
   "outputs": [
    {
     "data": {
      "text/plain": [
       "array([[2, 1, 2, 1],\n",
       "       [4, 5, 3, 0],\n",
       "       [9, 8, 1, 1]])"
      ]
     },
     "execution_count": 16,
     "metadata": {},
     "output_type": "execute_result"
    }
   ],
   "source": [
    "arr9=np.array([[2,1,2,1],[4,5,3,0],[9,8,1,1]])\n",
    "arr9"
   ]
  },
  {
   "cell_type": "code",
   "execution_count": 23,
   "id": "0d234d13",
   "metadata": {},
   "outputs": [
    {
     "data": {
      "text/plain": [
       "array([3, 9, 1])"
      ]
     },
     "execution_count": 23,
     "metadata": {},
     "output_type": "execute_result"
    }
   ],
   "source": [
    "arr[[row],[col]]\n",
    "\n",
    "arr9[[1,2,2],[2,0,3]]   #selecting random numbers 1st,select random number rows and 2nd, select random number column"
   ]
  },
  {
   "cell_type": "code",
   "execution_count": 24,
   "id": "b9263b4e",
   "metadata": {},
   "outputs": [
    {
     "data": {
      "text/plain": [
       "array([[2, 1, 2, 1],\n",
       "       [4, 5, 3, 0],\n",
       "       [9, 8, 1, 1],\n",
       "       [6, 4, 2, 2]])"
      ]
     },
     "execution_count": 24,
     "metadata": {},
     "output_type": "execute_result"
    }
   ],
   "source": [
    "arr1=np.array([[2,1,2,1],[4,5,3,0],[9,8,1,1],[6,4,2,2]])\n",
    "arr1"
   ]
  },
  {
   "cell_type": "code",
   "execution_count": 25,
   "id": "f4436223",
   "metadata": {},
   "outputs": [
    {
     "data": {
      "text/plain": [
       "array([[4, 5, 3, 0],\n",
       "       [6, 4, 2, 2]])"
      ]
     },
     "execution_count": 25,
     "metadata": {},
     "output_type": "execute_result"
    }
   ],
   "source": [
    "arr1[1::2,:]"
   ]
  },
  {
   "cell_type": "code",
   "execution_count": 29,
   "id": "1e579ca1",
   "metadata": {},
   "outputs": [
    {
     "data": {
      "text/plain": [
       "array([[9, 8, 1, 1]])"
      ]
     },
     "execution_count": 29,
     "metadata": {},
     "output_type": "execute_result"
    }
   ],
   "source": [
    "arr1[2:3,:]"
   ]
  },
  {
   "cell_type": "code",
   "execution_count": 31,
   "id": "29688d28",
   "metadata": {},
   "outputs": [
    {
     "data": {
      "text/plain": [
       "array([[ 3,  4, -1,  0,  8],\n",
       "       [ 3,  5,  7,  6,  2],\n",
       "       [-1,  0,  9,  4,  8],\n",
       "       [ 6,  7, -2,  0,  1]])"
      ]
     },
     "execution_count": 31,
     "metadata": {},
     "output_type": "execute_result"
    }
   ],
   "source": [
    "arr1=np.array([[3,4,-1,0,8],[3,5,7,6,2],[-1,0,9,4,8],[6,7,-2,0,1]])\n",
    "arr1"
   ]
  },
  {
   "cell_type": "code",
   "execution_count": 33,
   "id": "c48c02cd",
   "metadata": {},
   "outputs": [
    {
     "data": {
      "text/plain": [
       "array([[ 3,  7,  2],\n",
       "       [ 6, -2,  1]])"
      ]
     },
     "execution_count": 33,
     "metadata": {},
     "output_type": "execute_result"
    }
   ],
   "source": [
    "arr1[1::2,0::2]"
   ]
  },
  {
   "cell_type": "markdown",
   "id": "901c5cf4",
   "metadata": {},
   "source": [
    "#### chess board"
   ]
  },
  {
   "cell_type": "code",
   "execution_count": 45,
   "id": "4413ce64",
   "metadata": {},
   "outputs": [
    {
     "data": {
      "text/plain": [
       "array([[0., 0., 0., 0., 0., 0., 0., 0.],\n",
       "       [0., 0., 0., 0., 0., 0., 0., 0.],\n",
       "       [0., 0., 0., 0., 0., 0., 0., 0.],\n",
       "       [0., 0., 0., 0., 0., 0., 0., 0.],\n",
       "       [0., 0., 0., 0., 0., 0., 0., 0.],\n",
       "       [0., 0., 0., 0., 0., 0., 0., 0.],\n",
       "       [0., 0., 0., 0., 0., 0., 0., 0.],\n",
       "       [0., 0., 0., 0., 0., 0., 0., 0.]])"
      ]
     },
     "execution_count": 45,
     "metadata": {},
     "output_type": "execute_result"
    }
   ],
   "source": [
    "c=np.zeros([8,8])\n",
    "c"
   ]
  },
  {
   "cell_type": "code",
   "execution_count": 46,
   "id": "ca6a1265",
   "metadata": {},
   "outputs": [
    {
     "data": {
      "text/plain": [
       "array([[1., 0., 1., 0., 1., 0., 1., 0.],\n",
       "       [0., 0., 0., 0., 0., 0., 0., 0.],\n",
       "       [1., 0., 1., 0., 1., 0., 1., 0.],\n",
       "       [0., 0., 0., 0., 0., 0., 0., 0.],\n",
       "       [1., 0., 1., 0., 1., 0., 1., 0.],\n",
       "       [0., 0., 0., 0., 0., 0., 0., 0.],\n",
       "       [1., 0., 1., 0., 1., 0., 1., 0.],\n",
       "       [0., 0., 0., 0., 0., 0., 0., 0.]])"
      ]
     },
     "execution_count": 46,
     "metadata": {},
     "output_type": "execute_result"
    }
   ],
   "source": [
    "c[0::2,0::2]=1\n",
    "c"
   ]
  },
  {
   "cell_type": "code",
   "execution_count": 48,
   "id": "cb3bde99",
   "metadata": {},
   "outputs": [
    {
     "data": {
      "text/plain": [
       "array([[1., 0., 1., 0., 1., 0., 1., 0.],\n",
       "       [0., 1., 0., 1., 0., 1., 0., 1.],\n",
       "       [1., 0., 1., 0., 1., 0., 1., 0.],\n",
       "       [0., 1., 0., 1., 0., 1., 0., 1.],\n",
       "       [1., 0., 1., 0., 1., 0., 1., 0.],\n",
       "       [0., 1., 0., 1., 0., 1., 0., 1.],\n",
       "       [1., 0., 1., 0., 1., 0., 1., 0.],\n",
       "       [0., 1., 0., 1., 0., 1., 0., 1.]])"
      ]
     },
     "execution_count": 48,
     "metadata": {},
     "output_type": "execute_result"
    }
   ],
   "source": [
    "c[1::2,1::2]=1\n",
    "c"
   ]
  },
  {
   "cell_type": "code",
   "execution_count": 50,
   "id": "7bff5995",
   "metadata": {},
   "outputs": [
    {
     "data": {
      "text/plain": [
       "array([[1, 0, 1, 0, 1, 0, 1, 0],\n",
       "       [0, 1, 0, 1, 0, 1, 0, 1],\n",
       "       [1, 0, 1, 0, 1, 0, 1, 0],\n",
       "       [0, 1, 0, 1, 0, 1, 0, 1],\n",
       "       [1, 0, 1, 0, 1, 0, 1, 0],\n",
       "       [0, 1, 0, 1, 0, 1, 0, 1],\n",
       "       [1, 0, 1, 0, 1, 0, 1, 0],\n",
       "       [0, 1, 0, 1, 0, 1, 0, 1]])"
      ]
     },
     "execution_count": 50,
     "metadata": {},
     "output_type": "execute_result"
    }
   ],
   "source": [
    "x=c.astype('int')\n",
    "x"
   ]
  },
  {
   "cell_type": "markdown",
   "id": "ce2f3c16",
   "metadata": {},
   "source": [
    "## array arithmetic operations"
   ]
  },
  {
   "cell_type": "code",
   "execution_count": 53,
   "id": "0b7870b6",
   "metadata": {},
   "outputs": [
    {
     "data": {
      "text/plain": [
       "array([[3, 2, 1],\n",
       "       [6, 5, 4],\n",
       "       [0, 1, 0]])"
      ]
     },
     "execution_count": 53,
     "metadata": {},
     "output_type": "execute_result"
    }
   ],
   "source": [
    "arr3"
   ]
  },
  {
   "cell_type": "code",
   "execution_count": 55,
   "id": "b9e71ada",
   "metadata": {},
   "outputs": [
    {
     "data": {
      "text/plain": [
       "array([[ 4,  7, -9],\n",
       "       [ 2,  4,  6],\n",
       "       [ 9,  8, -7]])"
      ]
     },
     "execution_count": 55,
     "metadata": {},
     "output_type": "execute_result"
    }
   ],
   "source": [
    "arr2"
   ]
  },
  {
   "cell_type": "code",
   "execution_count": 57,
   "id": "96d085e7",
   "metadata": {},
   "outputs": [
    {
     "data": {
      "text/plain": [
       "array([[12, 14, -9],\n",
       "       [12, 20, 24],\n",
       "       [ 0,  8,  0]])"
      ]
     },
     "execution_count": 57,
     "metadata": {},
     "output_type": "execute_result"
    }
   ],
   "source": [
    "# element wise multiplication             should match row and col bt arrays\n",
    "\n",
    "arr3*arr2\n"
   ]
  },
  {
   "cell_type": "code",
   "execution_count": 58,
   "id": "8d3fa618",
   "metadata": {},
   "outputs": [
    {
     "data": {
      "text/plain": [
       "array([[ 25,  37, -22],\n",
       "       [ 70,  94, -52],\n",
       "       [  2,   4,   6]])"
      ]
     },
     "execution_count": 58,
     "metadata": {},
     "output_type": "execute_result"
    }
   ],
   "source": [
    "# matrix multiplication\n",
    "# row count and col count must be match\n",
    "np.matmul(arr3,arr2)\n"
   ]
  },
  {
   "cell_type": "code",
   "execution_count": 59,
   "id": "3d0b633a",
   "metadata": {},
   "outputs": [],
   "source": [
    "a=np.ones((2,3))\n",
    "b=np.full((3,2),5)\n",
    "c=np.full((2,3),5)"
   ]
  },
  {
   "cell_type": "code",
   "execution_count": 60,
   "id": "6fd32ef2",
   "metadata": {},
   "outputs": [
    {
     "data": {
      "text/plain": [
       "array([[1., 1., 1.],\n",
       "       [1., 1., 1.]])"
      ]
     },
     "execution_count": 60,
     "metadata": {},
     "output_type": "execute_result"
    }
   ],
   "source": [
    "a"
   ]
  },
  {
   "cell_type": "code",
   "execution_count": 61,
   "id": "05e1aeae",
   "metadata": {},
   "outputs": [
    {
     "data": {
      "text/plain": [
       "array([[5, 5],\n",
       "       [5, 5],\n",
       "       [5, 5]])"
      ]
     },
     "execution_count": 61,
     "metadata": {},
     "output_type": "execute_result"
    }
   ],
   "source": [
    "b"
   ]
  },
  {
   "cell_type": "code",
   "execution_count": 62,
   "id": "8ae1f04b",
   "metadata": {},
   "outputs": [
    {
     "data": {
      "text/plain": [
       "array([[5, 5, 5],\n",
       "       [5, 5, 5]])"
      ]
     },
     "execution_count": 62,
     "metadata": {},
     "output_type": "execute_result"
    }
   ],
   "source": [
    "c"
   ]
  },
  {
   "cell_type": "code",
   "execution_count": 63,
   "id": "66a74d84",
   "metadata": {},
   "outputs": [
    {
     "data": {
      "text/plain": [
       "array([[15., 15.],\n",
       "       [15., 15.]])"
      ]
     },
     "execution_count": 63,
     "metadata": {},
     "output_type": "execute_result"
    }
   ],
   "source": [
    "np.matmul(a,b)"
   ]
  },
  {
   "cell_type": "code",
   "execution_count": 65,
   "id": "f4c4a248",
   "metadata": {},
   "outputs": [
    {
     "data": {
      "text/plain": [
       "array([[50, 50, 50],\n",
       "       [50, 50, 50],\n",
       "       [50, 50, 50]])"
      ]
     },
     "execution_count": 65,
     "metadata": {},
     "output_type": "execute_result"
    }
   ],
   "source": [
    "np.matmul(b,c)"
   ]
  },
  {
   "cell_type": "code",
   "execution_count": 66,
   "id": "9e506b22",
   "metadata": {},
   "outputs": [
    {
     "data": {
      "text/plain": [
       "array([[10., 10., 10.],\n",
       "       [10., 10., 10.],\n",
       "       [10., 10., 10.]])"
      ]
     },
     "execution_count": 66,
     "metadata": {},
     "output_type": "execute_result"
    }
   ],
   "source": [
    "np.matmul(b,a)"
   ]
  },
  {
   "cell_type": "code",
   "execution_count": 67,
   "id": "9a2c0067",
   "metadata": {},
   "outputs": [
    {
     "data": {
      "text/plain": [
       "array([[ 3,  4, -1,  0,  8],\n",
       "       [ 3,  5,  7,  6,  2],\n",
       "       [-1,  0,  9,  4,  8],\n",
       "       [ 6,  7, -2,  0,  1]])"
      ]
     },
     "execution_count": 67,
     "metadata": {},
     "output_type": "execute_result"
    }
   ],
   "source": [
    "arr1"
   ]
  },
  {
   "cell_type": "code",
   "execution_count": 68,
   "id": "af82ad4b",
   "metadata": {},
   "outputs": [
    {
     "data": {
      "text/plain": [
       "9"
      ]
     },
     "execution_count": 68,
     "metadata": {},
     "output_type": "execute_result"
    }
   ],
   "source": [
    "np.max(arr1)"
   ]
  },
  {
   "cell_type": "code",
   "execution_count": 69,
   "id": "0b55f575",
   "metadata": {},
   "outputs": [
    {
     "data": {
      "text/plain": [
       "-2"
      ]
     },
     "execution_count": 69,
     "metadata": {},
     "output_type": "execute_result"
    }
   ],
   "source": [
    "np.min(arr1)"
   ]
  },
  {
   "cell_type": "code",
   "execution_count": 70,
   "id": "549050f5",
   "metadata": {},
   "outputs": [
    {
     "data": {
      "text/plain": [
       "array([6, 7, 9, 6, 8])"
      ]
     },
     "execution_count": 70,
     "metadata": {},
     "output_type": "execute_result"
    }
   ],
   "source": [
    "np.max(arr1,axis=0)"
   ]
  },
  {
   "cell_type": "code",
   "execution_count": 71,
   "id": "01828f82",
   "metadata": {},
   "outputs": [
    {
     "data": {
      "text/plain": [
       "array([-1,  2, -1, -2])"
      ]
     },
     "execution_count": 71,
     "metadata": {},
     "output_type": "execute_result"
    }
   ],
   "source": [
    "np.min(arr1,axis=1)"
   ]
  },
  {
   "cell_type": "code",
   "execution_count": 73,
   "id": "00909715",
   "metadata": {},
   "outputs": [
    {
     "data": {
      "text/plain": [
       "12"
      ]
     },
     "execution_count": 73,
     "metadata": {},
     "output_type": "execute_result"
    }
   ],
   "source": [
    "np.sum([2,4,6])"
   ]
  },
  {
   "cell_type": "code",
   "execution_count": 74,
   "id": "dc912945",
   "metadata": {},
   "outputs": [
    {
     "data": {
      "text/plain": [
       "69"
      ]
     },
     "execution_count": 74,
     "metadata": {},
     "output_type": "execute_result"
    }
   ],
   "source": [
    "np.sum(arr1)"
   ]
  },
  {
   "cell_type": "code",
   "execution_count": 17,
   "id": "295e0866",
   "metadata": {},
   "outputs": [
    {
     "data": {
      "text/plain": [
       "5"
      ]
     },
     "execution_count": 17,
     "metadata": {},
     "output_type": "execute_result"
    }
   ],
   "source": [
    "arr1"
   ]
  },
  {
   "cell_type": "markdown",
   "id": "c5ebdd65",
   "metadata": {},
   "source": [
    "## Loading Text Files"
   ]
  },
  {
   "cell_type": "code",
   "execution_count": 76,
   "id": "cfda7ff7",
   "metadata": {},
   "outputs": [
    {
     "data": {
      "text/plain": [
       "\"C:\\\\Users\\\\SHIBIN's\\\\ML_Libraries\\\\Numpy\""
      ]
     },
     "execution_count": 76,
     "metadata": {},
     "output_type": "execute_result"
    }
   ],
   "source": [
    "# get current working directory\n",
    "import os\n",
    "os.getcwd()   "
   ]
  },
  {
   "cell_type": "code",
   "execution_count": 88,
   "id": "02f3a3f7",
   "metadata": {},
   "outputs": [
    {
     "data": {
      "text/plain": [
       "array([[1., 2., 3., 4., 5., 6., 7., 8., 9.],\n",
       "       [4., 5., 6., 7., 7., 8., 3., 5., 3.],\n",
       "       [2., 3., 5., 6., 4., 3., 2., 1., 4.],\n",
       "       [2., 4., 5., 3., 5., 3., 5., 3., 5.]])"
      ]
     },
     "execution_count": 88,
     "metadata": {},
     "output_type": "execute_result"
    }
   ],
   "source": [
    "data= np.genfromtxt(r\"C:\\Users\\SHIBIN's\\Downloads\\abc.txt\", delimiter=',')\n",
    "data                  "
   ]
  },
  {
   "cell_type": "code",
   "execution_count": 14,
   "id": "306e86fc",
   "metadata": {},
   "outputs": [
    {
     "data": {
      "text/plain": [
       "array([[1., 2., 3., 4., 5., 6., 7., 8., 9.],\n",
       "       [4., 5., 6., 7., 7., 8., 3., 5., 3.],\n",
       "       [2., 3., 5., 6., 4., 3., 2., 1., 4.],\n",
       "       [2., 4., 5., 3., 5., 3., 5., 3., 5.]])"
      ]
     },
     "execution_count": 14,
     "metadata": {},
     "output_type": "execute_result"
    }
   ],
   "source": [
    "data=np.genfromtxt('abc.txt',delimiter=',')\n",
    "data"
   ]
  },
  {
   "cell_type": "markdown",
   "id": "5819b659",
   "metadata": {},
   "source": [
    "## 22-05-23"
   ]
  },
  {
   "cell_type": "markdown",
   "id": "34dd2c3f",
   "metadata": {},
   "source": [
    "## boolean masking"
   ]
  },
  {
   "cell_type": "code",
   "execution_count": 2,
   "id": "b4058878",
   "metadata": {},
   "outputs": [],
   "source": [
    "import numpy as np"
   ]
  },
  {
   "cell_type": "code",
   "execution_count": 16,
   "id": "6b8dff9d",
   "metadata": {},
   "outputs": [
    {
     "data": {
      "text/plain": [
       "array([[False, False, False, False, False,  True,  True,  True,  True],\n",
       "       [False, False,  True,  True,  True,  True, False, False, False],\n",
       "       [False, False, False,  True, False, False, False, False, False],\n",
       "       [False, False, False, False, False, False, False, False, False]])"
      ]
     },
     "execution_count": 16,
     "metadata": {},
     "output_type": "execute_result"
    }
   ],
   "source": [
    "data>5"
   ]
  },
  {
   "cell_type": "code",
   "execution_count": 18,
   "id": "0525802a",
   "metadata": {},
   "outputs": [
    {
     "data": {
      "text/plain": [
       "array([[False, False, False, False,  True,  True,  True,  True,  True],\n",
       "       [False,  True,  True,  True,  True,  True, False,  True, False],\n",
       "       [False, False,  True,  True, False, False, False, False, False],\n",
       "       [False, False,  True, False,  True, False,  True, False,  True]])"
      ]
     },
     "execution_count": 18,
     "metadata": {},
     "output_type": "execute_result"
    }
   ],
   "source": [
    "data>=5"
   ]
  },
  {
   "cell_type": "code",
   "execution_count": 19,
   "id": "fc91b42a",
   "metadata": {},
   "outputs": [
    {
     "data": {
      "text/plain": [
       "array([[False, False, False, False,  True, False, False, False, False],\n",
       "       [False,  True, False, False, False, False, False,  True, False],\n",
       "       [False, False,  True, False, False, False, False, False, False],\n",
       "       [False, False,  True, False,  True, False,  True, False,  True]])"
      ]
     },
     "execution_count": 19,
     "metadata": {},
     "output_type": "execute_result"
    }
   ],
   "source": [
    "data==5"
   ]
  },
  {
   "cell_type": "code",
   "execution_count": 20,
   "id": "4e5cb362",
   "metadata": {},
   "outputs": [
    {
     "data": {
      "text/plain": [
       "array([[ True,  True,  True,  True,  True, False, False, False, False],\n",
       "       [ True,  True, False, False, False, False,  True,  True,  True],\n",
       "       [ True,  True,  True, False,  True,  True,  True,  True,  True],\n",
       "       [ True,  True,  True,  True,  True,  True,  True,  True,  True]])"
      ]
     },
     "execution_count": 20,
     "metadata": {},
     "output_type": "execute_result"
    }
   ],
   "source": [
    "data<=5"
   ]
  },
  {
   "cell_type": "code",
   "execution_count": 21,
   "id": "996fe3e3",
   "metadata": {},
   "outputs": [
    {
     "data": {
      "text/plain": [
       "array([False, False, False, False])"
      ]
     },
     "execution_count": 21,
     "metadata": {},
     "output_type": "execute_result"
    }
   ],
   "source": [
    "np.all(data>5, axis=1)"
   ]
  },
  {
   "cell_type": "code",
   "execution_count": 22,
   "id": "455cb034",
   "metadata": {},
   "outputs": [
    {
     "data": {
      "text/plain": [
       "array([[1., 2., 3., 4., 5., 6., 7., 8., 9.],\n",
       "       [4., 5., 6., 7., 7., 8., 3., 5., 3.],\n",
       "       [2., 3., 5., 6., 4., 3., 2., 1., 4.],\n",
       "       [2., 4., 5., 3., 5., 3., 5., 3., 5.]])"
      ]
     },
     "execution_count": 22,
     "metadata": {},
     "output_type": "execute_result"
    }
   ],
   "source": [
    "data"
   ]
  },
  {
   "cell_type": "code",
   "execution_count": 23,
   "id": "fab440fd",
   "metadata": {},
   "outputs": [
    {
     "data": {
      "text/plain": [
       "array([ True,  True,  True, False])"
      ]
     },
     "execution_count": 23,
     "metadata": {},
     "output_type": "execute_result"
    }
   ],
   "source": [
    "np.any(data>5, axis=1)"
   ]
  },
  {
   "cell_type": "markdown",
   "id": "e7656a0a",
   "metadata": {},
   "source": [
    "### conditional selection"
   ]
  },
  {
   "cell_type": "code",
   "execution_count": 25,
   "id": "bdeeb6b8",
   "metadata": {},
   "outputs": [
    {
     "data": {
      "text/plain": [
       "array([[1., 2., 3., 4., 5., 6., 7., 8., 9.],\n",
       "       [4., 5., 6., 7., 7., 8., 3., 5., 3.],\n",
       "       [2., 3., 5., 6., 4., 3., 2., 1., 4.],\n",
       "       [2., 4., 5., 3., 5., 3., 5., 3., 5.]])"
      ]
     },
     "execution_count": 25,
     "metadata": {},
     "output_type": "execute_result"
    }
   ],
   "source": [
    "data"
   ]
  },
  {
   "cell_type": "code",
   "execution_count": 26,
   "id": "f84a5ecd",
   "metadata": {},
   "outputs": [
    {
     "data": {
      "text/plain": [
       "array([6., 7., 8., 9., 6., 7., 7., 8., 6.])"
      ]
     },
     "execution_count": 26,
     "metadata": {},
     "output_type": "execute_result"
    }
   ],
   "source": [
    "data[data>5]"
   ]
  },
  {
   "cell_type": "code",
   "execution_count": 28,
   "id": "2cf18f3b",
   "metadata": {},
   "outputs": [
    {
     "data": {
      "text/plain": [
       "array([6., 7., 6., 7., 7., 6.])"
      ]
     },
     "execution_count": 28,
     "metadata": {},
     "output_type": "execute_result"
    }
   ],
   "source": [
    "data[((data>5) & (data<8))]"
   ]
  },
  {
   "cell_type": "code",
   "execution_count": 32,
   "id": "bb63cb01",
   "metadata": {},
   "outputs": [
    {
     "data": {
      "text/plain": [
       "array([2., 4., 6., 8., 4., 6., 8., 2., 6., 4., 2., 4., 2., 4.])"
      ]
     },
     "execution_count": 32,
     "metadata": {},
     "output_type": "execute_result"
    }
   ],
   "source": [
    "data[data%2==0]"
   ]
  },
  {
   "cell_type": "code",
   "execution_count": 33,
   "id": "4bfbb8ce",
   "metadata": {},
   "outputs": [
    {
     "data": {
      "text/plain": [
       "array([1., 3., 5., 7., 9., 5., 7., 7., 3., 5., 3., 3., 5., 3., 1., 5., 3.,\n",
       "       5., 3., 5., 3., 5.])"
      ]
     },
     "execution_count": 33,
     "metadata": {},
     "output_type": "execute_result"
    }
   ],
   "source": [
    "data[data%2==1]"
   ]
  },
  {
   "cell_type": "code",
   "execution_count": 34,
   "id": "6572ffa6",
   "metadata": {},
   "outputs": [
    {
     "data": {
      "text/plain": [
       "array([5., 5., 5., 5., 5., 5., 5., 5.])"
      ]
     },
     "execution_count": 34,
     "metadata": {},
     "output_type": "execute_result"
    }
   ],
   "source": [
    "data[data==5]"
   ]
  },
  {
   "cell_type": "code",
   "execution_count": 35,
   "id": "cd5af98c",
   "metadata": {},
   "outputs": [
    {
     "data": {
      "text/plain": [
       "array([[1., 2., 3., 4., 5., 6., 7., 8., 9.],\n",
       "       [4., 5., 6., 7., 7., 8., 3., 5., 3.],\n",
       "       [2., 3., 5., 6., 4., 3., 2., 1., 4.],\n",
       "       [2., 4., 5., 3., 5., 3., 5., 3., 5.]])"
      ]
     },
     "execution_count": 35,
     "metadata": {},
     "output_type": "execute_result"
    }
   ],
   "source": [
    "data"
   ]
  },
  {
   "cell_type": "code",
   "execution_count": 40,
   "id": "5a2a7acf",
   "metadata": {},
   "outputs": [
    {
     "data": {
      "text/plain": [
       "[array([[1., 2., 3.],\n",
       "        [4., 5., 6.],\n",
       "        [2., 3., 5.],\n",
       "        [2., 4., 5.]]),\n",
       " array([[4., 5., 6.],\n",
       "        [7., 7., 8.],\n",
       "        [6., 4., 3.],\n",
       "        [3., 5., 3.]]),\n",
       " array([[7., 8., 9.],\n",
       "        [3., 5., 3.],\n",
       "        [2., 1., 4.],\n",
       "        [5., 3., 5.]])]"
      ]
     },
     "execution_count": 40,
     "metadata": {},
     "output_type": "execute_result"
    }
   ],
   "source": [
    "# np.split(array_name, no_of_splits, axis)\n",
    "# splits must be EQUAL\n",
    "\n",
    "np.split(data,3,axis=1)"
   ]
  },
  {
   "cell_type": "code",
   "execution_count": 42,
   "id": "f03fee84",
   "metadata": {},
   "outputs": [
    {
     "data": {
      "text/plain": [
       "[array([[1., 2., 3., 4., 5., 6., 7., 8., 9.],\n",
       "        [4., 5., 6., 7., 7., 8., 3., 5., 3.]]),\n",
       " array([[2., 3., 5., 6., 4., 3., 2., 1., 4.],\n",
       "        [2., 4., 5., 3., 5., 3., 5., 3., 5.]])]"
      ]
     },
     "execution_count": 42,
     "metadata": {},
     "output_type": "execute_result"
    }
   ],
   "source": [
    "np.split(data,2,axis=0)"
   ]
  },
  {
   "cell_type": "code",
   "execution_count": 44,
   "id": "39ae763c",
   "metadata": {},
   "outputs": [
    {
     "data": {
      "text/plain": [
       "[array([[1., 2., 3., 4., 5., 6., 7., 8., 9.]]),\n",
       " array([[4., 5., 6., 7., 7., 8., 3., 5., 3.],\n",
       "        [2., 3., 5., 6., 4., 3., 2., 1., 4.]]),\n",
       " array([[2., 4., 5., 3., 5., 3., 5., 3., 5.]])]"
      ]
     },
     "execution_count": 44,
     "metadata": {},
     "output_type": "execute_result"
    }
   ],
   "source": [
    "# np.split(arr, [a,b], axis=0/1)   ---  arr[:a],arr[a:b],arr[b:]\n",
    "\n",
    "np.split(data,[1,3], axis=0)     # [:1], [1:3], [3:]"
   ]
  },
  {
   "cell_type": "code",
   "execution_count": 46,
   "id": "576b8a2c",
   "metadata": {},
   "outputs": [
    {
     "data": {
      "text/plain": [
       "[array([], shape=(0, 9), dtype=float64),\n",
       " array([[1., 2., 3., 4., 5., 6., 7., 8., 9.],\n",
       "        [4., 5., 6., 7., 7., 8., 3., 5., 3.]]),\n",
       " array([[2., 3., 5., 6., 4., 3., 2., 1., 4.],\n",
       "        [2., 4., 5., 3., 5., 3., 5., 3., 5.]])]"
      ]
     },
     "execution_count": 46,
     "metadata": {},
     "output_type": "execute_result"
    }
   ],
   "source": [
    "np.split(data, [0,2], axis=0)"
   ]
  },
  {
   "cell_type": "markdown",
   "id": "d393ec48",
   "metadata": {},
   "source": [
    "### comparing arrays"
   ]
  },
  {
   "cell_type": "code",
   "execution_count": 48,
   "id": "7f2252d9",
   "metadata": {},
   "outputs": [],
   "source": [
    "a=np.array([1,2,3])\n",
    "b=np.array([2,4,3])"
   ]
  },
  {
   "cell_type": "code",
   "execution_count": 49,
   "id": "31497139",
   "metadata": {},
   "outputs": [
    {
     "data": {
      "text/plain": [
       "array([False, False,  True])"
      ]
     },
     "execution_count": 49,
     "metadata": {},
     "output_type": "execute_result"
    }
   ],
   "source": [
    "# Element wise comparison\n",
    "\n",
    "np.equal(a,b)"
   ]
  },
  {
   "cell_type": "code",
   "execution_count": 50,
   "id": "2ed54185",
   "metadata": {},
   "outputs": [
    {
     "data": {
      "text/plain": [
       "False"
      ]
     },
     "execution_count": 50,
     "metadata": {},
     "output_type": "execute_result"
    }
   ],
   "source": [
    "# comparing full array\n",
    "\n",
    "np.array_equal(a,b)"
   ]
  },
  {
   "cell_type": "code",
   "execution_count": 55,
   "id": "87175b3e",
   "metadata": {},
   "outputs": [],
   "source": [
    "# Array Broadcasting\n",
    "a=np.array([[1,2,3],[2,3,4],[4,5,6]])\n",
    "b=np.array([[2,3,4]])\n"
   ]
  },
  {
   "cell_type": "code",
   "execution_count": 56,
   "id": "28ce8794",
   "metadata": {},
   "outputs": [
    {
     "data": {
      "text/plain": [
       "array([[1, 2, 3],\n",
       "       [2, 3, 4],\n",
       "       [4, 5, 6]])"
      ]
     },
     "execution_count": 56,
     "metadata": {},
     "output_type": "execute_result"
    }
   ],
   "source": [
    "a"
   ]
  },
  {
   "cell_type": "code",
   "execution_count": 57,
   "id": "23f06d73",
   "metadata": {},
   "outputs": [
    {
     "data": {
      "text/plain": [
       "array([[2, 3, 4]])"
      ]
     },
     "execution_count": 57,
     "metadata": {},
     "output_type": "execute_result"
    }
   ],
   "source": [
    "b"
   ]
  },
  {
   "cell_type": "code",
   "execution_count": 58,
   "id": "fa97f269",
   "metadata": {},
   "outputs": [
    {
     "name": "stderr",
     "output_type": "stream",
     "text": [
      "C:\\Program Files\\anaconda\\lib\\site-packages\\numpy\\core\\fromnumeric.py:86: VisibleDeprecationWarning: Creating an ndarray from ragged nested sequences (which is a list-or-tuple of lists-or-tuples-or ndarrays with different lengths or shapes) is deprecated. If you meant to do this, you must specify 'dtype=object' when creating the ndarray.\n",
      "  return ufunc.reduce(obj, axis, dtype, out, **passkwargs)\n"
     ]
    },
    {
     "data": {
      "text/plain": [
       "array([[ 3,  5,  7],\n",
       "       [ 4,  6,  8],\n",
       "       [ 6,  8, 10]])"
      ]
     },
     "execution_count": 58,
     "metadata": {},
     "output_type": "execute_result"
    }
   ],
   "source": [
    "np.sum([a,b])"
   ]
  },
  {
   "cell_type": "code",
   "execution_count": 59,
   "id": "794aac58",
   "metadata": {},
   "outputs": [],
   "source": [
    "import warnings\n",
    "warnings.filterwarnings(\"ignore\")"
   ]
  },
  {
   "cell_type": "code",
   "execution_count": 60,
   "id": "bf033aa4",
   "metadata": {},
   "outputs": [
    {
     "data": {
      "text/plain": [
       "array([[ 3,  5,  7],\n",
       "       [ 4,  6,  8],\n",
       "       [ 6,  8, 10]])"
      ]
     },
     "execution_count": 60,
     "metadata": {},
     "output_type": "execute_result"
    }
   ],
   "source": [
    "np.sum([a,b])"
   ]
  },
  {
   "cell_type": "code",
   "execution_count": null,
   "id": "f7aafd2e",
   "metadata": {},
   "outputs": [],
   "source": []
  }
 ],
 "metadata": {
  "kernelspec": {
   "display_name": "Python 3 (ipykernel)",
   "language": "python",
   "name": "python3"
  },
  "language_info": {
   "codemirror_mode": {
    "name": "ipython",
    "version": 3
   },
   "file_extension": ".py",
   "mimetype": "text/x-python",
   "name": "python",
   "nbconvert_exporter": "python",
   "pygments_lexer": "ipython3",
   "version": "3.10.9"
  }
 },
 "nbformat": 4,
 "nbformat_minor": 5
}
