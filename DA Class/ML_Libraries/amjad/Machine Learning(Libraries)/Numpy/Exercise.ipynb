{
 "cells": [
  {
   "cell_type": "code",
   "execution_count": 1,
   "id": "f9f9dabb",
   "metadata": {},
   "outputs": [],
   "source": [
    "import numpy as np"
   ]
  },
  {
   "cell_type": "code",
   "execution_count": 8,
   "id": "1060dc4e",
   "metadata": {},
   "outputs": [
    {
     "data": {
      "text/plain": [
       "array([[ 2,  3,  4],\n",
       "       [ 5,  6,  7],\n",
       "       [ 8,  9, 10]])"
      ]
     },
     "execution_count": 8,
     "metadata": {},
     "output_type": "execute_result"
    }
   ],
   "source": [
    "# Write a NumPy program to create a 3x3 matrix with values ranging from 2 to 10\n",
    "a=np.arange(2,11)\n",
    "ar=a.reshape(3,3)\n",
    "ar"
   ]
  },
  {
   "cell_type": "code",
   "execution_count": 4,
   "id": "c3b11403",
   "metadata": {},
   "outputs": [
    {
     "data": {
      "text/plain": [
       "array([10, 20, 30, 40, 50])"
      ]
     },
     "execution_count": 4,
     "metadata": {},
     "output_type": "execute_result"
    }
   ],
   "source": [
    "# Write a NumPy program to get the unique elements of an array\n",
    "c=np.array([10,20,20,30,40,50,40])\n",
    "u=np.unique(c)\n",
    "u"
   ]
  },
  {
   "cell_type": "code",
   "execution_count": 9,
   "id": "262a0433",
   "metadata": {},
   "outputs": [
    {
     "data": {
      "text/plain": [
       "array([10, 20, 30, 40, 50])"
      ]
     },
     "execution_count": 9,
     "metadata": {},
     "output_type": "execute_result"
    }
   ],
   "source": [
    "# Write a NumPy program to find the union of two arrays. Union will return the\n",
    "# unique, sorted array of values that are in either of the two input arrays.\n",
    "\n",
    "a=np.array([10,20,20,30,40,50,40])\n",
    "b=np.array([10,20,20,30,40,50,40])\n",
    "union=np.union1d(a,b)\n",
    "union"
   ]
  },
  {
   "cell_type": "code",
   "execution_count": 18,
   "id": "24937a2c",
   "metadata": {},
   "outputs": [
    {
     "name": "stdout",
     "output_type": "stream",
     "text": [
      "Shape: (2, 3)\n",
      "Type: int32\n"
     ]
    }
   ],
   "source": [
    "# Write a NumPy program to create a 2-dimensional array of size 2 x 3\n",
    "#  (composed of 4-byte integer elements), also print the shape, type and data\n",
    "# type of the array.\n",
    "a=np.array([[2, 4, 6], [6, 8, 10]])\n",
    "sh=np.shape(a)\n",
    "print('Shape:',sh)\n",
    "print('Type:',a.dtype)"
   ]
  },
  {
   "cell_type": "code",
   "execution_count": 21,
   "id": "8da2e122",
   "metadata": {},
   "outputs": [
    {
     "data": {
      "text/plain": [
       "array([[4., 0., 0., 0.],\n",
       "       [0., 5., 0., 0.],\n",
       "       [0., 0., 6., 0.],\n",
       "       [0., 0., 0., 8.]])"
      ]
     },
     "execution_count": 21,
     "metadata": {},
     "output_type": "execute_result"
    }
   ],
   "source": [
    "# Write a NumPy program to create a 2D array whose diagonal equals [4, 5, 6,8] and 0's elsewhere.\n",
    "a=np.zeros((4,4))\n",
    "a[[0,1,2,3],[0,1,2,3]]=[4,5,6,8]\n",
    "a"
   ]
  },
  {
   "cell_type": "code",
   "execution_count": 23,
   "id": "ec928a23",
   "metadata": {},
   "outputs": [
    {
     "data": {
      "text/plain": [
       "array([0., 0., 0., 0., 0., 9., 0., 0., 0., 0.])"
      ]
     },
     "execution_count": 23,
     "metadata": {},
     "output_type": "execute_result"
    }
   ],
   "source": [
    "# Write a NumPy program to create a null vector of size 6 (1D) and update sixth value to 9\n",
    "a=np.zeros(10)\n",
    "a[5]=9\n",
    "a"
   ]
  },
  {
   "cell_type": "code",
   "execution_count": 24,
   "id": "bb977d32",
   "metadata": {},
   "outputs": [
    {
     "data": {
      "text/plain": [
       "array([12, 13, 14, 15, 16, 17, 18, 19, 20, 21, 22, 23, 24, 25, 26, 27, 28,\n",
       "       29, 30, 31, 32, 33, 34, 35, 36, 37, 38, 39])"
      ]
     },
     "execution_count": 24,
     "metadata": {},
     "output_type": "execute_result"
    }
   ],
   "source": [
    "# Write a NumPy program to create a array with values ranging from 12 to 39\n",
    "a=np.arange(12,40)\n",
    "a"
   ]
  },
  {
   "cell_type": "code",
   "execution_count": 27,
   "id": "38bcfa48",
   "metadata": {},
   "outputs": [
    {
     "data": {
      "text/plain": [
       "array([5, 4, 3, 2, 1])"
      ]
     },
     "execution_count": 27,
     "metadata": {},
     "output_type": "execute_result"
    }
   ],
   "source": [
    "# Write a NumPy program to reverse a 1D array (first element becomes last).\n",
    "a=np.array([1,2,3,4,5])\n",
    "rev=np.flip(a)\n",
    "rev"
   ]
  },
  {
   "cell_type": "code",
   "execution_count": 41,
   "id": "2c4b1b97",
   "metadata": {},
   "outputs": [
    {
     "name": "stdout",
     "output_type": "stream",
     "text": [
      "['1' '2' '3']\n",
      "Original Array: <class 'numpy.str_'>\n",
      "[1. 2. 3.]\n",
      "Converted Array: <class 'numpy.float64'>\n"
     ]
    }
   ],
   "source": [
    "# Write a NumPy program to an array converted to a float type\n",
    "a=np.array(['1','2','3'])\n",
    "print(a)\n",
    "print('Original Array:',str(type(a[0])))\n",
    "arr=a.astype(float)\n",
    "print(arr)\n",
    "print('Converted Array:',str(type(arr[0])))"
   ]
  },
  {
   "cell_type": "code",
   "execution_count": 48,
   "id": "2e5d0f92",
   "metadata": {},
   "outputs": [
    {
     "name": "stdout",
     "output_type": "stream",
     "text": [
      "[[1. 0. 1. 0. 1. 0. 1. 0.]\n",
      " [0. 1. 0. 1. 0. 1. 0. 1.]\n",
      " [1. 0. 1. 0. 1. 0. 1. 0.]\n",
      " [0. 1. 0. 1. 0. 1. 0. 1.]\n",
      " [1. 0. 1. 0. 1. 0. 1. 0.]\n",
      " [0. 1. 0. 1. 0. 1. 0. 1.]\n",
      " [1. 0. 1. 0. 1. 0. 1. 0.]\n",
      " [0. 1. 0. 1. 0. 1. 0. 1.]]\n"
     ]
    }
   ],
   "source": [
    "# Write a NumPy program to create a 8x8 matrix and fill it with a checkerboard pattern\n",
    "a=np.zeros([8,8])\n",
    "a[0::2,0::2]=1\n",
    "a[1::2,1::2]=1\n",
    "print(a)"
   ]
  },
  {
   "cell_type": "code",
   "execution_count": 53,
   "id": "0bc47f4e",
   "metadata": {},
   "outputs": [
    {
     "name": "stdout",
     "output_type": "stream",
     "text": [
      "Values in  Fahrenheit:\n",
      "[ 32. 149. 118. 156. 118.]\n"
     ]
    }
   ],
   "source": [
    "# Write a NumPy program to convert the values of Centigrade degrees into\n",
    "# Fahrenheit degrees. Centigrade values are stored into a NumPy array\n",
    "\n",
    "c=np.array([0,65,48,69,48])\n",
    "print(\"Values in  Fahrenheit:\")\n",
    "print(np.round((9*c/5 + 32)))"
   ]
  },
  {
   "cell_type": "code",
   "execution_count": 56,
   "id": "066d7ee2",
   "metadata": {},
   "outputs": [
    {
     "name": "stdout",
     "output_type": "stream",
     "text": [
      "No of Elements: 5\n",
      "Length of one array element in bytes: 4\n",
      "Total bytes consumed by the elements: 20\n"
     ]
    }
   ],
   "source": [
    "# Write a NumPy program to find the number of elements of an array, length of\n",
    "# one array element in bytes and total bytes consumed by the elements.\n",
    "c=np.array([1,10,5,30,7])\n",
    "print('No of Elements:',c.size)\n",
    "print('Length of one array element in bytes:',c.itemsize)\n",
    "print('Total bytes consumed by the elements:',c.nbytes)"
   ]
  },
  {
   "cell_type": "code",
   "execution_count": 58,
   "id": "0fb3d640",
   "metadata": {},
   "outputs": [
    {
     "name": "stdout",
     "output_type": "stream",
     "text": [
      "[ True  True  True  True  True]\n"
     ]
    }
   ],
   "source": [
    "# Write a NumPy program to test whether each element of a 1-D array is also present in a second array\n",
    "a=np.array([1,2,3,4,5])\n",
    "b=np.array([1,2,3,4,5,6])\n",
    "print(np.in1d(a,b))"
   ]
  },
  {
   "cell_type": "code",
   "execution_count": 60,
   "id": "cd22885f",
   "metadata": {},
   "outputs": [
    {
     "name": "stdout",
     "output_type": "stream",
     "text": [
      "Common Values: [1 2 3 4 5]\n"
     ]
    }
   ],
   "source": [
    "# Write a NumPy program to find common values between two arrays\n",
    "a=np.array([1,2,3,4,5])\n",
    "b=np.array([1,2,3,4,5,6])\n",
    "print('Common Values:',np.intersect1d(a,b))"
   ]
  },
  {
   "cell_type": "code",
   "execution_count": 68,
   "id": "30906a3d",
   "metadata": {},
   "outputs": [
    {
     "data": {
      "text/plain": [
       "array([ 20,  30,  40,  70,  80,  90, 100])"
      ]
     },
     "execution_count": 68,
     "metadata": {},
     "output_type": "execute_result"
    }
   ],
   "source": [
    "# Write a NumPy program to remove specific elements in a numpy array.\n",
    "# Original array:\n",
    "# [ 10 20 30 40 50 60 70 80 90 100]\n",
    "# Delete first, fourth and fifth elements:\n",
    "# [ 20 30 60 70 80 90 100]\n",
    "\n",
    "a=np.array([[ 10 ,20, 30, 40, 50, 60, 70, 80, 90, 100]])\n",
    "index=[0,4,5]\n",
    "na=np.delete(a,index)\n",
    "na"
   ]
  },
  {
   "cell_type": "code",
   "execution_count": 70,
   "id": "31b79102",
   "metadata": {},
   "outputs": [
    {
     "data": {
      "text/plain": [
       "array([[0, 0, 0, 2, 3, 4, 5, 0]])"
      ]
     },
     "execution_count": 70,
     "metadata": {},
     "output_type": "execute_result"
    }
   ],
   "source": [
    "# Write a NumPy program to replace the negative values in a numpy array with 0. [-1 -4 0 2 3 4 5 -6]\n",
    "a=np.array([[-1 ,-4 ,0 ,2 ,3 ,4 ,5 ,-6]])\n",
    "a[a<0]=0\n",
    "a"
   ]
  },
  {
   "cell_type": "code",
   "execution_count": 72,
   "id": "5e58efef",
   "metadata": {},
   "outputs": [
    {
     "name": "stdout",
     "output_type": "stream",
     "text": [
      "Count of 20: 7\n"
     ]
    }
   ],
   "source": [
    "# Write a NumPy program to count the occurrence of a specified item in a given NumPy array.\n",
    "# [10 20 20 20 20 0 20 30 30 30 0 0 20 20 0] find the occurence of 20\n",
    "\n",
    "a=np.array([[10 ,20 ,20 ,20 ,20 ,0 ,20 ,30 ,30 ,30 ,0 ,0 ,20 ,20 ,0]])\n",
    "print(\"Count of 20:\",np.count_nonzero(a==20))"
   ]
  },
  {
   "cell_type": "code",
   "execution_count": null,
   "id": "65d94de9",
   "metadata": {},
   "outputs": [],
   "source": []
  }
 ],
 "metadata": {
  "kernelspec": {
   "display_name": "Python 3 (ipykernel)",
   "language": "python",
   "name": "python3"
  },
  "language_info": {
   "codemirror_mode": {
    "name": "ipython",
    "version": 3
   },
   "file_extension": ".py",
   "mimetype": "text/x-python",
   "name": "python",
   "nbconvert_exporter": "python",
   "pygments_lexer": "ipython3",
   "version": "3.9.7"
  }
 },
 "nbformat": 4,
 "nbformat_minor": 5
}
