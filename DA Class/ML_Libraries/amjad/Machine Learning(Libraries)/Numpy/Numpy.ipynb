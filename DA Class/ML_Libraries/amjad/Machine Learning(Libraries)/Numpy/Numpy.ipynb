{
 "cells": [
  {
   "cell_type": "code",
   "execution_count": 2,
   "id": "c3d2e581-61f9-45ff-8fe5-31b66034968d",
   "metadata": {},
   "outputs": [],
   "source": [
    "import numpy as np\n"
   ]
  },
  {
   "cell_type": "code",
   "execution_count": 2,
   "id": "c01270a1-c7f6-45a5-aa46-f34ec3b91f63",
   "metadata": {},
   "outputs": [
    {
     "name": "stdout",
     "output_type": "stream",
     "text": [
      "[1.  2.  3.5]\n",
      "[1 2 3]\n"
     ]
    }
   ],
   "source": [
    "a=np.array([1,2,3.5])\n",
    "b=np.array((1,2,3))\n",
    "print(a)\n",
    "print(b)\n",
    "           \n"
   ]
  },
  {
   "cell_type": "code",
   "execution_count": 3,
   "id": "8415344a-5174-4222-ad17-823753f18b26",
   "metadata": {},
   "outputs": [
    {
     "data": {
      "text/plain": [
       "numpy.ndarray"
      ]
     },
     "execution_count": 3,
     "metadata": {},
     "output_type": "execute_result"
    }
   ],
   "source": [
    "type(a)"
   ]
  },
  {
   "cell_type": "code",
   "execution_count": 4,
   "id": "f0db3b03-cae6-4dcf-8b30-62f4944c08db",
   "metadata": {},
   "outputs": [
    {
     "data": {
      "text/plain": [
       "dtype('float64')"
      ]
     },
     "execution_count": 4,
     "metadata": {},
     "output_type": "execute_result"
    }
   ],
   "source": [
    "a.dtype"
   ]
  },
  {
   "cell_type": "code",
   "execution_count": 5,
   "id": "b72ebbd9-6f6a-411a-8eba-72cbcd72351d",
   "metadata": {},
   "outputs": [
    {
     "name": "stdout",
     "output_type": "stream",
     "text": [
      "1.0\n",
      "[1.  2.  3.5]\n",
      "[1.  2.  3.5]\n",
      "[2.  3.5]\n"
     ]
    }
   ],
   "source": [
    "# Indexing\n",
    "print(a[0])\n",
    "print(a[0:])\n",
    "print(a[0:3])\n",
    "print(a[1:3])\n"
   ]
  },
  {
   "cell_type": "code",
   "execution_count": 6,
   "id": "69b08aac-1715-43ae-a2f6-355999b599bb",
   "metadata": {},
   "outputs": [
    {
     "name": "stdout",
     "output_type": "stream",
     "text": [
      "[[1 2 3 4]\n",
      " [5 6 7 8]]\n"
     ]
    }
   ],
   "source": [
    "# 2D Array\n",
    "c=np.array([[1,2,3,4],[5,6,7,8]])\n",
    "print(c)"
   ]
  },
  {
   "cell_type": "code",
   "execution_count": 7,
   "id": "c75fcf4e-ef8a-46f3-88d5-a94ff35c2c3d",
   "metadata": {},
   "outputs": [
    {
     "name": "stdout",
     "output_type": "stream",
     "text": [
      "[1 2 3 4]\n"
     ]
    }
   ],
   "source": [
    "print(c[0])\n"
   ]
  },
  {
   "cell_type": "code",
   "execution_count": 8,
   "id": "57239ec8-477a-48a7-99e0-30e33cf4674e",
   "metadata": {},
   "outputs": [
    {
     "name": "stdout",
     "output_type": "stream",
     "text": [
      "[[1 2 3 4]\n",
      " [5 6 7 8]]\n"
     ]
    }
   ],
   "source": [
    "print(c[0:])"
   ]
  },
  {
   "cell_type": "code",
   "execution_count": 9,
   "id": "aca5aa17-81d7-407e-a096-81264a0f883b",
   "metadata": {},
   "outputs": [
    {
     "name": "stdout",
     "output_type": "stream",
     "text": [
      "[3 4]\n"
     ]
    }
   ],
   "source": [
    "print(c[0,2:])"
   ]
  },
  {
   "cell_type": "code",
   "execution_count": 10,
   "id": "f203a492-4cef-4b1a-b34a-54eef31ba78a",
   "metadata": {},
   "outputs": [
    {
     "name": "stdout",
     "output_type": "stream",
     "text": [
      "1\n"
     ]
    }
   ],
   "source": [
    "print(c[0][0])"
   ]
  },
  {
   "cell_type": "code",
   "execution_count": 11,
   "id": "abc75ae1-8b8f-450c-ac77-6d6d9dc96410",
   "metadata": {},
   "outputs": [
    {
     "name": "stdout",
     "output_type": "stream",
     "text": [
      "[[ 3  7 -5  0]\n",
      " [ 8  2  1  3]\n",
      " [ 7 -2  9  6]]\n"
     ]
    }
   ],
   "source": [
    "# Example\n",
    "d=np.array([[3,7,-5,0],[8,2,1,3],[7,-2,9,6]])\n",
    "print(d)"
   ]
  },
  {
   "cell_type": "code",
   "execution_count": 12,
   "id": "552333ef-80c7-4181-8c83-9bc0ed90f1e6",
   "metadata": {},
   "outputs": [
    {
     "name": "stdout",
     "output_type": "stream",
     "text": [
      "[0 3 6]\n"
     ]
    }
   ],
   "source": [
    "print(d[0:,3])"
   ]
  },
  {
   "cell_type": "code",
   "execution_count": 13,
   "id": "ed7823ec-66c1-4408-882c-2d843bc9db70",
   "metadata": {},
   "outputs": [
    {
     "name": "stdout",
     "output_type": "stream",
     "text": [
      "[[ 2  1]\n",
      " [-2  9]]\n"
     ]
    }
   ],
   "source": [
    "print(d[1:,1:3])"
   ]
  },
  {
   "cell_type": "code",
   "execution_count": 14,
   "id": "56f1ab9c-62dd-4163-8394-792a2722ee77",
   "metadata": {},
   "outputs": [
    {
     "name": "stdout",
     "output_type": "stream",
     "text": [
      "[1 3]\n"
     ]
    }
   ],
   "source": [
    "print(d[1,2:])"
   ]
  },
  {
   "cell_type": "code",
   "execution_count": 15,
   "id": "d2b5a66f-d074-4165-a992-bce4afd4fb20",
   "metadata": {},
   "outputs": [
    {
     "name": "stdout",
     "output_type": "stream",
     "text": [
      "[1 9]\n"
     ]
    }
   ],
   "source": [
    "print(d[1:,2])"
   ]
  },
  {
   "cell_type": "markdown",
   "id": "b64ff53c-77d6-44bf-9dea-a66ba93e5847",
   "metadata": {},
   "source": [
    "## Array Initialization "
   ]
  },
  {
   "cell_type": "code",
   "execution_count": 16,
   "id": "a96e498c-66d0-4916-8509-ce3f70017b73",
   "metadata": {},
   "outputs": [
    {
     "name": "stdout",
     "output_type": "stream",
     "text": [
      "[[0. 0. 0. 0.]\n",
      " [0. 0. 0. 0.]\n",
      " [0. 0. 0. 0.]\n",
      " [0. 0. 0. 0.]]\n"
     ]
    }
   ],
   "source": [
    "a=np.zeros((4,4))\n",
    "print(a)"
   ]
  },
  {
   "cell_type": "code",
   "execution_count": 17,
   "id": "13dcf574-9ad0-4ebf-890b-65779002841c",
   "metadata": {},
   "outputs": [
    {
     "name": "stdout",
     "output_type": "stream",
     "text": [
      "[[1. 1. 1. 1. 1.]\n",
      " [1. 1. 1. 1. 1.]\n",
      " [1. 1. 1. 1. 1.]\n",
      " [1. 1. 1. 1. 1.]\n",
      " [1. 1. 1. 1. 1.]]\n"
     ]
    }
   ],
   "source": [
    "b=np.ones((5,5))\n",
    "print(b)"
   ]
  },
  {
   "cell_type": "code",
   "execution_count": 18,
   "id": "bcbecbc9-68a6-408c-b5c6-9254355ff139",
   "metadata": {},
   "outputs": [
    {
     "name": "stdout",
     "output_type": "stream",
     "text": [
      "[['*' '*' '*' '*']\n",
      " ['*' '*' '*' '*']\n",
      " ['*' '*' '*' '*']\n",
      " ['*' '*' '*' '*']]\n"
     ]
    }
   ],
   "source": [
    "a=np.full((4,4),'*')\n",
    "print(a)"
   ]
  },
  {
   "cell_type": "code",
   "execution_count": 19,
   "id": "249e716f-074c-4a95-88a1-cd4a27c0ed7a",
   "metadata": {},
   "outputs": [
    {
     "name": "stdout",
     "output_type": "stream",
     "text": [
      "[1 3 5 7 9]\n"
     ]
    }
   ],
   "source": [
    "# Generate seq of integers\n",
    "a=np.arange(1,10,2)\n",
    "print(a)"
   ]
  },
  {
   "cell_type": "code",
   "execution_count": 20,
   "id": "678e39f7-f409-4ec5-8f0e-f221fa35dbe7",
   "metadata": {},
   "outputs": [
    {
     "name": "stdout",
     "output_type": "stream",
     "text": [
      "[10  8  6  4  2]\n"
     ]
    }
   ],
   "source": [
    "a=np.arange(10,0,-2)\n",
    "print(a)"
   ]
  },
  {
   "cell_type": "code",
   "execution_count": 21,
   "id": "b031cd9e-6c7b-4f62-9170-b8bb84784422",
   "metadata": {},
   "outputs": [
    {
     "data": {
      "text/plain": [
       "array([[1., 0., 0., 0.],\n",
       "       [0., 1., 0., 0.],\n",
       "       [0., 0., 1., 0.],\n",
       "       [0., 0., 0., 1.]])"
      ]
     },
     "execution_count": 21,
     "metadata": {},
     "output_type": "execute_result"
    }
   ],
   "source": [
    "arr=np.zeros((4,4))\n",
    "arr[[0,1,2,3],[0,1,2,3]]=1\n",
    "arr"
   ]
  },
  {
   "cell_type": "code",
   "execution_count": 22,
   "id": "6ad38c41-d10a-4d71-859b-bcaf922004b9",
   "metadata": {},
   "outputs": [
    {
     "data": {
      "text/plain": [
       "array([ 1.        ,  2.11111111,  3.22222222,  4.33333333,  5.44444444,\n",
       "        6.55555556,  7.66666667,  8.77777778,  9.88888889, 11.        ])"
      ]
     },
     "execution_count": 22,
     "metadata": {},
     "output_type": "execute_result"
    }
   ],
   "source": [
    "# Generate equally spaced values\n",
    "# (start,end,no of elements )\n",
    "a=np.linspace(1,11,10)\n",
    "a"
   ]
  },
  {
   "cell_type": "code",
   "execution_count": 23,
   "id": "2e297685",
   "metadata": {},
   "outputs": [
    {
     "data": {
      "text/plain": [
       "array([0.87822061, 0.48982051, 0.93672184, 0.82363268, 0.55534247,\n",
       "       0.49155883, 0.27281832, 0.95007271, 0.23794979, 0.58243832])"
      ]
     },
     "execution_count": 23,
     "metadata": {},
     "output_type": "execute_result"
    }
   ],
   "source": [
    "# Random-generate b/w 0 and 1\n",
    "a=np.random.random(10)\n",
    "a"
   ]
  },
  {
   "cell_type": "code",
   "execution_count": 24,
   "id": "d99315df",
   "metadata": {},
   "outputs": [
    {
     "data": {
      "text/plain": [
       "array([8, 6, 3, 1, 1, 6, 3, 4, 8, 4])"
      ]
     },
     "execution_count": 24,
     "metadata": {},
     "output_type": "execute_result"
    }
   ],
   "source": [
    "# Rand INT -generate int values between  start and end\n",
    "a=np.random.randint(1,10,10)\n",
    "a"
   ]
  },
  {
   "cell_type": "code",
   "execution_count": 25,
   "id": "6c8bde31",
   "metadata": {},
   "outputs": [
    {
     "data": {
      "text/plain": [
       "array([[6, 1, 3, 9],\n",
       "       [1, 9, 4, 4],\n",
       "       [2, 5, 8, 8],\n",
       "       [1, 3, 2, 2]])"
      ]
     },
     "execution_count": 25,
     "metadata": {},
     "output_type": "execute_result"
    }
   ],
   "source": [
    "# Generate a 2d array of random no's\n",
    "# (start,end,(row,col))\n",
    "a=np.random.randint(1,10,(4,4))\n",
    "a"
   ]
  },
  {
   "cell_type": "code",
   "execution_count": 26,
   "id": "af0c1f5f",
   "metadata": {},
   "outputs": [
    {
     "data": {
      "text/plain": [
       "(4, 4)"
      ]
     },
     "execution_count": 26,
     "metadata": {},
     "output_type": "execute_result"
    }
   ],
   "source": [
    "a.shape"
   ]
  },
  {
   "cell_type": "code",
   "execution_count": 27,
   "id": "e18b3f47",
   "metadata": {},
   "outputs": [
    {
     "data": {
      "text/plain": [
       "16"
      ]
     },
     "execution_count": 27,
     "metadata": {},
     "output_type": "execute_result"
    }
   ],
   "source": [
    "a.size"
   ]
  },
  {
   "cell_type": "code",
   "execution_count": 28,
   "id": "d9324af6",
   "metadata": {},
   "outputs": [
    {
     "data": {
      "text/plain": [
       "4"
      ]
     },
     "execution_count": 28,
     "metadata": {},
     "output_type": "execute_result"
    }
   ],
   "source": [
    "# size of each ele in bytes\n",
    "a.itemsize"
   ]
  },
  {
   "cell_type": "code",
   "execution_count": 29,
   "id": "c111fe6a",
   "metadata": {},
   "outputs": [
    {
     "data": {
      "text/plain": [
       "64"
      ]
     },
     "execution_count": 29,
     "metadata": {},
     "output_type": "execute_result"
    }
   ],
   "source": [
    "# size of array in bytes\n",
    "a.nbytes"
   ]
  },
  {
   "cell_type": "code",
   "execution_count": 30,
   "id": "c9db995e",
   "metadata": {},
   "outputs": [
    {
     "data": {
      "text/plain": [
       "2"
      ]
     },
     "execution_count": 30,
     "metadata": {},
     "output_type": "execute_result"
    }
   ],
   "source": [
    "# Dimension of array\n",
    "a.ndim"
   ]
  },
  {
   "cell_type": "code",
   "execution_count": 31,
   "id": "ca305ac5",
   "metadata": {},
   "outputs": [
    {
     "data": {
      "text/plain": [
       "8"
      ]
     },
     "execution_count": 31,
     "metadata": {},
     "output_type": "execute_result"
    }
   ],
   "source": [
    "a=np.random.random(10)\n",
    "# a\n",
    "a.shape\n",
    "a.ndim\n",
    "a.itemsize\n"
   ]
  },
  {
   "cell_type": "code",
   "execution_count": 32,
   "id": "04889347",
   "metadata": {},
   "outputs": [
    {
     "data": {
      "text/plain": [
       "array([0.05714466, 0.85936696, 0.90776597, 0.05387715, 0.51829235,\n",
       "       0.47676468, 0.91356864, 0.78686413, 0.49758595, 0.3149463 ])"
      ]
     },
     "execution_count": 32,
     "metadata": {},
     "output_type": "execute_result"
    }
   ],
   "source": [
    "# change datatype\n",
    "x=a.astype('float')\n",
    "x"
   ]
  },
  {
   "cell_type": "code",
   "execution_count": 33,
   "id": "fac42f70",
   "metadata": {},
   "outputs": [
    {
     "data": {
      "text/plain": [
       "dtype('float64')"
      ]
     },
     "execution_count": 33,
     "metadata": {},
     "output_type": "execute_result"
    }
   ],
   "source": [
    "x.dtype\n"
   ]
  },
  {
   "cell_type": "code",
   "execution_count": 34,
   "id": "c408720f",
   "metadata": {},
   "outputs": [
    {
     "data": {
      "text/plain": [
       "array([ 2, 10,  7,  8,  6])"
      ]
     },
     "execution_count": 34,
     "metadata": {},
     "output_type": "execute_result"
    }
   ],
   "source": [
    "arr=np.array([2,10,7,8])\n",
    "# Append to an array\n",
    "np.append(arr,6)"
   ]
  },
  {
   "cell_type": "code",
   "execution_count": 35,
   "id": "b596523f",
   "metadata": {},
   "outputs": [
    {
     "data": {
      "text/plain": [
       "array([ 3,  7, -5,  0,  8,  2,  1,  3,  7, -2,  9,  6, 10])"
      ]
     },
     "execution_count": 35,
     "metadata": {},
     "output_type": "execute_result"
    }
   ],
   "source": [
    "d=np.array([[3,7,-5,0],[8,2,1,3],[7,-2,9,6]])\n",
    "np.append(d,10)"
   ]
  },
  {
   "cell_type": "code",
   "execution_count": 36,
   "id": "71ed420e",
   "metadata": {},
   "outputs": [
    {
     "data": {
      "text/plain": [
       "array([ 3,  7, -5,  0,  8,  2,  1,  3,  7, -2,  9,  6,  1,  2,  3])"
      ]
     },
     "execution_count": 36,
     "metadata": {},
     "output_type": "execute_result"
    }
   ],
   "source": [
    "np.append(d,(1,2,3))"
   ]
  },
  {
   "cell_type": "code",
   "execution_count": 37,
   "id": "63e2900e",
   "metadata": {},
   "outputs": [
    {
     "data": {
      "text/plain": [
       "array([ 2, 10,  8,  7,  8])"
      ]
     },
     "execution_count": 37,
     "metadata": {},
     "output_type": "execute_result"
    }
   ],
   "source": [
    "np.insert(arr,2,8)"
   ]
  },
  {
   "cell_type": "code",
   "execution_count": 38,
   "id": "77073798",
   "metadata": {},
   "outputs": [
    {
     "data": {
      "text/plain": [
       "array([ 3,  7,  0, -5,  0,  8,  2,  1,  3,  7, -2,  9,  6])"
      ]
     },
     "execution_count": 38,
     "metadata": {},
     "output_type": "execute_result"
    }
   ],
   "source": [
    "d=np.array([[3,7,-5,0],[8,2,1,3],[7,-2,9,6]])\n",
    "np.insert(d,2,0)"
   ]
  },
  {
   "cell_type": "code",
   "execution_count": 39,
   "id": "f1e9c0fc",
   "metadata": {},
   "outputs": [
    {
     "data": {
      "text/plain": [
       "array([[3, 7, 0],\n",
       "       [8, 2, 3],\n",
       "       [3, 3, 3],\n",
       "       [7, 9, 6]])"
      ]
     },
     "execution_count": 39,
     "metadata": {},
     "output_type": "execute_result"
    }
   ],
   "source": [
    "d=np.array([[3,7,0],[8,2,3],[7,9,6]])\n",
    "# (array name,position,value,axis=0/1)\n",
    "# axis 0:row\n",
    "# axis 1:column\n",
    "np.insert(d,2,3,axis=0)"
   ]
  },
  {
   "cell_type": "code",
   "execution_count": 40,
   "id": "f3e50686",
   "metadata": {},
   "outputs": [
    {
     "data": {
      "text/plain": [
       "array([[3, 7, 3, 0],\n",
       "       [8, 2, 3, 3],\n",
       "       [7, 9, 3, 6]])"
      ]
     },
     "execution_count": 40,
     "metadata": {},
     "output_type": "execute_result"
    }
   ],
   "source": [
    "np.insert(d,2,3,axis=1)"
   ]
  },
  {
   "cell_type": "code",
   "execution_count": 41,
   "id": "9ef56f27",
   "metadata": {},
   "outputs": [
    {
     "data": {
      "text/plain": [
       "array([[3, 7, 0],\n",
       "       [8, 2, 3],\n",
       "       [1, 1, 1],\n",
       "       [7, 9, 6]])"
      ]
     },
     "execution_count": 41,
     "metadata": {},
     "output_type": "execute_result"
    }
   ],
   "source": [
    "# to insert seq of values to array\n",
    "np.insert(d,2,[1,1,1],axis=0)\n"
   ]
  },
  {
   "cell_type": "code",
   "execution_count": 42,
   "id": "3f99bf90",
   "metadata": {},
   "outputs": [
    {
     "data": {
      "text/plain": [
       "array([3, 7, 0, 2, 3, 7, 9, 6])"
      ]
     },
     "execution_count": 42,
     "metadata": {},
     "output_type": "execute_result"
    }
   ],
   "source": [
    "# delete element from array\n",
    "# (array name,posn)\n",
    "s=np.delete(d,3)\n",
    "s"
   ]
  },
  {
   "cell_type": "code",
   "execution_count": 43,
   "id": "ec394d9e",
   "metadata": {},
   "outputs": [
    {
     "data": {
      "text/plain": [
       "array([3, 7, 0, 2, 3, 7, 9, 6])"
      ]
     },
     "execution_count": 43,
     "metadata": {},
     "output_type": "execute_result"
    }
   ],
   "source": [
    "s"
   ]
  },
  {
   "cell_type": "code",
   "execution_count": 44,
   "id": "b88046f4",
   "metadata": {},
   "outputs": [
    {
     "data": {
      "text/plain": [
       "array([[3, 7, 0],\n",
       "       [7, 9, 6]])"
      ]
     },
     "execution_count": 44,
     "metadata": {},
     "output_type": "execute_result"
    }
   ],
   "source": [
    "d=np.array([[3,7,0],[8,2,3],[7,9,6]])\n",
    "d\n",
    "# delete a row/col\n",
    "np.delete(d,1,axis=0)"
   ]
  },
  {
   "cell_type": "code",
   "execution_count": 45,
   "id": "df52bdf1",
   "metadata": {},
   "outputs": [
    {
     "data": {
      "text/plain": [
       "array([[7, 9, 6]])"
      ]
     },
     "execution_count": 45,
     "metadata": {},
     "output_type": "execute_result"
    }
   ],
   "source": [
    "d=np.array([[3,7,0],[8,2,3],[7,9,6]])\n",
    "d\n",
    "# (arrayname,row/col indices to delete,axis)\n",
    "np.delete(d,(0,1),axis=0)"
   ]
  },
  {
   "cell_type": "code",
   "execution_count": 46,
   "id": "0f432ab9",
   "metadata": {},
   "outputs": [
    {
     "data": {
      "text/plain": [
       "array([[3, 7, 0],\n",
       "       [8, 2, 3],\n",
       "       [7, 9, 6]])"
      ]
     },
     "execution_count": 46,
     "metadata": {},
     "output_type": "execute_result"
    }
   ],
   "source": [
    "# create copy of array\n",
    "d=np.array([[3,7,0],[8,2,3],[7,9,6]])\n",
    "v=d.copy()\n",
    "v"
   ]
  },
  {
   "cell_type": "code",
   "execution_count": 47,
   "id": "4cb78df4",
   "metadata": {},
   "outputs": [
    {
     "data": {
      "text/plain": [
       "array([2, 4, 8])"
      ]
     },
     "execution_count": 47,
     "metadata": {},
     "output_type": "execute_result"
    }
   ],
   "source": [
    "a=np.array([4,2,8])\n",
    "a\n",
    "# Sort an array(ascending)\n",
    "sorted=np.sort(a)\n",
    "sorted"
   ]
  },
  {
   "cell_type": "code",
   "execution_count": 48,
   "id": "3771130d",
   "metadata": {},
   "outputs": [
    {
     "data": {
      "text/plain": [
       "array([8, 4, 2])"
      ]
     },
     "execution_count": 48,
     "metadata": {},
     "output_type": "execute_result"
    }
   ],
   "source": [
    "# descending sort\n",
    "np.sort(a)[::-1]"
   ]
  },
  {
   "cell_type": "code",
   "execution_count": 49,
   "id": "f06a4eef",
   "metadata": {},
   "outputs": [
    {
     "data": {
      "text/plain": [
       "array([2, 4, 8])"
      ]
     },
     "execution_count": 49,
     "metadata": {},
     "output_type": "execute_result"
    }
   ],
   "source": [
    "a.sort()\n",
    "a"
   ]
  },
  {
   "cell_type": "code",
   "execution_count": 50,
   "id": "a74d7bec",
   "metadata": {},
   "outputs": [
    {
     "data": {
      "text/plain": [
       "array([8, 4, 2])"
      ]
     },
     "execution_count": 50,
     "metadata": {},
     "output_type": "execute_result"
    }
   ],
   "source": [
    "a[::-1].sort()\n",
    "a"
   ]
  },
  {
   "cell_type": "markdown",
   "id": "374ca8e0",
   "metadata": {},
   "source": [
    "## Stacking Arrays\n"
   ]
  },
  {
   "cell_type": "code",
   "execution_count": 51,
   "id": "4dee9d38",
   "metadata": {},
   "outputs": [],
   "source": [
    "arr1=np.array([[3,9,8],[6,5,7],[3,9,8]])\n",
    "arr2=np.array([[3,9,8],[2,6,7],[3,5,7]])\n",
    "arr3=np.array([[2,6,7],[6,5,7],[6,5,7]])"
   ]
  },
  {
   "cell_type": "code",
   "execution_count": 52,
   "id": "156e46ce",
   "metadata": {},
   "outputs": [
    {
     "data": {
      "text/plain": [
       "array([[3, 9, 8],\n",
       "       [6, 5, 7],\n",
       "       [3, 9, 8]])"
      ]
     },
     "execution_count": 52,
     "metadata": {},
     "output_type": "execute_result"
    }
   ],
   "source": [
    "arr1"
   ]
  },
  {
   "cell_type": "code",
   "execution_count": 53,
   "id": "7c7437a7",
   "metadata": {},
   "outputs": [
    {
     "data": {
      "text/plain": [
       "array([[3, 9, 8],\n",
       "       [6, 5, 7],\n",
       "       [3, 9, 8],\n",
       "       [3, 9, 8],\n",
       "       [2, 6, 7],\n",
       "       [3, 5, 7]])"
      ]
     },
     "execution_count": 53,
     "metadata": {},
     "output_type": "execute_result"
    }
   ],
   "source": [
    "# Vertical Stacking\n",
    "np.vstack([arr1,arr2])"
   ]
  },
  {
   "cell_type": "code",
   "execution_count": 54,
   "id": "1d2fbc63",
   "metadata": {},
   "outputs": [
    {
     "data": {
      "text/plain": [
       "array([[3, 9, 8],\n",
       "       [6, 5, 7],\n",
       "       [3, 9, 8],\n",
       "       [3, 9, 8],\n",
       "       [2, 6, 7],\n",
       "       [3, 5, 7]])"
      ]
     },
     "execution_count": 54,
     "metadata": {},
     "output_type": "execute_result"
    }
   ],
   "source": [
    "# same as vstack(0=row)\n",
    "np.concatenate([arr1,arr2],axis=0)  "
   ]
  },
  {
   "cell_type": "code",
   "execution_count": 55,
   "id": "313b6795",
   "metadata": {},
   "outputs": [
    {
     "data": {
      "text/plain": [
       "array([[3, 9, 8, 3, 9, 8],\n",
       "       [6, 5, 7, 2, 6, 7],\n",
       "       [3, 9, 8, 3, 5, 7]])"
      ]
     },
     "execution_count": 55,
     "metadata": {},
     "output_type": "execute_result"
    }
   ],
   "source": [
    "# Horizontal Stacking\n",
    "np.hstack([arr1,arr2])"
   ]
  },
  {
   "cell_type": "code",
   "execution_count": 56,
   "id": "3a0507fb",
   "metadata": {},
   "outputs": [
    {
     "data": {
      "text/plain": [
       "array([[3, 9, 8, 3, 9, 8],\n",
       "       [6, 5, 7, 2, 6, 7],\n",
       "       [3, 9, 8, 3, 5, 7]])"
      ]
     },
     "execution_count": 56,
     "metadata": {},
     "output_type": "execute_result"
    }
   ],
   "source": [
    "np.concatenate([arr1,arr2],axis=1)\n"
   ]
  },
  {
   "cell_type": "code",
   "execution_count": 57,
   "id": "43b8fe6b",
   "metadata": {},
   "outputs": [
    {
     "data": {
      "text/plain": [
       "array([3, 9, 8, 6, 5, 7, 3, 9, 8])"
      ]
     },
     "execution_count": 57,
     "metadata": {},
     "output_type": "execute_result"
    }
   ],
   "source": [
    "# To convert to a single dimensional array\n",
    "arr1.ravel()"
   ]
  },
  {
   "cell_type": "code",
   "execution_count": 3,
   "id": "7977f4f7",
   "metadata": {},
   "outputs": [
    {
     "name": "stdout",
     "output_type": "stream",
     "text": [
      "[6 6 8]\n"
     ]
    }
   ],
   "source": [
    "# SLICING\n",
    "arr1=np.array([[3,9,8,6],[1,6,5,7],[6,3,9,8]])\n",
    "arr1\n",
    "# ([ROW],[COLS])\n",
    "print(arr1[[2,1,2],[0,1,3]])"
   ]
  },
  {
   "cell_type": "code",
   "execution_count": 59,
   "id": "944248e8",
   "metadata": {},
   "outputs": [
    {
     "name": "stdout",
     "output_type": "stream",
     "text": [
      "[[1 6 5 7 5]\n",
      " [1 6 5 7 5]]\n"
     ]
    }
   ],
   "source": [
    "arr1=np.array([[3,9,8,6,7],[1,6,5,7,5],[6,3,9,8,3],[1,6,5,7,5]])\n",
    "arr1\n",
    "print(arr1[1::2,:])"
   ]
  },
  {
   "cell_type": "code",
   "execution_count": 60,
   "id": "60f59d72",
   "metadata": {},
   "outputs": [
    {
     "data": {
      "text/plain": [
       "array([[3, 9, 8, 6, 7],\n",
       "       [1, 6, 5, 7, 5],\n",
       "       [6, 3, 9, 8, 3],\n",
       "       [1, 6, 5, 7, 5]])"
      ]
     },
     "execution_count": 60,
     "metadata": {},
     "output_type": "execute_result"
    }
   ],
   "source": [
    "arr1"
   ]
  },
  {
   "cell_type": "code",
   "execution_count": 61,
   "id": "98d64375",
   "metadata": {},
   "outputs": [
    {
     "data": {
      "text/plain": [
       "array([[ 3,  4, -1,  0,  8],\n",
       "       [ 3,  5,  7,  6,  2],\n",
       "       [-1,  0,  9,  4,  8],\n",
       "       [ 6,  7, -2,  0,  1]])"
      ]
     },
     "execution_count": 61,
     "metadata": {},
     "output_type": "execute_result"
    }
   ],
   "source": [
    "arr1=np.array([[3,4,-1,0,8],[3,5,7,6,2],[-1,0,9,4,8],[6,7,-2,0,1]])\n",
    "arr1"
   ]
  },
  {
   "cell_type": "code",
   "execution_count": 62,
   "id": "cd42e2de",
   "metadata": {},
   "outputs": [
    {
     "name": "stdout",
     "output_type": "stream",
     "text": [
      "[[ 3  7  2]\n",
      " [ 6 -2  1]]\n"
     ]
    }
   ],
   "source": [
    "print(arr1[1::2,0::2])"
   ]
  },
  {
   "cell_type": "code",
   "execution_count": 63,
   "id": "ba55b3a4",
   "metadata": {},
   "outputs": [
    {
     "data": {
      "text/plain": [
       "array([[0., 0., 0., 0., 0., 0., 0., 0.],\n",
       "       [0., 0., 0., 0., 0., 0., 0., 0.],\n",
       "       [0., 0., 0., 0., 0., 0., 0., 0.],\n",
       "       [0., 0., 0., 0., 0., 0., 0., 0.],\n",
       "       [0., 0., 0., 0., 0., 0., 0., 0.],\n",
       "       [0., 0., 0., 0., 0., 0., 0., 0.],\n",
       "       [0., 0., 0., 0., 0., 0., 0., 0.],\n",
       "       [0., 0., 0., 0., 0., 0., 0., 0.]])"
      ]
     },
     "execution_count": 63,
     "metadata": {},
     "output_type": "execute_result"
    }
   ],
   "source": [
    "q=np.zeros([8,8])\n",
    "q"
   ]
  },
  {
   "cell_type": "code",
   "execution_count": 64,
   "id": "1b6af140",
   "metadata": {},
   "outputs": [
    {
     "data": {
      "text/plain": [
       "array([[0., 0., 0., 0., 0., 0., 0., 0.],\n",
       "       [0., 0., 0., 0., 0., 0., 0., 0.],\n",
       "       [0., 0., 0., 0., 0., 0., 0., 0.],\n",
       "       [0., 0., 0., 0., 0., 0., 0., 0.],\n",
       "       [0., 0., 0., 0., 0., 0., 0., 0.],\n",
       "       [0., 0., 0., 0., 0., 0., 0., 0.],\n",
       "       [0., 0., 0., 0., 0., 0., 0., 0.],\n",
       "       [0., 0., 0., 0., 0., 0., 0., 0.]])"
      ]
     },
     "execution_count": 64,
     "metadata": {},
     "output_type": "execute_result"
    }
   ],
   "source": [
    "\n",
    "q"
   ]
  },
  {
   "cell_type": "code",
   "execution_count": 65,
   "id": "025df27a",
   "metadata": {},
   "outputs": [
    {
     "name": "stdout",
     "output_type": "stream",
     "text": [
      "[[1. 0. 1. 0. 1. 0. 1. 0.]\n",
      " [0. 0. 0. 0. 0. 0. 0. 0.]\n",
      " [1. 0. 1. 0. 1. 0. 1. 0.]\n",
      " [0. 0. 0. 0. 0. 0. 0. 0.]\n",
      " [1. 0. 1. 0. 1. 0. 1. 0.]\n",
      " [0. 0. 0. 0. 0. 0. 0. 0.]\n",
      " [1. 0. 1. 0. 1. 0. 1. 0.]\n",
      " [0. 0. 0. 0. 0. 0. 0. 0.]]\n"
     ]
    }
   ],
   "source": [
    "q[0::2,0::2]=1\n",
    "print(q)\n"
   ]
  },
  {
   "cell_type": "code",
   "execution_count": 66,
   "id": "2d2a6dce",
   "metadata": {},
   "outputs": [
    {
     "name": "stdout",
     "output_type": "stream",
     "text": [
      "[[1. 0. 1. 0. 1. 0. 1. 0.]\n",
      " [0. 1. 0. 1. 0. 1. 0. 1.]\n",
      " [1. 0. 1. 0. 1. 0. 1. 0.]\n",
      " [0. 1. 0. 1. 0. 1. 0. 1.]\n",
      " [1. 0. 1. 0. 1. 0. 1. 0.]\n",
      " [0. 1. 0. 1. 0. 1. 0. 1.]\n",
      " [1. 0. 1. 0. 1. 0. 1. 0.]\n",
      " [0. 1. 0. 1. 0. 1. 0. 1.]]\n"
     ]
    }
   ],
   "source": [
    "q[1::2,1::2]=1\n",
    "print(q)"
   ]
  },
  {
   "cell_type": "markdown",
   "id": "ea59561e",
   "metadata": {},
   "source": [
    "## Matrix Multiplication"
   ]
  },
  {
   "cell_type": "code",
   "execution_count": 67,
   "id": "a21fb96d",
   "metadata": {},
   "outputs": [
    {
     "data": {
      "text/plain": [
       "array([[ 9, 81, 64],\n",
       "       [12, 18, 63],\n",
       "       [ 3, 30, 35]])"
      ]
     },
     "execution_count": 67,
     "metadata": {},
     "output_type": "execute_result"
    }
   ],
   "source": [
    "arr1=np.array([[3,9,8],[1,6,5],[6,3,9]])\n",
    "arr1=np.array([[3,9,8],[6,3,9],[1,6,5]])\n",
    "\n",
    "# ELEMENT WISE MULTIPLICATION\n",
    "arr1*arr2"
   ]
  },
  {
   "cell_type": "code",
   "execution_count": 68,
   "id": "7c644ead",
   "metadata": {},
   "outputs": [
    {
     "data": {
      "text/plain": [
       "array([[ 51, 121, 143],\n",
       "       [ 51, 117, 132],\n",
       "       [ 30,  70,  85]])"
      ]
     },
     "execution_count": 68,
     "metadata": {},
     "output_type": "execute_result"
    }
   ],
   "source": [
    "# Matrix Multiplication\n",
    "np.matmul(arr1,arr2)"
   ]
  },
  {
   "cell_type": "code",
   "execution_count": 69,
   "id": "ada1de91",
   "metadata": {},
   "outputs": [],
   "source": [
    "a=np.ones((2,3))\n",
    "b=np.full((3,2),5)\n",
    "c=np.full((2,3),5)"
   ]
  },
  {
   "cell_type": "code",
   "execution_count": 70,
   "id": "5153588e",
   "metadata": {},
   "outputs": [
    {
     "data": {
      "text/plain": [
       "array([[15., 15.],\n",
       "       [15., 15.]])"
      ]
     },
     "execution_count": 70,
     "metadata": {},
     "output_type": "execute_result"
    }
   ],
   "source": [
    "np.matmul(a,b)"
   ]
  },
  {
   "cell_type": "code",
   "execution_count": 71,
   "id": "da0388ac",
   "metadata": {},
   "outputs": [
    {
     "data": {
      "text/plain": [
       "array([[10., 10., 10.],\n",
       "       [10., 10., 10.],\n",
       "       [10., 10., 10.]])"
      ]
     },
     "execution_count": 71,
     "metadata": {},
     "output_type": "execute_result"
    }
   ],
   "source": [
    "np.matmul(b,a)"
   ]
  },
  {
   "cell_type": "code",
   "execution_count": 72,
   "id": "1ed28d8a",
   "metadata": {},
   "outputs": [
    {
     "data": {
      "text/plain": [
       "array([[3, 9, 8],\n",
       "       [6, 3, 9],\n",
       "       [1, 6, 5]])"
      ]
     },
     "execution_count": 72,
     "metadata": {},
     "output_type": "execute_result"
    }
   ],
   "source": [
    "arr1"
   ]
  },
  {
   "cell_type": "code",
   "execution_count": 73,
   "id": "c61dbc1a",
   "metadata": {},
   "outputs": [
    {
     "data": {
      "text/plain": [
       "9"
      ]
     },
     "execution_count": 73,
     "metadata": {},
     "output_type": "execute_result"
    }
   ],
   "source": [
    "# Find the max value in array\n",
    "np.max(arr1)"
   ]
  },
  {
   "cell_type": "code",
   "execution_count": 74,
   "id": "230ddb80",
   "metadata": {},
   "outputs": [
    {
     "data": {
      "text/plain": [
       "1"
      ]
     },
     "execution_count": 74,
     "metadata": {},
     "output_type": "execute_result"
    }
   ],
   "source": [
    "# Find the min value in array\n",
    "np.min(arr1)"
   ]
  },
  {
   "cell_type": "code",
   "execution_count": 75,
   "id": "cec8a366",
   "metadata": {},
   "outputs": [
    {
     "data": {
      "text/plain": [
       "array([6, 9, 9])"
      ]
     },
     "execution_count": 75,
     "metadata": {},
     "output_type": "execute_result"
    }
   ],
   "source": [
    "np.max(arr1,axis=0)"
   ]
  },
  {
   "cell_type": "code",
   "execution_count": 76,
   "id": "42b5c031",
   "metadata": {},
   "outputs": [
    {
     "data": {
      "text/plain": [
       "array([9, 9, 6])"
      ]
     },
     "execution_count": 76,
     "metadata": {},
     "output_type": "execute_result"
    }
   ],
   "source": [
    "np.max(arr1,axis=1)"
   ]
  },
  {
   "cell_type": "code",
   "execution_count": 77,
   "id": "d70989e2",
   "metadata": {},
   "outputs": [
    {
     "data": {
      "text/plain": [
       "50"
      ]
     },
     "execution_count": 77,
     "metadata": {},
     "output_type": "execute_result"
    }
   ],
   "source": [
    "np.sum(arr1)"
   ]
  },
  {
   "cell_type": "code",
   "execution_count": 78,
   "id": "bcf1d0c4",
   "metadata": {},
   "outputs": [
    {
     "data": {
      "text/plain": [
       "11"
      ]
     },
     "execution_count": 78,
     "metadata": {},
     "output_type": "execute_result"
    }
   ],
   "source": [
    "np.sum([5,5,1])"
   ]
  },
  {
   "cell_type": "markdown",
   "id": "672bd251",
   "metadata": {},
   "source": [
    "## Loading Text Files"
   ]
  },
  {
   "cell_type": "code",
   "execution_count": 79,
   "id": "e4738db0",
   "metadata": {},
   "outputs": [
    {
     "data": {
      "text/plain": [
       "'C:\\\\Users\\\\Amjad\\\\Documents\\\\Python Class DA\\\\Machine Learning\\\\Numpy'"
      ]
     },
     "execution_count": 79,
     "metadata": {},
     "output_type": "execute_result"
    }
   ],
   "source": [
    "import os\n",
    "# Get current working directory \n",
    "os.getcwd()"
   ]
  },
  {
   "cell_type": "code",
   "execution_count": 80,
   "id": "1a2fe69f",
   "metadata": {},
   "outputs": [
    {
     "data": {
      "text/plain": [
       "array([[1., 2., 3., 4., 5., 6., 7., 8., 9.],\n",
       "       [4., 5., 6., 7., 7., 8., 3., 5., 3.],\n",
       "       [2., 3., 5., 6., 4., 3., 2., 1., 4.],\n",
       "       [2., 4., 5., 3., 5., 3., 5., 3., 5.]])"
      ]
     },
     "execution_count": 80,
     "metadata": {},
     "output_type": "execute_result"
    }
   ],
   "source": [
    "data=np.genfromtxt('abc.txt',delimiter=',')\n",
    "data"
   ]
  },
  {
   "cell_type": "code",
   "execution_count": 96,
   "id": "6fb1876c",
   "metadata": {},
   "outputs": [
    {
     "data": {
      "text/plain": [
       "array([[1., 2., 3., 4., 5., 6., 7., 8., 9.],\n",
       "       [4., 5., 6., 7., 7., 8., 3., 5., 3.],\n",
       "       [2., 3., 5., 6., 4., 3., 2., 1., 4.],\n",
       "       [2., 4., 5., 3., 5., 3., 5., 3., 5.]])"
      ]
     },
     "execution_count": 96,
     "metadata": {},
     "output_type": "execute_result"
    }
   ],
   "source": [
    "data=np.genfromtxt(r'C:\\Users\\Amjad\\Documents\\Python Class DA\\Machine Learning\\Numpy\\abc.txt',delimiter=',')\n",
    "data"
   ]
  },
  {
   "cell_type": "markdown",
   "id": "34139685",
   "metadata": {},
   "source": [
    "## Boolean Masking"
   ]
  },
  {
   "cell_type": "code",
   "execution_count": 88,
   "id": "d2f7d382",
   "metadata": {},
   "outputs": [
    {
     "data": {
      "text/plain": [
       "array([[False, False, False, False, False,  True,  True,  True,  True],\n",
       "       [False, False,  True,  True,  True,  True, False, False, False],\n",
       "       [False, False, False,  True, False, False, False, False, False],\n",
       "       [False, False, False, False, False, False, False, False, False]])"
      ]
     },
     "execution_count": 88,
     "metadata": {},
     "output_type": "execute_result"
    }
   ],
   "source": [
    "data>5"
   ]
  },
  {
   "cell_type": "code",
   "execution_count": 89,
   "id": "7be793f7",
   "metadata": {},
   "outputs": [
    {
     "data": {
      "text/plain": [
       "array([[False, False, False, False,  True, False, False, False, False],\n",
       "       [False,  True, False, False, False, False, False,  True, False],\n",
       "       [False, False,  True, False, False, False, False, False, False],\n",
       "       [False, False,  True, False,  True, False,  True, False,  True]])"
      ]
     },
     "execution_count": 89,
     "metadata": {},
     "output_type": "execute_result"
    }
   ],
   "source": [
    "data==5"
   ]
  },
  {
   "cell_type": "code",
   "execution_count": 90,
   "id": "25d4dee0",
   "metadata": {},
   "outputs": [
    {
     "data": {
      "text/plain": [
       "array([[False, False, False, False,  True,  True,  True,  True,  True],\n",
       "       [False,  True,  True,  True,  True,  True, False,  True, False],\n",
       "       [False, False,  True,  True, False, False, False, False, False],\n",
       "       [False, False,  True, False,  True, False,  True, False,  True]])"
      ]
     },
     "execution_count": 90,
     "metadata": {},
     "output_type": "execute_result"
    }
   ],
   "source": [
    "data>=5"
   ]
  },
  {
   "cell_type": "code",
   "execution_count": 97,
   "id": "3fa02ad8",
   "metadata": {},
   "outputs": [
    {
     "data": {
      "text/plain": [
       "array([ True,  True,  True, False])"
      ]
     },
     "execution_count": 97,
     "metadata": {},
     "output_type": "execute_result"
    }
   ],
   "source": [
    "np.any(data>5, axis=1)"
   ]
  },
  {
   "cell_type": "code",
   "execution_count": 98,
   "id": "17d9f8c4",
   "metadata": {},
   "outputs": [
    {
     "data": {
      "text/plain": [
       "array([False, False, False, False])"
      ]
     },
     "execution_count": 98,
     "metadata": {},
     "output_type": "execute_result"
    }
   ],
   "source": [
    "np.all(data>5,axis=1)"
   ]
  },
  {
   "cell_type": "markdown",
   "id": "162f120c",
   "metadata": {},
   "source": [
    "### Conditional selection "
   ]
  },
  {
   "cell_type": "code",
   "execution_count": 99,
   "id": "9b5d4a4c",
   "metadata": {},
   "outputs": [
    {
     "data": {
      "text/plain": [
       "array([6., 7., 8., 9., 6., 7., 7., 8., 6.])"
      ]
     },
     "execution_count": 99,
     "metadata": {},
     "output_type": "execute_result"
    }
   ],
   "source": [
    "data[data>5]"
   ]
  },
  {
   "cell_type": "code",
   "execution_count": 100,
   "id": "d9270805",
   "metadata": {},
   "outputs": [
    {
     "data": {
      "text/plain": [
       "array([9.])"
      ]
     },
     "execution_count": 100,
     "metadata": {},
     "output_type": "execute_result"
    }
   ],
   "source": [
    "data[((data>5) & (data>8))]"
   ]
  },
  {
   "cell_type": "code",
   "execution_count": 101,
   "id": "2150c826",
   "metadata": {},
   "outputs": [
    {
     "data": {
      "text/plain": [
       "array([2., 4., 6., 8., 4., 6., 8., 2., 6., 4., 2., 4., 2., 4.])"
      ]
     },
     "execution_count": 101,
     "metadata": {},
     "output_type": "execute_result"
    }
   ],
   "source": [
    "data[data%2==0]"
   ]
  },
  {
   "cell_type": "code",
   "execution_count": 104,
   "id": "3b4457c7",
   "metadata": {},
   "outputs": [
    {
     "data": {
      "text/plain": [
       "array([[1, 2, 3],\n",
       "       [4, 5, 6],\n",
       "       [7, 8, 9]])"
      ]
     },
     "execution_count": 104,
     "metadata": {},
     "output_type": "execute_result"
    }
   ],
   "source": [
    "new=np.array([[1,2,3],[4,5,6],[7,8,9]])\n",
    "new"
   ]
  },
  {
   "cell_type": "code",
   "execution_count": 106,
   "id": "08d02e39",
   "metadata": {},
   "outputs": [
    {
     "data": {
      "text/plain": [
       "[array([[1],\n",
       "        [4],\n",
       "        [7]]),\n",
       " array([[2],\n",
       "        [5],\n",
       "        [8]]),\n",
       " array([[3],\n",
       "        [6],\n",
       "        [9]])]"
      ]
     },
     "execution_count": 106,
     "metadata": {},
     "output_type": "execute_result"
    }
   ],
   "source": [
    "# np.split(aray name,no of splits,axis)\n",
    "np.split(new,3,axis=1)"
   ]
  },
  {
   "cell_type": "code",
   "execution_count": 107,
   "id": "0540f90e",
   "metadata": {},
   "outputs": [
    {
     "data": {
      "text/plain": [
       "[array([[1, 2, 3]]),\n",
       " array([[4, 5, 6],\n",
       "        [7, 8, 9]]),\n",
       " array([], shape=(0, 3), dtype=int32)]"
      ]
     },
     "execution_count": 107,
     "metadata": {},
     "output_type": "execute_result"
    }
   ],
   "source": [
    "# np.split(arr,[a,b],axis=0/1)  ---arr[:a],arr[a:b],arr[b:]\n",
    "np.split(new,[1,3],axis=0)  #[:1],[1:3].[3:]"
   ]
  },
  {
   "cell_type": "code",
   "execution_count": 108,
   "id": "58da686d",
   "metadata": {},
   "outputs": [
    {
     "data": {
      "text/plain": [
       "[array([[1, 2, 3]]), array([[4, 5, 6]]), array([[7, 8, 9]])]"
      ]
     },
     "execution_count": 108,
     "metadata": {},
     "output_type": "execute_result"
    }
   ],
   "source": [
    "np.split(new,[1,2],axis=0)"
   ]
  },
  {
   "cell_type": "markdown",
   "id": "f8bef818",
   "metadata": {},
   "source": [
    "### Comparing arrays"
   ]
  },
  {
   "cell_type": "code",
   "execution_count": 109,
   "id": "00b8a07e",
   "metadata": {},
   "outputs": [],
   "source": [
    "a=np.array([1,2,3])\n",
    "b=np.array([2,4,3])"
   ]
  },
  {
   "cell_type": "code",
   "execution_count": 110,
   "id": "a6f44e1d",
   "metadata": {},
   "outputs": [
    {
     "data": {
      "text/plain": [
       "array([False, False,  True])"
      ]
     },
     "execution_count": 110,
     "metadata": {},
     "output_type": "execute_result"
    }
   ],
   "source": [
    "# Elemt wise comparison\n",
    "np.equal(a,b)"
   ]
  },
  {
   "cell_type": "code",
   "execution_count": 111,
   "id": "8f159f5f",
   "metadata": {},
   "outputs": [
    {
     "data": {
      "text/plain": [
       "False"
      ]
     },
     "execution_count": 111,
     "metadata": {},
     "output_type": "execute_result"
    }
   ],
   "source": [
    "# Comparing full array\n",
    "np.array_equal(a,b)"
   ]
  },
  {
   "cell_type": "code",
   "execution_count": 116,
   "id": "2e2bd0f4",
   "metadata": {},
   "outputs": [],
   "source": [
    "# Array Broadcasting\n",
    "a=np.array([[1,2,3],[2,3,8],[6,7,8]])\n",
    "b=np.array([[3,2,1]])"
   ]
  },
  {
   "cell_type": "code",
   "execution_count": 119,
   "id": "f02d7681",
   "metadata": {},
   "outputs": [
    {
     "data": {
      "text/plain": [
       "array([[4, 4, 4],\n",
       "       [5, 5, 9],\n",
       "       [9, 9, 9]])"
      ]
     },
     "execution_count": 119,
     "metadata": {},
     "output_type": "execute_result"
    }
   ],
   "source": [
    "np.sum([a,b])"
   ]
  },
  {
   "cell_type": "code",
   "execution_count": 118,
   "id": "a1f6fe79",
   "metadata": {},
   "outputs": [],
   "source": [
    "import warnings\n",
    "warnings.filterwarnings('ignore')"
   ]
  },
  {
   "cell_type": "code",
   "execution_count": 120,
   "id": "abef231b",
   "metadata": {},
   "outputs": [
    {
     "data": {
      "text/plain": [
       "array([[1, 2, 3],\n",
       "       [2, 3, 8],\n",
       "       [6, 7, 8]])"
      ]
     },
     "execution_count": 120,
     "metadata": {},
     "output_type": "execute_result"
    }
   ],
   "source": [
    "a"
   ]
  },
  {
   "cell_type": "code",
   "execution_count": null,
   "id": "844693b9",
   "metadata": {},
   "outputs": [],
   "source": []
  },
  {
   "cell_type": "code",
   "execution_count": null,
   "id": "8ed48fb8",
   "metadata": {},
   "outputs": [],
   "source": []
  }
 ],
 "metadata": {
  "kernelspec": {
   "display_name": "Python 3 (ipykernel)",
   "language": "python",
   "name": "python3"
  },
  "language_info": {
   "codemirror_mode": {
    "name": "ipython",
    "version": 3
   },
   "file_extension": ".py",
   "mimetype": "text/x-python",
   "name": "python",
   "nbconvert_exporter": "python",
   "pygments_lexer": "ipython3",
   "version": "3.10.9"
  }
 },
 "nbformat": 4,
 "nbformat_minor": 5
}
