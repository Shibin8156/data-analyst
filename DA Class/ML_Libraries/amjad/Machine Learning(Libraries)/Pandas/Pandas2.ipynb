{
 "cells": [
  {
   "cell_type": "code",
   "execution_count": 1,
   "id": "0b9e1ec8",
   "metadata": {},
   "outputs": [],
   "source": [
    "# pip install pandas"
   ]
  },
  {
   "cell_type": "code",
   "execution_count": 1,
   "id": "c7086e13",
   "metadata": {},
   "outputs": [],
   "source": [
    "import pandas as pd\n",
    "import numpy as np"
   ]
  },
  {
   "cell_type": "markdown",
   "id": "a732bc1e",
   "metadata": {},
   "source": [
    "## Basics"
   ]
  },
  {
   "cell_type": "code",
   "execution_count": null,
   "id": "49894ff9",
   "metadata": {},
   "outputs": [],
   "source": [
    "print(pd.__file__)"
   ]
  },
  {
   "cell_type": "code",
   "execution_count": 2,
   "id": "6c8f44ed",
   "metadata": {},
   "outputs": [
    {
     "data": {
      "text/html": [
       "<div>\n",
       "<style scoped>\n",
       "    .dataframe tbody tr th:only-of-type {\n",
       "        vertical-align: middle;\n",
       "    }\n",
       "\n",
       "    .dataframe tbody tr th {\n",
       "        vertical-align: top;\n",
       "    }\n",
       "\n",
       "    .dataframe thead th {\n",
       "        text-align: right;\n",
       "    }\n",
       "</style>\n",
       "<table border=\"1\" class=\"dataframe\">\n",
       "  <thead>\n",
       "    <tr style=\"text-align: right;\">\n",
       "      <th></th>\n",
       "      <th>Id</th>\n",
       "      <th>Name</th>\n",
       "      <th>Age</th>\n",
       "      <th>Marks</th>\n",
       "    </tr>\n",
       "  </thead>\n",
       "  <tbody>\n",
       "    <tr>\n",
       "      <th>0</th>\n",
       "      <td>100</td>\n",
       "      <td>Ramu</td>\n",
       "      <td>10</td>\n",
       "      <td>48</td>\n",
       "    </tr>\n",
       "    <tr>\n",
       "      <th>1</th>\n",
       "      <td>101</td>\n",
       "      <td>Raju</td>\n",
       "      <td>20</td>\n",
       "      <td>56</td>\n",
       "    </tr>\n",
       "    <tr>\n",
       "      <th>2</th>\n",
       "      <td>102</td>\n",
       "      <td>Tony</td>\n",
       "      <td>35</td>\n",
       "      <td>19</td>\n",
       "    </tr>\n",
       "    <tr>\n",
       "      <th>3</th>\n",
       "      <td>103</td>\n",
       "      <td>Jayan</td>\n",
       "      <td>24</td>\n",
       "      <td>36</td>\n",
       "    </tr>\n",
       "  </tbody>\n",
       "</table>\n",
       "</div>"
      ],
      "text/plain": [
       "    Id   Name  Age  Marks\n",
       "0  100   Ramu   10     48\n",
       "1  101   Raju   20     56\n",
       "2  102   Tony   35     19\n",
       "3  103  Jayan   24     36"
      ]
     },
     "execution_count": 2,
     "metadata": {},
     "output_type": "execute_result"
    }
   ],
   "source": [
    "data={'Id':[100,101,102,103],'Name':['Ramu','Raju','Tony','Jayan'],'Age':[10,20,35,24],'Marks':[48,56,19,36]}\n",
    "data1=pd.DataFrame(data)\n",
    "data1"
   ]
  },
  {
   "cell_type": "code",
   "execution_count": null,
   "id": "4249931d",
   "metadata": {},
   "outputs": [],
   "source": [
    "# get shape of dataframe\n",
    "data1.shape"
   ]
  },
  {
   "cell_type": "code",
   "execution_count": null,
   "id": "bd322768",
   "metadata": {},
   "outputs": [],
   "source": [
    "# display the first (5 rows is default)\n",
    "data1.head()\n",
    "data1.head(3)"
   ]
  },
  {
   "cell_type": "code",
   "execution_count": null,
   "id": "c1c6360a",
   "metadata": {},
   "outputs": [],
   "source": [
    "# return last 5 rows\n",
    "data1.tail()\n",
    "data1.tail(2)\n"
   ]
  },
  {
   "cell_type": "code",
   "execution_count": null,
   "id": "1b043a51",
   "metadata": {},
   "outputs": [],
   "source": [
    "# Get names of cols\n",
    "data1.columns\n"
   ]
  },
  {
   "cell_type": "code",
   "execution_count": null,
   "id": "de5bc965",
   "metadata": {},
   "outputs": [],
   "source": [
    "# Accessing a specific col\n",
    "data1.Age"
   ]
  },
  {
   "cell_type": "code",
   "execution_count": null,
   "id": "c55cfa95",
   "metadata": {},
   "outputs": [],
   "source": [
    "data1['Age']"
   ]
  },
  {
   "cell_type": "code",
   "execution_count": null,
   "id": "2b8dd933",
   "metadata": {},
   "outputs": [],
   "source": [
    "# Accessing multiple col\n",
    "data1[['Id','Name']]"
   ]
  },
  {
   "cell_type": "code",
   "execution_count": 3,
   "id": "eef10786",
   "metadata": {},
   "outputs": [
    {
     "data": {
      "text/html": [
       "<div>\n",
       "<style scoped>\n",
       "    .dataframe tbody tr th:only-of-type {\n",
       "        vertical-align: middle;\n",
       "    }\n",
       "\n",
       "    .dataframe tbody tr th {\n",
       "        vertical-align: top;\n",
       "    }\n",
       "\n",
       "    .dataframe thead th {\n",
       "        text-align: right;\n",
       "    }\n",
       "</style>\n",
       "<table border=\"1\" class=\"dataframe\">\n",
       "  <thead>\n",
       "    <tr style=\"text-align: right;\">\n",
       "      <th></th>\n",
       "      <th>Id</th>\n",
       "      <th>Name</th>\n",
       "      <th>Age</th>\n",
       "      <th>Marks</th>\n",
       "      <th>location</th>\n",
       "    </tr>\n",
       "  </thead>\n",
       "  <tbody>\n",
       "    <tr>\n",
       "      <th>0</th>\n",
       "      <td>100</td>\n",
       "      <td>Ramu</td>\n",
       "      <td>10</td>\n",
       "      <td>48</td>\n",
       "      <td>Delhi</td>\n",
       "    </tr>\n",
       "    <tr>\n",
       "      <th>1</th>\n",
       "      <td>101</td>\n",
       "      <td>Raju</td>\n",
       "      <td>20</td>\n",
       "      <td>56</td>\n",
       "      <td>Patna</td>\n",
       "    </tr>\n",
       "    <tr>\n",
       "      <th>2</th>\n",
       "      <td>102</td>\n",
       "      <td>Tony</td>\n",
       "      <td>35</td>\n",
       "      <td>19</td>\n",
       "      <td>Goa</td>\n",
       "    </tr>\n",
       "    <tr>\n",
       "      <th>3</th>\n",
       "      <td>103</td>\n",
       "      <td>Jayan</td>\n",
       "      <td>24</td>\n",
       "      <td>36</td>\n",
       "      <td>Kerala</td>\n",
       "    </tr>\n",
       "  </tbody>\n",
       "</table>\n",
       "</div>"
      ],
      "text/plain": [
       "    Id   Name  Age  Marks location\n",
       "0  100   Ramu   10     48    Delhi\n",
       "1  101   Raju   20     56    Patna\n",
       "2  102   Tony   35     19      Goa\n",
       "3  103  Jayan   24     36   Kerala"
      ]
     },
     "execution_count": 3,
     "metadata": {},
     "output_type": "execute_result"
    }
   ],
   "source": [
    "# Adding a new col to dataframe\n",
    "new_data=data1.copy()\n",
    "address=['Delhi','Patna','Goa','Kerala']\n",
    "new_data['location']=address\n",
    "new_data"
   ]
  },
  {
   "cell_type": "code",
   "execution_count": null,
   "id": "998645e9",
   "metadata": {},
   "outputs": [],
   "source": [
    "new_data=new_data.drop('Age',axis=1)\n",
    "new_data"
   ]
  },
  {
   "cell_type": "code",
   "execution_count": null,
   "id": "efecd10c",
   "metadata": {},
   "outputs": [],
   "source": [
    "# default sort asce\n",
    "data1.sort_values('Age',ascending=False)\n",
    "data1.sort_values('Name')\n"
   ]
  },
  {
   "cell_type": "code",
   "execution_count": 4,
   "id": "97a68a7c",
   "metadata": {},
   "outputs": [
    {
     "data": {
      "text/plain": [
       "RangeIndex(start=0, stop=4, step=1)"
      ]
     },
     "execution_count": 4,
     "metadata": {},
     "output_type": "execute_result"
    }
   ],
   "source": [
    "# view index assigned to dataframe\n",
    "data1.index"
   ]
  },
  {
   "cell_type": "code",
   "execution_count": 5,
   "id": "a1469665",
   "metadata": {},
   "outputs": [
    {
     "data": {
      "text/html": [
       "<div>\n",
       "<style scoped>\n",
       "    .dataframe tbody tr th:only-of-type {\n",
       "        vertical-align: middle;\n",
       "    }\n",
       "\n",
       "    .dataframe tbody tr th {\n",
       "        vertical-align: top;\n",
       "    }\n",
       "\n",
       "    .dataframe thead th {\n",
       "        text-align: right;\n",
       "    }\n",
       "</style>\n",
       "<table border=\"1\" class=\"dataframe\">\n",
       "  <thead>\n",
       "    <tr style=\"text-align: right;\">\n",
       "      <th></th>\n",
       "      <th>Name</th>\n",
       "      <th>Age</th>\n",
       "      <th>Marks</th>\n",
       "    </tr>\n",
       "    <tr>\n",
       "      <th>Id</th>\n",
       "      <th></th>\n",
       "      <th></th>\n",
       "      <th></th>\n",
       "    </tr>\n",
       "  </thead>\n",
       "  <tbody>\n",
       "    <tr>\n",
       "      <th>100</th>\n",
       "      <td>Ramu</td>\n",
       "      <td>10</td>\n",
       "      <td>48</td>\n",
       "    </tr>\n",
       "    <tr>\n",
       "      <th>101</th>\n",
       "      <td>Raju</td>\n",
       "      <td>20</td>\n",
       "      <td>56</td>\n",
       "    </tr>\n",
       "    <tr>\n",
       "      <th>102</th>\n",
       "      <td>Tony</td>\n",
       "      <td>35</td>\n",
       "      <td>19</td>\n",
       "    </tr>\n",
       "    <tr>\n",
       "      <th>103</th>\n",
       "      <td>Jayan</td>\n",
       "      <td>24</td>\n",
       "      <td>36</td>\n",
       "    </tr>\n",
       "  </tbody>\n",
       "</table>\n",
       "</div>"
      ],
      "text/plain": [
       "      Name  Age  Marks\n",
       "Id                    \n",
       "100   Ramu   10     48\n",
       "101   Raju   20     56\n",
       "102   Tony   35     19\n",
       "103  Jayan   24     36"
      ]
     },
     "execution_count": 5,
     "metadata": {},
     "output_type": "execute_result"
    }
   ],
   "source": [
    "# change index to some other col name\n",
    "data_index=data1.set_index('Id')\n",
    "data_index"
   ]
  },
  {
   "cell_type": "code",
   "execution_count": 6,
   "id": "5d320961",
   "metadata": {},
   "outputs": [
    {
     "data": {
      "text/html": [
       "<div>\n",
       "<style scoped>\n",
       "    .dataframe tbody tr th:only-of-type {\n",
       "        vertical-align: middle;\n",
       "    }\n",
       "\n",
       "    .dataframe tbody tr th {\n",
       "        vertical-align: top;\n",
       "    }\n",
       "\n",
       "    .dataframe thead th {\n",
       "        text-align: right;\n",
       "    }\n",
       "</style>\n",
       "<table border=\"1\" class=\"dataframe\">\n",
       "  <thead>\n",
       "    <tr style=\"text-align: right;\">\n",
       "      <th></th>\n",
       "      <th>Id</th>\n",
       "      <th>Name</th>\n",
       "      <th>Age</th>\n",
       "      <th>Marks</th>\n",
       "    </tr>\n",
       "  </thead>\n",
       "  <tbody>\n",
       "    <tr>\n",
       "      <th>0</th>\n",
       "      <td>100</td>\n",
       "      <td>Ramu</td>\n",
       "      <td>10</td>\n",
       "      <td>48</td>\n",
       "    </tr>\n",
       "    <tr>\n",
       "      <th>1</th>\n",
       "      <td>101</td>\n",
       "      <td>Raju</td>\n",
       "      <td>20</td>\n",
       "      <td>56</td>\n",
       "    </tr>\n",
       "    <tr>\n",
       "      <th>2</th>\n",
       "      <td>102</td>\n",
       "      <td>Tony</td>\n",
       "      <td>35</td>\n",
       "      <td>19</td>\n",
       "    </tr>\n",
       "    <tr>\n",
       "      <th>3</th>\n",
       "      <td>103</td>\n",
       "      <td>Jayan</td>\n",
       "      <td>24</td>\n",
       "      <td>36</td>\n",
       "    </tr>\n",
       "  </tbody>\n",
       "</table>\n",
       "</div>"
      ],
      "text/plain": [
       "    Id   Name  Age  Marks\n",
       "0  100   Ramu   10     48\n",
       "1  101   Raju   20     56\n",
       "2  102   Tony   35     19\n",
       "3  103  Jayan   24     36"
      ]
     },
     "execution_count": 6,
     "metadata": {},
     "output_type": "execute_result"
    }
   ],
   "source": [
    "# reset index to previous  stage\n",
    "data_index=data_index.reset_index()\n",
    "data_index"
   ]
  },
  {
   "cell_type": "code",
   "execution_count": 7,
   "id": "5778455e",
   "metadata": {},
   "outputs": [
    {
     "data": {
      "text/plain": [
       "Id         103\n",
       "Name     Jayan\n",
       "Age         24\n",
       "Marks       36\n",
       "Name: 3, dtype: object"
      ]
     },
     "execution_count": 7,
     "metadata": {},
     "output_type": "execute_result"
    }
   ],
   "source": [
    "# loc\n",
    "data_index.loc[3]"
   ]
  },
  {
   "cell_type": "code",
   "execution_count": null,
   "id": "dd4a5ce1",
   "metadata": {},
   "outputs": [],
   "source": [
    "data_index.loc[data_index.Name=='Jayan']"
   ]
  },
  {
   "cell_type": "code",
   "execution_count": 8,
   "id": "be88b76f",
   "metadata": {},
   "outputs": [
    {
     "data": {
      "text/html": [
       "<div>\n",
       "<style scoped>\n",
       "    .dataframe tbody tr th:only-of-type {\n",
       "        vertical-align: middle;\n",
       "    }\n",
       "\n",
       "    .dataframe tbody tr th {\n",
       "        vertical-align: top;\n",
       "    }\n",
       "\n",
       "    .dataframe thead th {\n",
       "        text-align: right;\n",
       "    }\n",
       "</style>\n",
       "<table border=\"1\" class=\"dataframe\">\n",
       "  <thead>\n",
       "    <tr style=\"text-align: right;\">\n",
       "      <th></th>\n",
       "      <th>Id</th>\n",
       "      <th>Age</th>\n",
       "      <th>Marks</th>\n",
       "    </tr>\n",
       "    <tr>\n",
       "      <th>Name</th>\n",
       "      <th></th>\n",
       "      <th></th>\n",
       "      <th></th>\n",
       "    </tr>\n",
       "  </thead>\n",
       "  <tbody>\n",
       "    <tr>\n",
       "      <th>Ramu</th>\n",
       "      <td>100</td>\n",
       "      <td>10</td>\n",
       "      <td>48</td>\n",
       "    </tr>\n",
       "    <tr>\n",
       "      <th>Raju</th>\n",
       "      <td>101</td>\n",
       "      <td>20</td>\n",
       "      <td>56</td>\n",
       "    </tr>\n",
       "    <tr>\n",
       "      <th>Tony</th>\n",
       "      <td>102</td>\n",
       "      <td>35</td>\n",
       "      <td>19</td>\n",
       "    </tr>\n",
       "    <tr>\n",
       "      <th>Jayan</th>\n",
       "      <td>103</td>\n",
       "      <td>24</td>\n",
       "      <td>36</td>\n",
       "    </tr>\n",
       "  </tbody>\n",
       "</table>\n",
       "</div>"
      ],
      "text/plain": [
       "        Id  Age  Marks\n",
       "Name                  \n",
       "Ramu   100   10     48\n",
       "Raju   101   20     56\n",
       "Tony   102   35     19\n",
       "Jayan  103   24     36"
      ]
     },
     "execution_count": 8,
     "metadata": {},
     "output_type": "execute_result"
    }
   ],
   "source": [
    "data=data_index.set_index('Name')\n",
    "data"
   ]
  },
  {
   "cell_type": "code",
   "execution_count": null,
   "id": "9318fb82",
   "metadata": {},
   "outputs": [],
   "source": [
    "data.loc['Jayan']"
   ]
  },
  {
   "cell_type": "code",
   "execution_count": 9,
   "id": "d932003d",
   "metadata": {},
   "outputs": [
    {
     "data": {
      "text/plain": [
       "Id       102\n",
       "Age       35\n",
       "Marks     19\n",
       "Name: Tony, dtype: int64"
      ]
     },
     "execution_count": 9,
     "metadata": {},
     "output_type": "execute_result"
    }
   ],
   "source": [
    "# iloc-pass only index\n",
    "data.iloc[2]"
   ]
  },
  {
   "cell_type": "code",
   "execution_count": 10,
   "id": "4d89636b",
   "metadata": {},
   "outputs": [
    {
     "data": {
      "text/html": [
       "<div>\n",
       "<style scoped>\n",
       "    .dataframe tbody tr th:only-of-type {\n",
       "        vertical-align: middle;\n",
       "    }\n",
       "\n",
       "    .dataframe tbody tr th {\n",
       "        vertical-align: top;\n",
       "    }\n",
       "\n",
       "    .dataframe thead th {\n",
       "        text-align: right;\n",
       "    }\n",
       "</style>\n",
       "<table border=\"1\" class=\"dataframe\">\n",
       "  <thead>\n",
       "    <tr style=\"text-align: right;\">\n",
       "      <th></th>\n",
       "      <th>Id</th>\n",
       "      <th>Age</th>\n",
       "      <th>Marks</th>\n",
       "    </tr>\n",
       "    <tr>\n",
       "      <th>Name</th>\n",
       "      <th></th>\n",
       "      <th></th>\n",
       "      <th></th>\n",
       "    </tr>\n",
       "  </thead>\n",
       "  <tbody>\n",
       "    <tr>\n",
       "      <th>Ramu</th>\n",
       "      <td>100</td>\n",
       "      <td>10</td>\n",
       "      <td>48</td>\n",
       "    </tr>\n",
       "    <tr>\n",
       "      <th>Tony</th>\n",
       "      <td>102</td>\n",
       "      <td>35</td>\n",
       "      <td>19</td>\n",
       "    </tr>\n",
       "    <tr>\n",
       "      <th>Raju</th>\n",
       "      <td>101</td>\n",
       "      <td>20</td>\n",
       "      <td>56</td>\n",
       "    </tr>\n",
       "  </tbody>\n",
       "</table>\n",
       "</div>"
      ],
      "text/plain": [
       "       Id  Age  Marks\n",
       "Name                 \n",
       "Ramu  100   10     48\n",
       "Tony  102   35     19\n",
       "Raju  101   20     56"
      ]
     },
     "execution_count": 10,
     "metadata": {},
     "output_type": "execute_result"
    }
   ],
   "source": [
    "data.iloc[[0,2,1]]"
   ]
  },
  {
   "cell_type": "code",
   "execution_count": 11,
   "id": "ea0d95be",
   "metadata": {},
   "outputs": [
    {
     "data": {
      "text/plain": [
       "Id        int64\n",
       "Name     object\n",
       "Age       int64\n",
       "Marks     int64\n",
       "dtype: object"
      ]
     },
     "execution_count": 11,
     "metadata": {},
     "output_type": "execute_result"
    }
   ],
   "source": [
    "# dtypes\n",
    "data1.dtypes"
   ]
  },
  {
   "cell_type": "code",
   "execution_count": 12,
   "id": "9c8e4275",
   "metadata": {},
   "outputs": [
    {
     "data": {
      "text/plain": [
       "array(['Ramu', 'Raju', 'Tony', 'Jayan'], dtype=object)"
      ]
     },
     "execution_count": 12,
     "metadata": {},
     "output_type": "execute_result"
    }
   ],
   "source": [
    "# unique values\n",
    "data1.Name.unique()"
   ]
  },
  {
   "cell_type": "code",
   "execution_count": 13,
   "id": "1b4b90f2",
   "metadata": {},
   "outputs": [
    {
     "data": {
      "text/plain": [
       "<bound method Series.unique of 0     Ramu\n",
       "1     Raju\n",
       "2     Tony\n",
       "3    Jayan\n",
       "Name: Name, dtype: object>"
      ]
     },
     "execution_count": 13,
     "metadata": {},
     "output_type": "execute_result"
    }
   ],
   "source": [
    "data1['Name'].unique"
   ]
  },
  {
   "cell_type": "code",
   "execution_count": 14,
   "id": "198d85b6",
   "metadata": {},
   "outputs": [
    {
     "data": {
      "text/html": [
       "<div>\n",
       "<style scoped>\n",
       "    .dataframe tbody tr th:only-of-type {\n",
       "        vertical-align: middle;\n",
       "    }\n",
       "\n",
       "    .dataframe tbody tr th {\n",
       "        vertical-align: top;\n",
       "    }\n",
       "\n",
       "    .dataframe thead th {\n",
       "        text-align: right;\n",
       "    }\n",
       "</style>\n",
       "<table border=\"1\" class=\"dataframe\">\n",
       "  <thead>\n",
       "    <tr style=\"text-align: right;\">\n",
       "      <th></th>\n",
       "      <th>day</th>\n",
       "      <th>city</th>\n",
       "      <th>temperature</th>\n",
       "      <th>windspeed</th>\n",
       "      <th>event</th>\n",
       "    </tr>\n",
       "  </thead>\n",
       "  <tbody>\n",
       "    <tr>\n",
       "      <th>0</th>\n",
       "      <td>01-01-2017</td>\n",
       "      <td>newyork</td>\n",
       "      <td>32</td>\n",
       "      <td>6</td>\n",
       "      <td>Rain</td>\n",
       "    </tr>\n",
       "    <tr>\n",
       "      <th>1</th>\n",
       "      <td>01-04-2017</td>\n",
       "      <td>newyork</td>\n",
       "      <td>36</td>\n",
       "      <td>7</td>\n",
       "      <td>Sunny</td>\n",
       "    </tr>\n",
       "    <tr>\n",
       "      <th>2</th>\n",
       "      <td>01-05-2017</td>\n",
       "      <td>newyork</td>\n",
       "      <td>28</td>\n",
       "      <td>12</td>\n",
       "      <td>Snow</td>\n",
       "    </tr>\n",
       "    <tr>\n",
       "      <th>3</th>\n",
       "      <td>01-06-2017</td>\n",
       "      <td>newyork</td>\n",
       "      <td>33</td>\n",
       "      <td>7</td>\n",
       "      <td>Sunny</td>\n",
       "    </tr>\n",
       "    <tr>\n",
       "      <th>4</th>\n",
       "      <td>01-07-2017</td>\n",
       "      <td>mumbai</td>\n",
       "      <td>90</td>\n",
       "      <td>5</td>\n",
       "      <td>Sunny</td>\n",
       "    </tr>\n",
       "    <tr>\n",
       "      <th>5</th>\n",
       "      <td>01-08-2017</td>\n",
       "      <td>mumbai</td>\n",
       "      <td>85</td>\n",
       "      <td>12</td>\n",
       "      <td>Fog</td>\n",
       "    </tr>\n",
       "    <tr>\n",
       "      <th>6</th>\n",
       "      <td>01-09-2017</td>\n",
       "      <td>mumbai</td>\n",
       "      <td>87</td>\n",
       "      <td>15</td>\n",
       "      <td>Fog</td>\n",
       "    </tr>\n",
       "    <tr>\n",
       "      <th>7</th>\n",
       "      <td>01-10-2017</td>\n",
       "      <td>mumbai</td>\n",
       "      <td>92</td>\n",
       "      <td>5</td>\n",
       "      <td>Rain</td>\n",
       "    </tr>\n",
       "    <tr>\n",
       "      <th>8</th>\n",
       "      <td>01-11-2017</td>\n",
       "      <td>paris</td>\n",
       "      <td>45</td>\n",
       "      <td>20</td>\n",
       "      <td>Sunny</td>\n",
       "    </tr>\n",
       "    <tr>\n",
       "      <th>9</th>\n",
       "      <td>01-12-2017</td>\n",
       "      <td>paris</td>\n",
       "      <td>50</td>\n",
       "      <td>13</td>\n",
       "      <td>Cloudy</td>\n",
       "    </tr>\n",
       "    <tr>\n",
       "      <th>10</th>\n",
       "      <td>01-13-2017</td>\n",
       "      <td>paris</td>\n",
       "      <td>54</td>\n",
       "      <td>8</td>\n",
       "      <td>Cloudy</td>\n",
       "    </tr>\n",
       "    <tr>\n",
       "      <th>11</th>\n",
       "      <td>01-14-2017</td>\n",
       "      <td>paris</td>\n",
       "      <td>42</td>\n",
       "      <td>10</td>\n",
       "      <td>Cloudy</td>\n",
       "    </tr>\n",
       "  </tbody>\n",
       "</table>\n",
       "</div>"
      ],
      "text/plain": [
       "           day     city  temperature  windspeed   event\n",
       "0   01-01-2017  newyork           32          6    Rain\n",
       "1   01-04-2017  newyork           36          7   Sunny\n",
       "2   01-05-2017  newyork           28         12    Snow\n",
       "3   01-06-2017  newyork           33          7   Sunny\n",
       "4   01-07-2017   mumbai           90          5   Sunny\n",
       "5   01-08-2017   mumbai           85         12     Fog\n",
       "6   01-09-2017   mumbai           87         15     Fog\n",
       "7   01-10-2017   mumbai           92          5    Rain\n",
       "8   01-11-2017    paris           45         20   Sunny\n",
       "9   01-12-2017    paris           50         13  Cloudy\n",
       "10  01-13-2017    paris           54          8  Cloudy\n",
       "11  01-14-2017    paris           42         10  Cloudy"
      ]
     },
     "execution_count": 14,
     "metadata": {},
     "output_type": "execute_result"
    }
   ],
   "source": [
    "data=pd.read_csv('weather_data.csv')\n",
    "data"
   ]
  },
  {
   "cell_type": "code",
   "execution_count": 15,
   "id": "79c19215",
   "metadata": {},
   "outputs": [
    {
     "data": {
      "text/plain": [
       "Sunny     4\n",
       "Cloudy    3\n",
       "Rain      2\n",
       "Fog       2\n",
       "Snow      1\n",
       "Name: event, dtype: int64"
      ]
     },
     "execution_count": 15,
     "metadata": {},
     "output_type": "execute_result"
    }
   ],
   "source": [
    "# value counts\n",
    "data.event.value_counts()"
   ]
  },
  {
   "cell_type": "code",
   "execution_count": 16,
   "id": "8a44126c",
   "metadata": {},
   "outputs": [
    {
     "name": "stdout",
     "output_type": "stream",
     "text": [
      "day\n",
      "city\n",
      "temperature\n",
      "windspeed\n",
      "event\n"
     ]
    }
   ],
   "source": [
    "# iterating col name\n",
    "for i in data:\n",
    "    print(i)"
   ]
  },
  {
   "cell_type": "code",
   "execution_count": 17,
   "id": "f8929bd3",
   "metadata": {},
   "outputs": [
    {
     "name": "stdout",
     "output_type": "stream",
     "text": [
      "['01-01-2017' '01-04-2017' '01-05-2017' '01-06-2017' '01-07-2017'\n",
      " '01-08-2017' '01-09-2017' '01-10-2017' '01-11-2017' '01-12-2017'\n",
      " '01-13-2017' '01-14-2017']\n",
      "['newyork' 'mumbai' 'paris']\n",
      "[32 36 28 33 90 85 87 92 45 50 54 42]\n",
      "[ 6  7 12  5 15 20 13  8 10]\n",
      "['Rain' 'Sunny' 'Snow' 'Fog' 'Cloudy']\n"
     ]
    }
   ],
   "source": [
    "# iterating col name and values\n",
    "for i in data:\n",
    "    print(data[i].unique())"
   ]
  },
  {
   "cell_type": "code",
   "execution_count": 18,
   "id": "131b6910",
   "metadata": {},
   "outputs": [
    {
     "name": "stdout",
     "output_type": "stream",
     "text": [
      "day\n",
      "0     01-01-2017\n",
      "1     01-04-2017\n",
      "2     01-05-2017\n",
      "3     01-06-2017\n",
      "4     01-07-2017\n",
      "5     01-08-2017\n",
      "6     01-09-2017\n",
      "7     01-10-2017\n",
      "8     01-11-2017\n",
      "9     01-12-2017\n",
      "10    01-13-2017\n",
      "11    01-14-2017\n",
      "Name: day, dtype: object\n",
      "city\n",
      "0     newyork\n",
      "1     newyork\n",
      "2     newyork\n",
      "3     newyork\n",
      "4      mumbai\n",
      "5      mumbai\n",
      "6      mumbai\n",
      "7      mumbai\n",
      "8       paris\n",
      "9       paris\n",
      "10      paris\n",
      "11      paris\n",
      "Name: city, dtype: object\n",
      "temperature\n",
      "0     32\n",
      "1     36\n",
      "2     28\n",
      "3     33\n",
      "4     90\n",
      "5     85\n",
      "6     87\n",
      "7     92\n",
      "8     45\n",
      "9     50\n",
      "10    54\n",
      "11    42\n",
      "Name: temperature, dtype: int64\n",
      "windspeed\n",
      "0      6\n",
      "1      7\n",
      "2     12\n",
      "3      7\n",
      "4      5\n",
      "5     12\n",
      "6     15\n",
      "7      5\n",
      "8     20\n",
      "9     13\n",
      "10     8\n",
      "11    10\n",
      "Name: windspeed, dtype: int64\n",
      "event\n",
      "0       Rain\n",
      "1      Sunny\n",
      "2       Snow\n",
      "3      Sunny\n",
      "4      Sunny\n",
      "5        Fog\n",
      "6        Fog\n",
      "7       Rain\n",
      "8      Sunny\n",
      "9     Cloudy\n",
      "10    Cloudy\n",
      "11    Cloudy\n",
      "Name: event, dtype: object\n"
     ]
    },
    {
     "name": "stderr",
     "output_type": "stream",
     "text": [
      "C:\\Users\\Amjad\\AppData\\Local\\Temp\\ipykernel_10512\\2056239730.py:2: FutureWarning: iteritems is deprecated and will be removed in a future version. Use .items instead.\n",
      "  for col,value in data.iteritems():\n"
     ]
    }
   ],
   "source": [
    "# getting col name and values\n",
    "for col,value in data.iteritems():\n",
    "    print(col)\n",
    "    print(value)"
   ]
  },
  {
   "cell_type": "code",
   "execution_count": null,
   "id": "434666fc",
   "metadata": {},
   "outputs": [],
   "source": [
    "# iterating through rows and its values\n",
    "for index,rows in data.iterrows():\n",
    "    print(rows)\n",
    "    print(col)"
   ]
  },
  {
   "cell_type": "markdown",
   "id": "b92adbae",
   "metadata": {},
   "source": [
    "### Slicing"
   ]
  },
  {
   "cell_type": "code",
   "execution_count": null,
   "id": "9fda322a",
   "metadata": {},
   "outputs": [],
   "source": [
    "data[1:4]"
   ]
  },
  {
   "cell_type": "code",
   "execution_count": null,
   "id": "0402a1b5",
   "metadata": {},
   "outputs": [],
   "source": [
    "data[:]"
   ]
  },
  {
   "cell_type": "code",
   "execution_count": null,
   "id": "60524ad5",
   "metadata": {},
   "outputs": [],
   "source": [
    "data[['city','event']][1:3]"
   ]
  },
  {
   "cell_type": "markdown",
   "id": "a20089d9",
   "metadata": {},
   "source": [
    "### basic operations "
   ]
  },
  {
   "cell_type": "code",
   "execution_count": null,
   "id": "f6fce1c1",
   "metadata": {},
   "outputs": [],
   "source": [
    "data.temperature.max()"
   ]
  },
  {
   "cell_type": "code",
   "execution_count": null,
   "id": "03488e83",
   "metadata": {},
   "outputs": [],
   "source": [
    "data['temperature'].max()"
   ]
  },
  {
   "cell_type": "code",
   "execution_count": null,
   "id": "8520551d",
   "metadata": {},
   "outputs": [],
   "source": [
    "data['temperature'].min()"
   ]
  },
  {
   "cell_type": "code",
   "execution_count": null,
   "id": "b118746a",
   "metadata": {},
   "outputs": [],
   "source": [
    "data['temperature'].mean()"
   ]
  },
  {
   "cell_type": "code",
   "execution_count": null,
   "id": "9291cd1c",
   "metadata": {},
   "outputs": [],
   "source": [
    "data['temperature'].std()"
   ]
  },
  {
   "cell_type": "code",
   "execution_count": null,
   "id": "3c6da92a",
   "metadata": {},
   "outputs": [],
   "source": [
    "data.describe()"
   ]
  },
  {
   "cell_type": "markdown",
   "id": "e37dbdc0",
   "metadata": {},
   "source": [
    "### Conditional selecting"
   ]
  },
  {
   "cell_type": "code",
   "execution_count": null,
   "id": "e4edc02d",
   "metadata": {},
   "outputs": [],
   "source": [
    "data[data['temperature']>40]"
   ]
  },
  {
   "cell_type": "code",
   "execution_count": null,
   "id": "c9738293",
   "metadata": {},
   "outputs": [],
   "source": [
    "data[data.temperature>40]"
   ]
  },
  {
   "cell_type": "code",
   "execution_count": null,
   "id": "d9820e87",
   "metadata": {},
   "outputs": [],
   "source": [
    "data['temperature'].max()"
   ]
  },
  {
   "cell_type": "code",
   "execution_count": null,
   "id": "394ae02e",
   "metadata": {},
   "outputs": [],
   "source": [
    "data['city'][data.temperature==data.temperature.max()]"
   ]
  },
  {
   "cell_type": "code",
   "execution_count": null,
   "id": "6044cc9a",
   "metadata": {},
   "outputs": [],
   "source": [
    "d=data[data.temperature==data.temperature.max()]\n",
    "print(d)\n",
    "d['city']"
   ]
  },
  {
   "cell_type": "code",
   "execution_count": null,
   "id": "5f68de7e",
   "metadata": {},
   "outputs": [],
   "source": [
    "d=data[data.windspeed==data.windspeed.max()]\n",
    "d['event']"
   ]
  },
  {
   "cell_type": "markdown",
   "id": "159e24d9",
   "metadata": {},
   "source": [
    "## Parsing dates"
   ]
  },
  {
   "cell_type": "code",
   "execution_count": null,
   "id": "769bb505",
   "metadata": {},
   "outputs": [],
   "source": [
    "data"
   ]
  },
  {
   "cell_type": "code",
   "execution_count": null,
   "id": "5669e188",
   "metadata": {},
   "outputs": [],
   "source": [
    "type(data['day'][0])"
   ]
  },
  {
   "cell_type": "code",
   "execution_count": null,
   "id": "55b0b40d",
   "metadata": {},
   "outputs": [],
   "source": [
    "data1=pd.read_csv('weather_data.csv',parse_dates=['day'])\n",
    "data1"
   ]
  },
  {
   "cell_type": "code",
   "execution_count": null,
   "id": "46b13d5e",
   "metadata": {},
   "outputs": [],
   "source": [
    "type(data1['day'][0])"
   ]
  },
  {
   "cell_type": "code",
   "execution_count": null,
   "id": "22b4c7c2",
   "metadata": {},
   "outputs": [],
   "source": [
    "new=pd.read_csv('Book1.csv')\n",
    "new"
   ]
  },
  {
   "cell_type": "code",
   "execution_count": null,
   "id": "eacfa816",
   "metadata": {},
   "outputs": [],
   "source": [
    "type(new['DOB'][0])"
   ]
  },
  {
   "cell_type": "code",
   "execution_count": null,
   "id": "c1a6172c",
   "metadata": {},
   "outputs": [],
   "source": [
    "new=pd.read_csv('Book1.csv',parse_dates=['DOB'])\n",
    "new"
   ]
  },
  {
   "cell_type": "code",
   "execution_count": null,
   "id": "ba7e8056",
   "metadata": {},
   "outputs": [],
   "source": [
    "type(new['DOB'][0])\n"
   ]
  },
  {
   "cell_type": "code",
   "execution_count": null,
   "id": "b33605e0",
   "metadata": {},
   "outputs": [],
   "source": [
    "data=pd.read_csv('weather_data.csv',parse_dates=['day'],index_col='day')\n",
    "data"
   ]
  },
  {
   "cell_type": "markdown",
   "id": "e94348a3",
   "metadata": {},
   "source": [
    "### date range\n"
   ]
  },
  {
   "cell_type": "code",
   "execution_count": null,
   "id": "066aab1f",
   "metadata": {},
   "outputs": [],
   "source": [
    "# generate a date range\n",
    "ind=pd.date_range('2018-01-01','2018-05-05')\n",
    "ind"
   ]
  },
  {
   "cell_type": "code",
   "execution_count": null,
   "id": "41abec19",
   "metadata": {},
   "outputs": [],
   "source": [
    "type(ind)"
   ]
  },
  {
   "cell_type": "markdown",
   "id": "1b701090",
   "metadata": {},
   "source": [
    "### to datetime"
   ]
  },
  {
   "cell_type": "code",
   "execution_count": null,
   "id": "67d9bf03",
   "metadata": {},
   "outputs": [],
   "source": [
    "date=['2017-08-06','2017.08.10','2017/08/10','Jan 10,2017']\n",
    "type(date[0])"
   ]
  },
  {
   "cell_type": "code",
   "execution_count": null,
   "id": "e74a0afa",
   "metadata": {},
   "outputs": [],
   "source": [
    "date=pd.to_datetime('2017/08.06')\n",
    "date"
   ]
  },
  {
   "cell_type": "code",
   "execution_count": null,
   "id": "97ea5b90",
   "metadata": {},
   "outputs": [],
   "source": [
    "y=pd.to_datetime('13/12/17',yearfirst=True)\n",
    "y"
   ]
  },
  {
   "cell_type": "code",
   "execution_count": null,
   "id": "74e88e0b",
   "metadata": {},
   "outputs": [],
   "source": [
    "y=pd.to_datetime('13/12/17',dayfirst=True)\n",
    "y"
   ]
  },
  {
   "cell_type": "markdown",
   "id": "ebdfd9d0",
   "metadata": {},
   "source": [
    "### Handling Missing Values"
   ]
  },
  {
   "cell_type": "code",
   "execution_count": null,
   "id": "c1ea7c51",
   "metadata": {},
   "outputs": [],
   "source": [
    "data_missing=pd.read_csv('weather_data_missing.csv')\n",
    "data_missing"
   ]
  },
  {
   "cell_type": "code",
   "execution_count": null,
   "id": "80e1e0ab",
   "metadata": {},
   "outputs": [],
   "source": [
    "# check for missing values\n",
    "data_missing.isna()"
   ]
  },
  {
   "cell_type": "code",
   "execution_count": null,
   "id": "0a83ffcd",
   "metadata": {},
   "outputs": [],
   "source": [
    "data_missing.isna().sum()"
   ]
  },
  {
   "cell_type": "code",
   "execution_count": null,
   "id": "79c4d9f0",
   "metadata": {},
   "outputs": [],
   "source": [
    "data_missing.isnull().sum()"
   ]
  },
  {
   "cell_type": "code",
   "execution_count": null,
   "id": "057c8246",
   "metadata": {},
   "outputs": [],
   "source": [
    "# fill missing values \n",
    "data2=data_missing.fillna(0)\n",
    "data2"
   ]
  },
  {
   "cell_type": "code",
   "execution_count": null,
   "id": "a371814d",
   "metadata": {},
   "outputs": [],
   "source": [
    "avg=data_missing['temperature'].mean()\n",
    "data_missing.fillna(avg)"
   ]
  },
  {
   "cell_type": "code",
   "execution_count": null,
   "id": "28bcff72",
   "metadata": {},
   "outputs": [],
   "source": [
    "# forward fill\n",
    "data_missing.fillna(method='ffill')  "
   ]
  },
  {
   "cell_type": "code",
   "execution_count": null,
   "id": "3c4c0e1a",
   "metadata": {},
   "outputs": [],
   "source": [
    "# backward fill\n",
    "data_missing.fillna(method='bfill') "
   ]
  },
  {
   "cell_type": "code",
   "execution_count": null,
   "id": "d040d2c5",
   "metadata": {},
   "outputs": [],
   "source": [
    "# Linear interpolation (default)[fills with avg of preceeding and succeeding vals]\n",
    "\n",
    "data_missing.interpolate()"
   ]
  },
  {
   "cell_type": "code",
   "execution_count": null,
   "id": "a3ac3f79",
   "metadata": {},
   "outputs": [],
   "source": [
    "# drop rows with null vals\n",
    "data_missing.dropna()"
   ]
  },
  {
   "cell_type": "code",
   "execution_count": null,
   "id": "941d058f",
   "metadata": {},
   "outputs": [],
   "source": [
    "# drops rows with full NaN vals\n",
    "data_missing.dropna(how='all')"
   ]
  },
  {
   "cell_type": "code",
   "execution_count": null,
   "id": "57e14a47",
   "metadata": {},
   "outputs": [],
   "source": [
    "data_missing.dropna(how='any')"
   ]
  },
  {
   "cell_type": "markdown",
   "id": "3893abdd",
   "metadata": {},
   "source": [
    "## Replace"
   ]
  },
  {
   "cell_type": "code",
   "execution_count": 3,
   "id": "c175846f",
   "metadata": {},
   "outputs": [
    {
     "data": {
      "text/html": [
       "<div>\n",
       "<style scoped>\n",
       "    .dataframe tbody tr th:only-of-type {\n",
       "        vertical-align: middle;\n",
       "    }\n",
       "\n",
       "    .dataframe tbody tr th {\n",
       "        vertical-align: top;\n",
       "    }\n",
       "\n",
       "    .dataframe thead th {\n",
       "        text-align: right;\n",
       "    }\n",
       "</style>\n",
       "<table border=\"1\" class=\"dataframe\">\n",
       "  <thead>\n",
       "    <tr style=\"text-align: right;\">\n",
       "      <th></th>\n",
       "      <th>day</th>\n",
       "      <th>temperature</th>\n",
       "      <th>windspeed</th>\n",
       "      <th>event</th>\n",
       "    </tr>\n",
       "  </thead>\n",
       "  <tbody>\n",
       "    <tr>\n",
       "      <th>0</th>\n",
       "      <td>1/1/2017</td>\n",
       "      <td>32 F</td>\n",
       "      <td>6 mph</td>\n",
       "      <td>Rain</td>\n",
       "    </tr>\n",
       "    <tr>\n",
       "      <th>1</th>\n",
       "      <td>1/4/2017</td>\n",
       "      <td>-99999</td>\n",
       "      <td>9</td>\n",
       "      <td>Sunny</td>\n",
       "    </tr>\n",
       "    <tr>\n",
       "      <th>2</th>\n",
       "      <td>1/5/2017</td>\n",
       "      <td>28</td>\n",
       "      <td>-99999</td>\n",
       "      <td>Snow</td>\n",
       "    </tr>\n",
       "    <tr>\n",
       "      <th>3</th>\n",
       "      <td>1/6/2017</td>\n",
       "      <td>-99999</td>\n",
       "      <td>7</td>\n",
       "      <td>0</td>\n",
       "    </tr>\n",
       "    <tr>\n",
       "      <th>4</th>\n",
       "      <td>1/7/2017</td>\n",
       "      <td>32 C</td>\n",
       "      <td>-88888</td>\n",
       "      <td>Rain</td>\n",
       "    </tr>\n",
       "    <tr>\n",
       "      <th>5</th>\n",
       "      <td>1/8/2017</td>\n",
       "      <td>38 F</td>\n",
       "      <td>-99999</td>\n",
       "      <td>Sunny</td>\n",
       "    </tr>\n",
       "    <tr>\n",
       "      <th>6</th>\n",
       "      <td>1/9/2017</td>\n",
       "      <td>35</td>\n",
       "      <td>10 kmph</td>\n",
       "      <td>0</td>\n",
       "    </tr>\n",
       "    <tr>\n",
       "      <th>7</th>\n",
       "      <td>1/10/2017</td>\n",
       "      <td>34</td>\n",
       "      <td>8</td>\n",
       "      <td>Cloudy</td>\n",
       "    </tr>\n",
       "    <tr>\n",
       "      <th>8</th>\n",
       "      <td>1/11/2017</td>\n",
       "      <td>40</td>\n",
       "      <td>12</td>\n",
       "      <td>Sunny</td>\n",
       "    </tr>\n",
       "  </tbody>\n",
       "</table>\n",
       "</div>"
      ],
      "text/plain": [
       "         day temperature windspeed   event\n",
       "0   1/1/2017        32 F     6 mph    Rain\n",
       "1   1/4/2017      -99999         9   Sunny\n",
       "2   1/5/2017          28    -99999    Snow\n",
       "3   1/6/2017      -99999         7       0\n",
       "4   1/7/2017        32 C    -88888    Rain\n",
       "5   1/8/2017        38 F    -99999   Sunny\n",
       "6   1/9/2017          35   10 kmph       0\n",
       "7  1/10/2017          34         8  Cloudy\n",
       "8  1/11/2017          40        12   Sunny"
      ]
     },
     "execution_count": 3,
     "metadata": {},
     "output_type": "execute_result"
    }
   ],
   "source": [
    "data=pd.read_csv('missing_weather_data.csv')\n",
    "data"
   ]
  },
  {
   "cell_type": "code",
   "execution_count": null,
   "id": "a107be05",
   "metadata": {},
   "outputs": [],
   "source": [
    "data.replace('-99999',np.NaN)"
   ]
  },
  {
   "cell_type": "code",
   "execution_count": null,
   "id": "dcc5883a",
   "metadata": {},
   "outputs": [],
   "source": [
    "data.replace(['-99999','-88888'],np.NaN)"
   ]
  },
  {
   "cell_type": "code",
   "execution_count": null,
   "id": "d781811b",
   "metadata": {},
   "outputs": [],
   "source": [
    "data.replace({'temperature':'-99999','windspeed':'-88888','event':'0'},np.NaN)"
   ]
  },
  {
   "cell_type": "code",
   "execution_count": null,
   "id": "012422c0",
   "metadata": {},
   "outputs": [],
   "source": [
    "data.replace({'temperature':'-99999','windspeed':['-88888','-99999'],'event':'0'},np.NaN)"
   ]
  },
  {
   "cell_type": "code",
   "execution_count": null,
   "id": "e4a7acba",
   "metadata": {},
   "outputs": [],
   "source": [
    "data.replace({'-99999':np.NaN,'-88888':np.NaN,'0':'Rain'})"
   ]
  },
  {
   "cell_type": "code",
   "execution_count": null,
   "id": "048933b8",
   "metadata": {},
   "outputs": [],
   "source": [
    "# to remove kmph,c,f\n",
    "data.replace({'temperature':'[A-Za-z]','windspeed':'[A-Za-z]','event':'[A-Za-z]'},'',regex=True)"
   ]
  },
  {
   "cell_type": "code",
   "execution_count": null,
   "id": "2bcc876f",
   "metadata": {},
   "outputs": [],
   "source": [
    "data.replace(['Rain','Sunny','Cloudy','Snow'],[100,101,102,103])"
   ]
  },
  {
   "cell_type": "code",
   "execution_count": null,
   "id": "e88396f8",
   "metadata": {},
   "outputs": [],
   "source": []
  }
 ],
 "metadata": {
  "kernelspec": {
   "display_name": "Python 3 (ipykernel)",
   "language": "python",
   "name": "python3"
  },
  "language_info": {
   "codemirror_mode": {
    "name": "ipython",
    "version": 3
   },
   "file_extension": ".py",
   "mimetype": "text/x-python",
   "name": "python",
   "nbconvert_exporter": "python",
   "pygments_lexer": "ipython3",
   "version": "3.10.9"
  }
 },
 "nbformat": 4,
 "nbformat_minor": 5
}
