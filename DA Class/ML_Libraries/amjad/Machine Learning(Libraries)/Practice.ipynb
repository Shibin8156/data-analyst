{
 "cells": [
  {
   "cell_type": "code",
   "execution_count": 1,
   "id": "4a46a73a",
   "metadata": {},
   "outputs": [],
   "source": [
    "import numpy as np"
   ]
  },
  {
   "cell_type": "code",
   "execution_count": 34,
   "id": "69825a7e",
   "metadata": {},
   "outputs": [
    {
     "data": {
      "text/plain": [
       "array([[3, 9, 8, 3, 9, 8],\n",
       "       [6, 5, 7, 2, 6, 7],\n",
       "       [3, 9, 8, 3, 5, 7]])"
      ]
     },
     "execution_count": 34,
     "metadata": {},
     "output_type": "execute_result"
    }
   ],
   "source": [
    "arr1=np.array([[3,9,8],[6,5,7],[3,9,8]])\n",
    "arr2=np.array([[3,9,8],[2,6,7],[3,5,7]])\n",
    "arr3=np.array([[2,6,7],[6,5,7],[6,5,7]])\n",
    "\n",
    "np.hstack([arr1,arr2])"
   ]
  },
  {
   "cell_type": "code",
   "execution_count": 14,
   "id": "f5ffaf77",
   "metadata": {},
   "outputs": [
    {
     "data": {
      "text/plain": [
       "array([['?', '?', '?', '?'],\n",
       "       ['?', '?', '?', '?'],\n",
       "       ['?', '?', '?', '?'],\n",
       "       ['?', '?', '?', '?']], dtype='<U1')"
      ]
     },
     "execution_count": 14,
     "metadata": {},
     "output_type": "execute_result"
    }
   ],
   "source": [
    "a"
   ]
  },
  {
   "cell_type": "code",
   "execution_count": 4,
   "id": "c28f8197",
   "metadata": {},
   "outputs": [
    {
     "data": {
      "text/plain": [
       "numpy.ndarray"
      ]
     },
     "execution_count": 4,
     "metadata": {},
     "output_type": "execute_result"
    }
   ],
   "source": [
    "type(a)"
   ]
  },
  {
   "cell_type": "code",
   "execution_count": 36,
   "id": "6a35ad0b",
   "metadata": {},
   "outputs": [
    {
     "data": {
      "text/plain": [
       "array([[3, 9, 8, 6],\n",
       "       [1, 6, 5, 7],\n",
       "       [6, 3, 9, 8]])"
      ]
     },
     "execution_count": 36,
     "metadata": {},
     "output_type": "execute_result"
    }
   ],
   "source": [
    "# SLICING\n",
    "arr1=np.array([[3,9,8,6],[1,6,5,7],[6,3,9,8]])\n",
    "arr1\n",
    "# ([ROW],[COLS])\n"
   ]
  },
  {
   "cell_type": "code",
   "execution_count": 37,
   "id": "75f00ba0",
   "metadata": {},
   "outputs": [
    {
     "name": "stdout",
     "output_type": "stream",
     "text": [
      "[6 6 8]\n"
     ]
    }
   ],
   "source": [
    "print(arr1[[2,1,2],[0,1,3]])"
   ]
  },
  {
   "cell_type": "code",
   "execution_count": 40,
   "id": "0283e0cb",
   "metadata": {},
   "outputs": [
    {
     "data": {
      "text/plain": [
       "array([[3, 9, 8, 6, 7],\n",
       "       [1, 6, 5, 7, 5],\n",
       "       [6, 3, 9, 8, 3],\n",
       "       [1, 6, 5, 7, 5]])"
      ]
     },
     "execution_count": 40,
     "metadata": {},
     "output_type": "execute_result"
    }
   ],
   "source": [
    "arr1=np.array([[3,9,8,6,7],[1,6,5,7,5],[6,3,9,8,3],[1,6,5,7,5]])\n",
    "arr1\n"
   ]
  },
  {
   "cell_type": "code",
   "execution_count": 39,
   "id": "a05e63bd",
   "metadata": {},
   "outputs": [
    {
     "name": "stdout",
     "output_type": "stream",
     "text": [
      "[[1 6 5 7 5]\n",
      " [1 6 5 7 5]]\n"
     ]
    }
   ],
   "source": [
    "print(arr1[1::2,:])"
   ]
  },
  {
   "cell_type": "code",
   "execution_count": 41,
   "id": "d291a664",
   "metadata": {},
   "outputs": [
    {
     "ename": "ValueError",
     "evalue": "matmul: Input operand 1 has a mismatch in its core dimension 0, with gufunc signature (n?,k),(k,m?)->(n?,m?) (size 3 is different from 5)",
     "output_type": "error",
     "traceback": [
      "\u001b[1;31m---------------------------------------------------------------------------\u001b[0m",
      "\u001b[1;31mValueError\u001b[0m                                Traceback (most recent call last)",
      "Cell \u001b[1;32mIn[41], line 1\u001b[0m\n\u001b[1;32m----> 1\u001b[0m \u001b[43mnp\u001b[49m\u001b[38;5;241;43m.\u001b[39;49m\u001b[43mmatmul\u001b[49m\u001b[43m(\u001b[49m\u001b[43marr1\u001b[49m\u001b[43m,\u001b[49m\u001b[43marr2\u001b[49m\u001b[43m)\u001b[49m\n",
      "\u001b[1;31mValueError\u001b[0m: matmul: Input operand 1 has a mismatch in its core dimension 0, with gufunc signature (n?,k),(k,m?)->(n?,m?) (size 3 is different from 5)"
     ]
    }
   ],
   "source": [
    "np.matmul(arr1,arr2)"
   ]
  },
  {
   "cell_type": "code",
   "execution_count": 42,
   "id": "97f10273",
   "metadata": {},
   "outputs": [],
   "source": [
    "import pandas as pd\n"
   ]
  },
  {
   "cell_type": "code",
   "execution_count": 43,
   "id": "34d238a1",
   "metadata": {},
   "outputs": [],
   "source": [
    "df=pd.DataFrame(d)"
   ]
  },
  {
   "cell_type": "code",
   "execution_count": null,
   "id": "6e2d108d",
   "metadata": {},
   "outputs": [],
   "source": [
    "d=pd.read_csv('hi.csv',"
   ]
  }
 ],
 "metadata": {
  "kernelspec": {
   "display_name": "Python 3 (ipykernel)",
   "language": "python",
   "name": "python3"
  },
  "language_info": {
   "codemirror_mode": {
    "name": "ipython",
    "version": 3
   },
   "file_extension": ".py",
   "mimetype": "text/x-python",
   "name": "python",
   "nbconvert_exporter": "python",
   "pygments_lexer": "ipython3",
   "version": "3.10.9"
  }
 },
 "nbformat": 4,
 "nbformat_minor": 5
}
