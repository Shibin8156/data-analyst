{
 "cells": [
  {
   "cell_type": "markdown",
   "id": "d3c528ec",
   "metadata": {},
   "source": [
    "# 1\n",
    "#### itemsize() returns the memory used for each element and nbytes() is used to return the total memory used for the array\n"
   ]
  },
  {
   "cell_type": "markdown",
   "id": "bf4ec2b7",
   "metadata": {},
   "source": [
    "# 2\n",
    "#### concatenate(a,b)"
   ]
  },
  {
   "cell_type": "markdown",
   "id": "a758d6d7",
   "metadata": {},
   "source": [
    "# 3\n",
    "#### array broadcasting is "
   ]
  },
  {
   "cell_type": "markdown",
   "id": "beede20f",
   "metadata": {},
   "source": [
    "# 4\n"
   ]
  },
  {
   "cell_type": "code",
   "execution_count": 1,
   "id": "31233f5b",
   "metadata": {},
   "outputs": [],
   "source": [
    "data={'Name':['Steve','Rella','Jain','Sam','Allen','Betsy','Paul'],\n",
    "      'Reg No':[12876,12936,13721,13789,13800,13819,14230],\n",
    "      'Marks(%)':[87,67.3,91.1,89,88.5,62.8,92]}"
   ]
  },
  {
   "cell_type": "code",
   "execution_count": 7,
   "id": "4f414974",
   "metadata": {},
   "outputs": [
    {
     "data": {
      "text/plain": [
       "{'Name': ['Steve', 'Rella', 'Jain', 'Sam', 'Allen', 'Betsy', 'Paul'],\n",
       " 'Reg No': [12876, 12936, 13721, 13789, 13800, 13819, 14230],\n",
       " 'Marks(%)': [87, 67.3, 91.1, 89, 88.5, 62.8, 92]}"
      ]
     },
     "execution_count": 7,
     "metadata": {},
     "output_type": "execute_result"
    }
   ],
   "source": [
    "import pandas as pd\n",
    "data"
   ]
  },
  {
   "cell_type": "code",
   "execution_count": 9,
   "id": "f2444c63",
   "metadata": {},
   "outputs": [
    {
     "data": {
      "text/html": [
       "<div>\n",
       "<style scoped>\n",
       "    .dataframe tbody tr th:only-of-type {\n",
       "        vertical-align: middle;\n",
       "    }\n",
       "\n",
       "    .dataframe tbody tr th {\n",
       "        vertical-align: top;\n",
       "    }\n",
       "\n",
       "    .dataframe thead th {\n",
       "        text-align: right;\n",
       "    }\n",
       "</style>\n",
       "<table border=\"1\" class=\"dataframe\">\n",
       "  <thead>\n",
       "    <tr style=\"text-align: right;\">\n",
       "      <th></th>\n",
       "      <th>Name</th>\n",
       "      <th>Reg No</th>\n",
       "      <th>Marks(%)</th>\n",
       "    </tr>\n",
       "  </thead>\n",
       "  <tbody>\n",
       "    <tr>\n",
       "      <th>0</th>\n",
       "      <td>Steve</td>\n",
       "      <td>12876</td>\n",
       "      <td>87.0</td>\n",
       "    </tr>\n",
       "    <tr>\n",
       "      <th>1</th>\n",
       "      <td>Rella</td>\n",
       "      <td>12936</td>\n",
       "      <td>67.3</td>\n",
       "    </tr>\n",
       "    <tr>\n",
       "      <th>2</th>\n",
       "      <td>Jain</td>\n",
       "      <td>13721</td>\n",
       "      <td>91.1</td>\n",
       "    </tr>\n",
       "    <tr>\n",
       "      <th>3</th>\n",
       "      <td>Sam</td>\n",
       "      <td>13789</td>\n",
       "      <td>89.0</td>\n",
       "    </tr>\n",
       "    <tr>\n",
       "      <th>4</th>\n",
       "      <td>Allen</td>\n",
       "      <td>13800</td>\n",
       "      <td>88.5</td>\n",
       "    </tr>\n",
       "    <tr>\n",
       "      <th>5</th>\n",
       "      <td>Betsy</td>\n",
       "      <td>13819</td>\n",
       "      <td>62.8</td>\n",
       "    </tr>\n",
       "    <tr>\n",
       "      <th>6</th>\n",
       "      <td>Paul</td>\n",
       "      <td>14230</td>\n",
       "      <td>92.0</td>\n",
       "    </tr>\n",
       "  </tbody>\n",
       "</table>\n",
       "</div>"
      ],
      "text/plain": [
       "    Name  Reg No  Marks(%)\n",
       "0  Steve   12876      87.0\n",
       "1  Rella   12936      67.3\n",
       "2   Jain   13721      91.1\n",
       "3    Sam   13789      89.0\n",
       "4  Allen   13800      88.5\n",
       "5  Betsy   13819      62.8\n",
       "6   Paul   14230      92.0"
      ]
     },
     "execution_count": 9,
     "metadata": {},
     "output_type": "execute_result"
    }
   ],
   "source": [
    "data_frame=pd.DataFrame(data)\n",
    "data_frame"
   ]
  },
  {
   "cell_type": "code",
   "execution_count": 77,
   "id": "d01029c1",
   "metadata": {},
   "outputs": [
    {
     "data": {
      "text/html": [
       "<div>\n",
       "<style scoped>\n",
       "    .dataframe tbody tr th:only-of-type {\n",
       "        vertical-align: middle;\n",
       "    }\n",
       "\n",
       "    .dataframe tbody tr th {\n",
       "        vertical-align: top;\n",
       "    }\n",
       "\n",
       "    .dataframe thead th {\n",
       "        text-align: right;\n",
       "    }\n",
       "</style>\n",
       "<table border=\"1\" class=\"dataframe\">\n",
       "  <thead>\n",
       "    <tr style=\"text-align: right;\">\n",
       "      <th></th>\n",
       "      <th>Name</th>\n",
       "      <th>Reg No</th>\n",
       "      <th>Marks(%)</th>\n",
       "    </tr>\n",
       "  </thead>\n",
       "  <tbody>\n",
       "    <tr>\n",
       "      <th>0</th>\n",
       "      <td>Steve</td>\n",
       "      <td>12876</td>\n",
       "      <td>87.0</td>\n",
       "    </tr>\n",
       "    <tr>\n",
       "      <th>1</th>\n",
       "      <td>Rella</td>\n",
       "      <td>12936</td>\n",
       "      <td>67.3</td>\n",
       "    </tr>\n",
       "    <tr>\n",
       "      <th>2</th>\n",
       "      <td>Jain</td>\n",
       "      <td>13721</td>\n",
       "      <td>91.1</td>\n",
       "    </tr>\n",
       "    <tr>\n",
       "      <th>3</th>\n",
       "      <td>Sam</td>\n",
       "      <td>13789</td>\n",
       "      <td>89.0</td>\n",
       "    </tr>\n",
       "    <tr>\n",
       "      <th>4</th>\n",
       "      <td>Allen</td>\n",
       "      <td>13800</td>\n",
       "      <td>88.5</td>\n",
       "    </tr>\n",
       "    <tr>\n",
       "      <th>5</th>\n",
       "      <td>Betsy</td>\n",
       "      <td>13819</td>\n",
       "      <td>62.8</td>\n",
       "    </tr>\n",
       "    <tr>\n",
       "      <th>6</th>\n",
       "      <td>Paul</td>\n",
       "      <td>14230</td>\n",
       "      <td>92.0</td>\n",
       "    </tr>\n",
       "  </tbody>\n",
       "</table>\n",
       "</div>"
      ],
      "text/plain": [
       "    Name  Reg No  Marks(%)\n",
       "0  Steve   12876      87.0\n",
       "1  Rella   12936      67.3\n",
       "2   Jain   13721      91.1\n",
       "3    Sam   13789      89.0\n",
       "4  Allen   13800      88.5\n",
       "5  Betsy   13819      62.8\n",
       "6   Paul   14230      92.0"
      ]
     },
     "execution_count": 77,
     "metadata": {},
     "output_type": "execute_result"
    }
   ],
   "source": [
    "# 4a\n",
    "data_frame"
   ]
  },
  {
   "cell_type": "code",
   "execution_count": 11,
   "id": "f1a020d4",
   "metadata": {},
   "outputs": [],
   "source": [
    "data_frame.to_csv('dataframe_csv')"
   ]
  },
  {
   "cell_type": "code",
   "execution_count": 20,
   "id": "78bf2783",
   "metadata": {},
   "outputs": [
    {
     "data": {
      "text/html": [
       "<div>\n",
       "<style scoped>\n",
       "    .dataframe tbody tr th:only-of-type {\n",
       "        vertical-align: middle;\n",
       "    }\n",
       "\n",
       "    .dataframe tbody tr th {\n",
       "        vertical-align: top;\n",
       "    }\n",
       "\n",
       "    .dataframe thead th {\n",
       "        text-align: right;\n",
       "    }\n",
       "</style>\n",
       "<table border=\"1\" class=\"dataframe\">\n",
       "  <thead>\n",
       "    <tr style=\"text-align: right;\">\n",
       "      <th></th>\n",
       "      <th>Name</th>\n",
       "      <th>Reg No</th>\n",
       "      <th>Marks(%)</th>\n",
       "    </tr>\n",
       "  </thead>\n",
       "  <tbody>\n",
       "    <tr>\n",
       "      <th>3</th>\n",
       "      <td>Sam</td>\n",
       "      <td>13789</td>\n",
       "      <td>89.0</td>\n",
       "    </tr>\n",
       "    <tr>\n",
       "      <th>4</th>\n",
       "      <td>Allen</td>\n",
       "      <td>13800</td>\n",
       "      <td>88.5</td>\n",
       "    </tr>\n",
       "    <tr>\n",
       "      <th>5</th>\n",
       "      <td>Betsy</td>\n",
       "      <td>13819</td>\n",
       "      <td>62.8</td>\n",
       "    </tr>\n",
       "  </tbody>\n",
       "</table>\n",
       "</div>"
      ],
      "text/plain": [
       "    Name  Reg No  Marks(%)\n",
       "3    Sam   13789      89.0\n",
       "4  Allen   13800      88.5\n",
       "5  Betsy   13819      62.8"
      ]
     },
     "execution_count": 20,
     "metadata": {},
     "output_type": "execute_result"
    }
   ],
   "source": [
    "# 4b\n",
    "data_frame[3:6]"
   ]
  },
  {
   "cell_type": "code",
   "execution_count": 13,
   "id": "8e2bc338",
   "metadata": {},
   "outputs": [
    {
     "data": {
      "text/html": [
       "<div>\n",
       "<style scoped>\n",
       "    .dataframe tbody tr th:only-of-type {\n",
       "        vertical-align: middle;\n",
       "    }\n",
       "\n",
       "    .dataframe tbody tr th {\n",
       "        vertical-align: top;\n",
       "    }\n",
       "\n",
       "    .dataframe thead th {\n",
       "        text-align: right;\n",
       "    }\n",
       "</style>\n",
       "<table border=\"1\" class=\"dataframe\">\n",
       "  <thead>\n",
       "    <tr style=\"text-align: right;\">\n",
       "      <th></th>\n",
       "      <th>Name</th>\n",
       "      <th>Reg No</th>\n",
       "      <th>Marks(%)</th>\n",
       "    </tr>\n",
       "  </thead>\n",
       "  <tbody>\n",
       "    <tr>\n",
       "      <th>6</th>\n",
       "      <td>Paul</td>\n",
       "      <td>14230</td>\n",
       "      <td>92.0</td>\n",
       "    </tr>\n",
       "    <tr>\n",
       "      <th>2</th>\n",
       "      <td>Jain</td>\n",
       "      <td>13721</td>\n",
       "      <td>91.1</td>\n",
       "    </tr>\n",
       "    <tr>\n",
       "      <th>3</th>\n",
       "      <td>Sam</td>\n",
       "      <td>13789</td>\n",
       "      <td>89.0</td>\n",
       "    </tr>\n",
       "    <tr>\n",
       "      <th>4</th>\n",
       "      <td>Allen</td>\n",
       "      <td>13800</td>\n",
       "      <td>88.5</td>\n",
       "    </tr>\n",
       "    <tr>\n",
       "      <th>0</th>\n",
       "      <td>Steve</td>\n",
       "      <td>12876</td>\n",
       "      <td>87.0</td>\n",
       "    </tr>\n",
       "    <tr>\n",
       "      <th>1</th>\n",
       "      <td>Rella</td>\n",
       "      <td>12936</td>\n",
       "      <td>67.3</td>\n",
       "    </tr>\n",
       "    <tr>\n",
       "      <th>5</th>\n",
       "      <td>Betsy</td>\n",
       "      <td>13819</td>\n",
       "      <td>62.8</td>\n",
       "    </tr>\n",
       "  </tbody>\n",
       "</table>\n",
       "</div>"
      ],
      "text/plain": [
       "    Name  Reg No  Marks(%)\n",
       "6   Paul   14230      92.0\n",
       "2   Jain   13721      91.1\n",
       "3    Sam   13789      89.0\n",
       "4  Allen   13800      88.5\n",
       "0  Steve   12876      87.0\n",
       "1  Rella   12936      67.3\n",
       "5  Betsy   13819      62.8"
      ]
     },
     "execution_count": 13,
     "metadata": {},
     "output_type": "execute_result"
    }
   ],
   "source": [
    "# 4c\n",
    "data_frame.sort_values('Marks(%)',ascending=False)"
   ]
  },
  {
   "cell_type": "code",
   "execution_count": 15,
   "id": "05702165",
   "metadata": {},
   "outputs": [
    {
     "data": {
      "text/html": [
       "<div>\n",
       "<style scoped>\n",
       "    .dataframe tbody tr th:only-of-type {\n",
       "        vertical-align: middle;\n",
       "    }\n",
       "\n",
       "    .dataframe tbody tr th {\n",
       "        vertical-align: top;\n",
       "    }\n",
       "\n",
       "    .dataframe thead th {\n",
       "        text-align: right;\n",
       "    }\n",
       "</style>\n",
       "<table border=\"1\" class=\"dataframe\">\n",
       "  <thead>\n",
       "    <tr style=\"text-align: right;\">\n",
       "      <th></th>\n",
       "      <th>Name</th>\n",
       "      <th>Marks(%)</th>\n",
       "    </tr>\n",
       "    <tr>\n",
       "      <th>Reg No</th>\n",
       "      <th></th>\n",
       "      <th></th>\n",
       "    </tr>\n",
       "  </thead>\n",
       "  <tbody>\n",
       "    <tr>\n",
       "      <th>12876</th>\n",
       "      <td>Steve</td>\n",
       "      <td>87.0</td>\n",
       "    </tr>\n",
       "    <tr>\n",
       "      <th>12936</th>\n",
       "      <td>Rella</td>\n",
       "      <td>67.3</td>\n",
       "    </tr>\n",
       "    <tr>\n",
       "      <th>13721</th>\n",
       "      <td>Jain</td>\n",
       "      <td>91.1</td>\n",
       "    </tr>\n",
       "    <tr>\n",
       "      <th>13789</th>\n",
       "      <td>Sam</td>\n",
       "      <td>89.0</td>\n",
       "    </tr>\n",
       "    <tr>\n",
       "      <th>13800</th>\n",
       "      <td>Allen</td>\n",
       "      <td>88.5</td>\n",
       "    </tr>\n",
       "    <tr>\n",
       "      <th>13819</th>\n",
       "      <td>Betsy</td>\n",
       "      <td>62.8</td>\n",
       "    </tr>\n",
       "    <tr>\n",
       "      <th>14230</th>\n",
       "      <td>Paul</td>\n",
       "      <td>92.0</td>\n",
       "    </tr>\n",
       "  </tbody>\n",
       "</table>\n",
       "</div>"
      ],
      "text/plain": [
       "         Name  Marks(%)\n",
       "Reg No                 \n",
       "12876   Steve      87.0\n",
       "12936   Rella      67.3\n",
       "13721    Jain      91.1\n",
       "13789     Sam      89.0\n",
       "13800   Allen      88.5\n",
       "13819   Betsy      62.8\n",
       "14230    Paul      92.0"
      ]
     },
     "execution_count": 15,
     "metadata": {},
     "output_type": "execute_result"
    }
   ],
   "source": [
    "# 4d\n",
    "index_new=data_frame.set_index('Reg No')\n",
    "index_new"
   ]
  },
  {
   "cell_type": "code",
   "execution_count": 26,
   "id": "3ef421bf",
   "metadata": {},
   "outputs": [
    {
     "data": {
      "text/html": [
       "<div>\n",
       "<style scoped>\n",
       "    .dataframe tbody tr th:only-of-type {\n",
       "        vertical-align: middle;\n",
       "    }\n",
       "\n",
       "    .dataframe tbody tr th {\n",
       "        vertical-align: top;\n",
       "    }\n",
       "\n",
       "    .dataframe thead th {\n",
       "        text-align: right;\n",
       "    }\n",
       "</style>\n",
       "<table border=\"1\" class=\"dataframe\">\n",
       "  <thead>\n",
       "    <tr style=\"text-align: right;\">\n",
       "      <th></th>\n",
       "      <th>Name</th>\n",
       "      <th>Reg No</th>\n",
       "      <th>Marks(%)</th>\n",
       "    </tr>\n",
       "  </thead>\n",
       "  <tbody>\n",
       "    <tr>\n",
       "      <th>0</th>\n",
       "      <td>Steve</td>\n",
       "      <td>12876</td>\n",
       "      <td>87.0</td>\n",
       "    </tr>\n",
       "    <tr>\n",
       "      <th>2</th>\n",
       "      <td>Jain</td>\n",
       "      <td>13721</td>\n",
       "      <td>91.1</td>\n",
       "    </tr>\n",
       "    <tr>\n",
       "      <th>3</th>\n",
       "      <td>Sam</td>\n",
       "      <td>13789</td>\n",
       "      <td>89.0</td>\n",
       "    </tr>\n",
       "    <tr>\n",
       "      <th>4</th>\n",
       "      <td>Allen</td>\n",
       "      <td>13800</td>\n",
       "      <td>88.5</td>\n",
       "    </tr>\n",
       "    <tr>\n",
       "      <th>6</th>\n",
       "      <td>Paul</td>\n",
       "      <td>14230</td>\n",
       "      <td>92.0</td>\n",
       "    </tr>\n",
       "  </tbody>\n",
       "</table>\n",
       "</div>"
      ],
      "text/plain": [
       "    Name  Reg No  Marks(%)\n",
       "0  Steve   12876      87.0\n",
       "2   Jain   13721      91.1\n",
       "3    Sam   13789      89.0\n",
       "4  Allen   13800      88.5\n",
       "6   Paul   14230      92.0"
      ]
     },
     "execution_count": 26,
     "metadata": {},
     "output_type": "execute_result"
    }
   ],
   "source": [
    "# 4e\n",
    "data_frame[data_frame['Marks(%)']>80]"
   ]
  },
  {
   "cell_type": "code",
   "execution_count": 72,
   "id": "92462749",
   "metadata": {},
   "outputs": [
    {
     "data": {
      "text/plain": [
       "Text(0, 0.5, 'Mark')"
      ]
     },
     "execution_count": 72,
     "metadata": {},
     "output_type": "execute_result"
    },
    {
     "data": {
      "image/png": "[encoded data removed]",
      "text/plain": [
       "<Figure size 640x480 with 1 Axes>"
      ]
     },
     "metadata": {},
     "output_type": "display_data"
    }
   ],
   "source": [
    "# 4f \n",
    "import matplotlib as pt\n",
    "import seaborn as se\n",
    "x=['Steve','Rella','Jain','Sam','Allen','Betsy','Paul']\n",
    "y=[87, 67.3, 91.1, 89, 88.5, 62.8, 92]\n",
    "plt.bar(x,y,color='green')\n",
    "plt.xlabel('Name')\n",
    "plt.ylabel('Mark')\n",
    "\n",
    "se.barplot(x='Name',y='Marks(%)',data)\n"
   ]
  },
  {
   "cell_type": "markdown",
   "id": "2c0185f6",
   "metadata": {},
   "source": [
    "# 5"
   ]
  },
  {
   "cell_type": "code",
   "execution_count": 66,
   "id": "c4ca1a9d",
   "metadata": {},
   "outputs": [
    {
     "data": {
      "text/plain": [
       "Text(0.5, 1.0, 'PIE CHART')"
      ]
     },
     "execution_count": 66,
     "metadata": {},
     "output_type": "execute_result"
    },
    {
     "data": {
      "image/png": "[encoded data removed]",
      "text/plain": [
       "<Figure size 640x480 with 1 Axes>"
      ]
     },
     "metadata": {},
     "output_type": "display_data"
    }
   ],
   "source": [
    "import matplotlib.pyplot as plt\n",
    "slices=[22.2,17.6,8.8,8,7.7,6]\n",
    "labels=['Java','Python ','Php',\"Javascript\",'C#','C++']\n",
    "plt.style.use('classic')\n",
    "plt.pie(slices,labels=labels)\n",
    "plt.title('PIE CHART')"
   ]
  },
  {
   "cell_type": "markdown",
   "id": "8396240c",
   "metadata": {},
   "source": [
    "# 6"
   ]
  },
  {
   "cell_type": "code",
   "execution_count": 30,
   "id": "e4b1a7b3",
   "metadata": {},
   "outputs": [],
   "source": [
    "import numpy as np\n",
    "data=np.array([[3 ,2, 4, 5, 1, 7, 6, 5],\n",
    "[4 ,5, 6, 7, 8, 7, 0, 9],\n",
    "[1 ,3 ,8, 9, 6, 7 ,4 ,3] ])\n"
   ]
  },
  {
   "cell_type": "code",
   "execution_count": 31,
   "id": "30e9159a",
   "metadata": {},
   "outputs": [
    {
     "data": {
      "text/plain": [
       "array([[3, 2, 4, 5, 1, 7, 6, 5],\n",
       "       [4, 5, 6, 7, 8, 7, 0, 9],\n",
       "       [1, 3, 8, 9, 6, 7, 4, 3]])"
      ]
     },
     "execution_count": 31,
     "metadata": {},
     "output_type": "execute_result"
    }
   ],
   "source": [
    "data"
   ]
  },
  {
   "cell_type": "code",
   "execution_count": 39,
   "id": "837267b2",
   "metadata": {},
   "outputs": [
    {
     "name": "stdout",
     "output_type": "stream",
     "text": [
      "[[4 5 6 7 8]]\n"
     ]
    }
   ],
   "source": [
    "# 6a\n",
    "print(data[1:2,:5])"
   ]
  },
  {
   "cell_type": "code",
   "execution_count": 42,
   "id": "56a3183a",
   "metadata": {},
   "outputs": [
    {
     "name": "stdout",
     "output_type": "stream",
     "text": [
      "[3 2 4 1 4 0 1 3 4 3]\n"
     ]
    }
   ],
   "source": [
    "# 6b\n",
    "print(data[data<5])"
   ]
  },
  {
   "cell_type": "code",
   "execution_count": 43,
   "id": "147ca725",
   "metadata": {},
   "outputs": [
    {
     "name": "stdout",
     "output_type": "stream",
     "text": [
      "[3 2 4 5 1 7 6 5 4 5 6 7 7 0 1 3 6 7 4 3]\n"
     ]
    }
   ],
   "source": [
    "# 6c\n",
    "print(data[data<8])"
   ]
  },
  {
   "cell_type": "code",
   "execution_count": 44,
   "id": "0eb699ec",
   "metadata": {},
   "outputs": [
    {
     "name": "stdout",
     "output_type": "stream",
     "text": [
      "[[ True  True  True  True  True  True  True  True]\n",
      " [ True  True  True  True  True  True  True  True]\n",
      " [ True  True  True  True  True  True  True  True]]\n"
     ]
    }
   ],
   "source": [
    "# 6d\n",
    "print(data<10)"
   ]
  },
  {
   "cell_type": "markdown",
   "id": "47cde894",
   "metadata": {},
   "source": [
    "# 7"
   ]
  },
  {
   "cell_type": "code",
   "execution_count": 70,
   "id": "509422cb",
   "metadata": {},
   "outputs": [
    {
     "data": {
      "text/plain": [
       "<matplotlib.legend.Legend at 0x1c427f5c1c0>"
      ]
     },
     "execution_count": 70,
     "metadata": {},
     "output_type": "execute_result"
    },
    {
     "data": {
      "image/png": "[encoded data removed]",
      "text/plain": [
       "<Figure size 640x480 with 1 Axes>"
      ]
     },
     "metadata": {},
     "output_type": "display_data"
    }
   ],
   "source": [
    "xval=['10-03-16','10-04-16','10-05-16']\n",
    "yval1=[774.25,776.030029,779.309998]\n",
    "yval2=[776.065002,778.710022 ,782.070007]\n",
    "yval3=[769.5 ,772.890015,775.650024 ]\n",
    "yval4=[772.559998,776.429993,776.469971]\n",
    "\n",
    "plt.plot(xval,yval1)\n",
    "plt.plot(xval,yval2)\n",
    "plt.plot(xval,yval3)\n",
    "plt.plot(xval,yval4)\n",
    "plt.legend(['Open', 'High', 'Low', 'Close'])"
   ]
  },
  {
   "cell_type": "markdown",
   "id": "34964078",
   "metadata": {},
   "source": [
    "# 8"
   ]
  },
  {
   "cell_type": "code",
   "execution_count": 57,
   "id": "44ce6e92",
   "metadata": {},
   "outputs": [
    {
     "data": {
      "text/plain": [
       "array([100.        , 111.11111111, 122.22222222, 133.33333333,\n",
       "       144.44444444, 155.55555556, 166.66666667, 177.77777778,\n",
       "       188.88888889, 200.        ])"
      ]
     },
     "execution_count": 57,
     "metadata": {},
     "output_type": "execute_result"
    }
   ],
   "source": [
    "a=np.linspace(100,200,10)\n",
    "a"
   ]
  },
  {
   "cell_type": "markdown",
   "id": "fe904eb6",
   "metadata": {},
   "source": [
    "# 9"
   ]
  },
  {
   "cell_type": "code",
   "execution_count": 46,
   "id": "acf70e21",
   "metadata": {},
   "outputs": [
    {
     "data": {
      "text/plain": [
       "array([[ 1,  2,  3,  4,  5],\n",
       "       [ 6,  7,  8,  9, 10],\n",
       "       [ 2,  5,  7,  9,  1]])"
      ]
     },
     "execution_count": 46,
     "metadata": {},
     "output_type": "execute_result"
    }
   ],
   "source": [
    "array1=np.array([[1,2,3,4,5],[6,7,8,9,10],[2,5,7,9,1]])\n",
    "array1"
   ]
  },
  {
   "cell_type": "code",
   "execution_count": 54,
   "id": "7b52fba4",
   "metadata": {},
   "outputs": [
    {
     "name": "stdout",
     "output_type": "stream",
     "text": [
      "[[ 4  5]\n",
      " [ 9 10]]\n"
     ]
    }
   ],
   "source": [
    "print(array1[0:2:,3:])"
   ]
  },
  {
   "cell_type": "code",
   "execution_count": null,
   "id": "e975c599",
   "metadata": {},
   "outputs": [],
   "source": []
  },
  {
   "cell_type": "code",
   "execution_count": null,
   "id": "6538999f",
   "metadata": {},
   "outputs": [],
   "source": []
  }
 ],
 "metadata": {
  "kernelspec": {
   "display_name": "Python 3 (ipykernel)",
   "language": "python",
   "name": "python3"
  },
  "language_info": {
   "codemirror_mode": {
    "name": "ipython",
    "version": 3
   },
   "file_extension": ".py",
   "mimetype": "text/x-python",
   "name": "python",
   "nbconvert_exporter": "python",
   "pygments_lexer": "ipython3",
   "version": "3.10.9"
  }
 },
 "nbformat": 4,
 "nbformat_minor": 5
}
