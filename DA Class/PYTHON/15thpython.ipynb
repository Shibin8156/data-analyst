{
 "cells": [
  {
   "cell_type": "code",
   "execution_count": 1,
   "metadata": {},
   "outputs": [
    {
     "name": "stdout",
     "output_type": "stream",
     "text": [
      "    ⚽\n",
      "   ⚽⚽\n",
      "  ⚽⚽⚽\n",
      " ⚽⚽⚽⚽\n",
      "⚽⚽⚽⚽⚽\n"
     ]
    }
   ],
   "source": [
    "i=1\n",
    "while i<=5:\n",
    "    k=1\n",
    "    while k<=(5-i):\n",
    "        print(\" \",end=\"\")\n",
    "        k+=1\n",
    "    j=1\n",
    "    while j<=i:\n",
    "        print('⚽',end=\"\")\n",
    "        j+=1\n",
    "    print()\n",
    "    i=i+1"
   ]
  },
  {
   "cell_type": "code",
   "execution_count": 2,
   "metadata": {},
   "outputs": [
    {
     "name": "stdout",
     "output_type": "stream",
     "text": [
      " * * * * * \n",
      "  * * * * \n",
      "   * * * \n",
      "    * * \n",
      "     * \n"
     ]
    }
   ],
   "source": [
    "i=1\n",
    "while i<=5:\n",
    "    j=1\n",
    "    while (j<=i):\n",
    "        print(' ',end=\"\")\n",
    "        j+=1\n",
    "    n=6\n",
    "    while(n>i):\n",
    "        print(\"*\",end=\" \")\n",
    "        n=n-1\n",
    "    print()\n",
    "    i=i+1"
   ]
  },
  {
   "cell_type": "code",
   "execution_count": 3,
   "metadata": {},
   "outputs": [
    {
     "name": "stdout",
     "output_type": "stream",
     "text": [
      "    * \n",
      "   * * \n",
      "  * * * \n",
      " * * * * \n",
      "* * * * * \n"
     ]
    }
   ],
   "source": [
    "i=1\n",
    "while i<=5:\n",
    "    j=i\n",
    "    while (j<=4):\n",
    "        print(' ',end='')\n",
    "        j+=1\n",
    "    n=1\n",
    "    while n<=i:\n",
    "        print(\"*\",end=' ')\n",
    "        n+=1\n",
    "    print()\n",
    "    i+=1"
   ]
  },
  {
   "cell_type": "code",
   "execution_count": 17,
   "metadata": {},
   "outputs": [
    {
     "name": "stdout",
     "output_type": "stream",
     "text": [
      "A B C D E \n",
      " F G H I \n",
      "  J K L \n",
      "   M N \n",
      "    O \n"
     ]
    }
   ],
   "source": [
    "i=1\n",
    "x=65\n",
    "while i<=5:\n",
    "    j=2\n",
    "    while j<=i:\n",
    "        print(\" \",end=\"\")\n",
    "        j+=1\n",
    "    k=i\n",
    "    while k<=5:\n",
    "        print (chr(x),end=\" \")\n",
    "        x+=1\n",
    "        k+=1\n",
    "    print()\n",
    "    i+=1"
   ]
  },
  {
   "cell_type": "code",
   "execution_count": 5,
   "metadata": {},
   "outputs": [
    {
     "name": "stdout",
     "output_type": "stream",
     "text": [
      "A BA BA BA BA BA B\n",
      "A BA BA BA BA BA B\n",
      "A BA BA BA BA BA B\n",
      "A BA BA BA BA BA B\n",
      "A BA BA BA BA BA B\n"
     ]
    }
   ],
   "source": [
    "\n",
    "i=1\n",
    "while i<=5:\n",
    "    j=0\n",
    "    while (j<=5):\n",
    "        x=chr(65)\n",
    "        u=chr(66)\n",
    "        print(x,u,end='')\n",
    "        j+=1\n",
    "    print()\n",
    "    \n",
    "    i+=1"
   ]
  },
  {
   "cell_type": "code",
   "execution_count": 6,
   "metadata": {},
   "outputs": [
    {
     "name": "stdout",
     "output_type": "stream",
     "text": [
      "A B C D E \n",
      "F G H I J \n",
      "K L M N O \n",
      "P Q R S T \n",
      "U V W X Y \n"
     ]
    }
   ],
   "source": [
    "char= \"A\"\n",
    "rows= 5\n",
    "i=0\n",
    "while i < rows:\n",
    "    j=1\n",
    "    while j <= 5:\n",
    "        print(char,end=' ')\n",
    "        char = chr(ord(char)+1)\n",
    "        j +=1\n",
    "    i+=1\n",
    "    print()"
   ]
  },
  {
   "cell_type": "code",
   "execution_count": 10,
   "metadata": {},
   "outputs": [
    {
     "name": "stdout",
     "output_type": "stream",
     "text": [
      "Z Y X W V \n",
      "U T S R Q \n",
      "P O N M L \n",
      "K J I H G \n",
      "F E D C B \n"
     ]
    }
   ],
   "source": [
    "char= \"Z\"\n",
    "rows= 5\n",
    "i=0\n",
    "while i < rows:\n",
    "    j=1\n",
    "    while j <= 5:\n",
    "        print(char,end=' ')\n",
    "        char = chr(ord(char)-1)\n",
    "        j +=1\n",
    "    i+=1\n",
    "    print()"
   ]
  },
  {
   "cell_type": "code",
   "execution_count": 11,
   "metadata": {},
   "outputs": [
    {
     "name": "stdout",
     "output_type": "stream",
     "text": [
      "A B C D E \n",
      "F G H I J \n",
      "K L M N O \n",
      "P Q R S T \n",
      "U V W X Y \n"
     ]
    }
   ],
   "source": [
    "i=1 \n",
    "x=65\n",
    "while i<=5:\n",
    "    j=1\n",
    "    while j<=5:\n",
    "        print(chr(x),end=\" \")\n",
    "        j+=1\n",
    "        x+=1\n",
    "    print()\n",
    "    i+=1"
   ]
  },
  {
   "cell_type": "code",
   "execution_count": 16,
   "metadata": {},
   "outputs": [
    {
     "name": "stdout",
     "output_type": "stream",
     "text": [
      "A B C D E \n",
      "F G H I J \n",
      "K L M N O \n",
      "P Q R S T \n",
      "U V W X Y \n"
     ]
    }
   ],
   "source": [
    "char= \"A\"\n",
    "rows= 5\n",
    "i=0\n",
    "while i < rows:\n",
    "    j=1\n",
    "    while j <= 5:\n",
    "        print(char,end=' ')\n",
    "        char = chr(ord(char)+1)\n",
    "        j +=1\n",
    "    i+=1\n",
    "    print()"
   ]
  },
  {
   "cell_type": "code",
   "execution_count": 18,
   "metadata": {},
   "outputs": [
    {
     "name": "stdout",
     "output_type": "stream",
     "text": [
      "A B C D E \n",
      " F G H I \n",
      "  J K L \n",
      "   M N \n",
      "    O \n"
     ]
    }
   ],
   "source": [
    "i=1\n",
    "x=65\n",
    "while i<=5:\n",
    "    j=2\n",
    "    while j<=i:\n",
    "        print(\" \",end=\"\")\n",
    "        j+=1\n",
    "    k=i\n",
    "    while k<=5:\n",
    "        print (chr(x),end=\" \")\n",
    "        x+=1\n",
    "        k+=1\n",
    "    print()\n",
    "    i+=1"
   ]
  },
  {
   "cell_type": "code",
   "execution_count": 19,
   "metadata": {},
   "outputs": [
    {
     "name": "stdout",
     "output_type": "stream",
     "text": [
      "    A \n",
      "   B C \n",
      "  D E F \n",
      " G H I J \n",
      "K L M N O \n"
     ]
    }
   ],
   "source": [
    "i=1\n",
    "x=65\n",
    "while i<=5:\n",
    "    j=i\n",
    "    while (j<=4):\n",
    "        print(' ',end='')\n",
    "        j+=1\n",
    "    n=1\n",
    "    while n<=i:\n",
    "        print(chr(x),end=' ')\n",
    "        x+=1\n",
    "        n+=1\n",
    "    print()\n",
    "    i+=1"
   ]
  },
  {
   "cell_type": "code",
   "execution_count": 20,
   "metadata": {},
   "outputs": [
    {
     "name": "stdout",
     "output_type": "stream",
     "text": [
      "A \n",
      "B C \n",
      "D E F \n",
      "G H I J \n"
     ]
    }
   ],
   "source": [
    "char= \"A\"\n",
    "rows= 5\n",
    "i=1\n",
    "while i < rows:\n",
    "    j=1\n",
    "    while j <= i:\n",
    "        print(char,end=' ')\n",
    "        char = chr(ord(char)+1)\n",
    "        j +=1\n",
    "    i+=1\n",
    "    print()"
   ]
  },
  {
   "cell_type": "code",
   "execution_count": 21,
   "metadata": {},
   "outputs": [
    {
     "name": "stdout",
     "output_type": "stream",
     "text": [
      "A \n",
      "B C \n",
      "D E F \n",
      "G H I J \n"
     ]
    }
   ],
   "source": [
    "char= \"A\"\n",
    "rows= 5\n",
    "i=1\n",
    "while i < rows:\n",
    "    j=1\n",
    "    while j <= i:\n",
    "        print(char,end=' ')\n",
    "        char = chr(ord(char)+1)\n",
    "        j +=1\n",
    "    print()\n",
    "    char=chr(ord(char))\n",
    "    i+=1"
   ]
  },
  {
   "cell_type": "code",
   "execution_count": 1,
   "metadata": {},
   "outputs": [
    {
     "name": "stdout",
     "output_type": "stream",
     "text": [
      "A \n",
      "B B \n",
      "C C C \n",
      "D D D D \n"
     ]
    }
   ],
   "source": [
    "char= 'A'\n",
    "rows= 5\n",
    "i=1\n",
    "while i < rows:\n",
    "    j=1\n",
    "    while j <= i:\n",
    "        print(char,end=' ')\n",
    "        j+=1\n",
    "    print() \n",
    "    char=chr(ord(char)+1)    \n",
    "    i+=1\n"
   ]
  },
  {
   "cell_type": "code",
   "execution_count": null,
   "metadata": {},
   "outputs": [],
   "source": []
  },
  {
   "cell_type": "code",
   "execution_count": 6,
   "metadata": {},
   "outputs": [
    {
     "name": "stdout",
     "output_type": "stream",
     "text": [
      "10 11 12 13 14 \n",
      "15 16 17 18 19 \n",
      "20 21 22 23 24 \n",
      "25 26 27 28 29 \n",
      "30 31 32 33 34 \n"
     ]
    }
   ],
   "source": [
    "i=1 \n",
    "x=65\n",
    "n=10\n",
    "while i<=5:\n",
    "    j=1\n",
    "    while j<=5:\n",
    "        print(n,end=\" \")\n",
    "        n+=1\n",
    "        j+=1\n",
    "        x+=1\n",
    "    print()\n",
    "    i+=1"
   ]
  },
  {
   "cell_type": "code",
   "execution_count": 1,
   "metadata": {},
   "outputs": [
    {
     "name": "stdout",
     "output_type": "stream",
     "text": [
      "* \n",
      "* * \n",
      "* * * \n",
      "* * * * \n",
      "* * * * * \n",
      "* * * * \n",
      "* * * \n",
      "* * \n",
      "* \n",
      "\n"
     ]
    }
   ],
   "source": [
    "\n",
    "#4-4-2023\n",
    "#Q1. \n",
    "\n",
    "i=1\n",
    "while i<=5:\n",
    "    j=1\n",
    "    while j<=i:\n",
    "        print(\"*\",end=' ')\n",
    "        j=j+1\n",
    "    print()\n",
    "    i=i+1\n",
    "i=1\n",
    "while i<=5:\n",
    "    j=1\n",
    "    while j<=5-i:\n",
    "        print(\"*\",end=' ')\n",
    "        j=j+1\n",
    "    print()\n",
    "    i=i+1"
   ]
  },
  {
   "cell_type": "code",
   "execution_count": null,
   "metadata": {},
   "outputs": [],
   "source": []
  },
  {
   "cell_type": "code",
   "execution_count": 5,
   "metadata": {},
   "outputs": [
    {
     "name": "stdout",
     "output_type": "stream",
     "text": [
      "* \n",
      "* * \n",
      "* * * \n",
      "* * * * \n",
      "* * * * * \n",
      "* * * * \n",
      "* * * \n",
      "* * \n",
      "* \n"
     ]
    }
   ],
   "source": [
    "n = 5\n",
    "i = 1\n",
    "while i <= n:\n",
    "    j = 1\n",
    "    while j <= i:\n",
    "        print(\"*\", end=\" \")\n",
    "        j += 1\n",
    "    print()\n",
    "    i += 1\n",
    "\n",
    "i = n - 1\n",
    "while i >= 1:\n",
    "    j = 1\n",
    "    while j <= i:\n",
    "        print(\"*\", end=\" \")\n",
    "        j += 1\n",
    "    print()\n",
    "    i -= 1"
   ]
  },
  {
   "cell_type": "code",
   "execution_count": 3,
   "metadata": {},
   "outputs": [
    {
     "name": "stdout",
     "output_type": "stream",
     "text": [
      "    * \n",
      "   * * \n",
      "  * * * \n",
      " * * * * \n",
      "* * * * * \n",
      " * * * * \n",
      "  * * * \n",
      "   * * \n",
      "    * \n"
     ]
    }
   ],
   "source": [
    "n = 5\n",
    "i = 1\n",
    "j = 1\n",
    "while i <= n:\n",
    "    j = 1\n",
    "    while j <= n - i:\n",
    "        print(\" \", end=\"\")\n",
    "        j += 1\n",
    "    j = 1\n",
    "    while j <= i:\n",
    "        print(\"* \", end=\"\")\n",
    "        j += 1\n",
    "\n",
    "    print()\n",
    "    i += 1\n",
    "i = n - 1\n",
    "while i >= 1:\n",
    "    j = 1\n",
    "    while j <= n - i:\n",
    "        print(\" \", end=\"\")\n",
    "        j += 1\n",
    "    j = 1\n",
    "    while j <= i:\n",
    "        print(\"* \", end=\"\")\n",
    "        j += 1\n",
    "\n",
    "    print()\n",
    "    i -= 1"
   ]
  },
  {
   "cell_type": "code",
   "execution_count": 17,
   "metadata": {},
   "outputs": [
    {
     "name": "stdout",
     "output_type": "stream",
     "text": [
      "* * * * * * * * * * \n",
      "* * * * * * * * * * \n",
      "* * * * * * * * * * \n",
      "* * * * * * * * * * \n"
     ]
    }
   ],
   "source": [
    "i=1\n",
    "while i<=4:\n",
    "    j=1\n",
    "    while j<=10:\n",
    "        print(\"*\",end=\" \")\n",
    "        j+=1\n",
    "\n",
    "    print()\n",
    "    i+=1"
   ]
  },
  {
   "cell_type": "code",
   "execution_count": 18,
   "metadata": {},
   "outputs": [
    {
     "name": "stdout",
     "output_type": "stream",
     "text": [
      "* * * * \n",
      "* * * \n",
      "* * \n",
      "* \n",
      "\n"
     ]
    }
   ],
   "source": [
    "n = 5\n",
    "i = 1\n",
    "while i <= n:\n",
    "    j = 1\n",
    "    while j <=n-i:\n",
    "        print(\"*\", end=\" \")\n",
    "        j += 1\n",
    "    print()\n",
    "    i += 1"
   ]
  },
  {
   "cell_type": "code",
   "execution_count": 20,
   "metadata": {},
   "outputs": [
    {
     "name": "stdout",
     "output_type": "stream",
     "text": [
      "          * \n",
      "        * * \n",
      "      * * * \n",
      "    * * * * \n",
      "  * * * * * \n"
     ]
    }
   ],
   "source": [
    "i=1\n",
    "while i<=5:\n",
    "    j=5\n",
    "    \n",
    "    while j>=i:\n",
    "       print(\" \",end=\" \")\n",
    "       j=j-1\n",
    "    k=1    \n",
    "    while k<=i:\n",
    "       print (\"*\",end=\" \")\n",
    "       k=k+1\n",
    "    print()\n",
    "    i=i+1"
   ]
  },
  {
   "cell_type": "code",
   "execution_count": 4,
   "metadata": {},
   "outputs": [
    {
     "name": "stdout",
     "output_type": "stream",
     "text": [
      "          * \n",
      "          * * \n",
      "          * * * \n",
      "          * * * * \n",
      "          * * * * * \n"
     ]
    }
   ],
   "source": [
    "k=1\n",
    "while k<=5:\n",
    "    j=5\n",
    "    while j>=1:\n",
    "        print(\" \",end=\" \")\n",
    "        j=j-1\n",
    "    h=1\n",
    "    while h<=k:\n",
    "        print(\"*\",end=\" \")\n",
    "        h+=1\n",
    "    \n",
    "    print()\n",
    "    k+=1"
   ]
  },
  {
   "cell_type": "code",
   "execution_count": 2,
   "metadata": {},
   "outputs": [
    {
     "name": "stdout",
     "output_type": "stream",
     "text": [
      "          * \n",
      "        * * \n",
      "      * * * \n",
      "    * * * * \n",
      "  * * * * * \n",
      "    * * * * \n",
      "      * * * \n",
      "        * * \n",
      "          * \n"
     ]
    }
   ],
   "source": [
    "i=1\n",
    "while i<=5:\n",
    "    j=5\n",
    "    while j>=i:\n",
    "       print(\" \",end=\" \")\n",
    "       j=j-1\n",
    "    k=1    \n",
    "    while k<=i:\n",
    "       print (\"*\",end=\" \")\n",
    "       k=k+1\n",
    "\n",
    "    print()\n",
    "    i=i+1\n",
    "\n",
    "r=1\n",
    "while r<=4:\n",
    "    g=0\n",
    "    while g<=r:\n",
    "        print(\" \",end=\" \")\n",
    "        g=g+1\n",
    "    h=4\n",
    "    while h>=r:\n",
    "        print(\"*\",end=\" \")\n",
    "        h=h-1\n",
    "    print()\n",
    "    r=r+1"
   ]
  },
  {
   "cell_type": "code",
   "execution_count": 12,
   "metadata": {},
   "outputs": [
    {
     "ename": "IndentationError",
     "evalue": "unexpected indent (3916274392.py, line 22)",
     "output_type": "error",
     "traceback": [
      "\u001b[1;36m  Cell \u001b[1;32mIn[12], line 22\u001b[1;36m\u001b[0m\n\u001b[1;33m    while h<=k:\u001b[0m\n\u001b[1;37m    ^\u001b[0m\n\u001b[1;31mIndentationError\u001b[0m\u001b[1;31m:\u001b[0m unexpected indent\n"
     ]
    }
   ],
   "source": [
    "i=1\n",
    "while i<=5:\n",
    "    j=5\n",
    "    while j>=i:\n",
    "       print(\" \",end=\" \")\n",
    "       j=j-1\n",
    "    k=1    \n",
    "    while k<=i:\n",
    "       print (\"*\",end=\" \")\n",
    "       k=k+1\n",
    "\n",
    "    k=1\n",
    "    while k<=5:\n",
    "        j=5\n",
    "        while j>=1:\n",
    "           print(\" \",end=\" \")\n",
    "           j=j-1\n",
    "    h=1\n",
    "        while h<=k:\n",
    "        print(\"*\",end=\" \")\n",
    "        h+=1\n",
    "    \n",
    "    print()\n",
    "    k+=1\n",
    "r=1\n",
    "while r<=4:\n",
    "    g=0\n",
    "    while g<=r:\n",
    "        print(\" \",end=\" \")\n",
    "        g=g+1\n",
    "    h=4\n",
    "    while h>=r:\n",
    "        print(\"*\",end=\" \")\n",
    "        h=h-1\n",
    "    print()\n",
    "    r=r+1"
   ]
  },
  {
   "cell_type": "code",
   "execution_count": 2,
   "metadata": {},
   "outputs": [
    {
     "name": "stdout",
     "output_type": "stream",
     "text": [
      "          * \n",
      "      "
     ]
    }
   ],
   "source": [
    "i=1\n",
    "while i<=5:\n",
    "    j=5\n",
    "    \n",
    "    while j>=i:\n",
    "       print(\" \",end=\" \")\n",
    "       j=j-1\n",
    "    k=1    \n",
    "    while k<=i:\n",
    "       print (\"*\",end=\" \")\n",
    "       k=k+1\n",
    "\n",
    "   \n",
    "    j=2\n",
    "    while j<=i:\n",
    "        print(\"*\",end=\" \")\n",
    "        j=j+1\n",
    "    print()\n",
    "    i=i+1   \n",
    "i=2\n",
    "while i<=5:\n",
    "    j=1\n",
    "    while j<=i:\n",
    "        print(\" \",end=\" \")\n",
    "        j=j+1\n",
    "    n=6   \n",
    "    while n>i:\n",
    "        print(\"*\",end=\" \")\n",
    "        n=n-1\n",
    "    j=5\n",
    "    while j>i:\n",
    "        print(\"*\",end=\" \") \n",
    "        j=j-1\n",
    "   \n",
    "\n",
    "    print()\n",
    "    i=i+1"
   ]
  }
 ],
 "metadata": {
  "kernelspec": {
   "display_name": "Python 3",
   "language": "python",
   "name": "python3"
  },
  "language_info": {
   "codemirror_mode": {
    "name": "ipython",
    "version": 3
   },
   "file_extension": ".py",
   "mimetype": "text/x-python",
   "name": "python",
   "nbconvert_exporter": "python",
   "pygments_lexer": "ipython3",
   "version": "3.11.2"
  },
  "orig_nbformat": 4
 },
 "nbformat": 4,
 "nbformat_minor": 2
}
