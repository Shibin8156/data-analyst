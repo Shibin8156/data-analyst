{
 "cells": [
  {
   "cell_type": "code",
   "execution_count": 2,
   "metadata": {},
   "outputs": [
    {
     "name": "stdout",
     "output_type": "stream",
     "text": [
      "            * * * * * * \n",
      "        * * * * * * \n",
      "    * * * * * * \n",
      "* * * * * * \n"
     ]
    }
   ],
   "source": [
    "i=0\n",
    "while i<=7:\n",
    "    j=i\n",
    "    while j<=5:\n",
    "        print(\" \",end=\" \")\n",
    "        j+=1\n",
    "    k=0\n",
    "    while k<=5:\n",
    "        print(\"*\",end=\" \")\n",
    "        k+=1\n",
    "    print()\n",
    "    i+=2"
   ]
  },
  {
   "cell_type": "code",
   "execution_count": 7,
   "metadata": {},
   "outputs": [
    {
     "name": "stdout",
     "output_type": "stream",
     "text": [
      "            * * * * * * \n",
      "          * * * * * * \n",
      "        * * * * * * \n",
      "      * * * * * * \n",
      "    * * * * * * \n",
      "  * * * * * * \n"
     ]
    }
   ],
   "source": [
    "i=0                      #right code\n",
    "while i<=5:\n",
    "    j=i\n",
    "    while j<=5:\n",
    "        print(\" \",end=\" \")\n",
    "        j+=1\n",
    "    k=0\n",
    "    while k<=5:\n",
    "        print(\"*\",end=\" \")\n",
    "        k+=1\n",
    "    print()\n",
    "    i+=1"
   ]
  },
  {
   "cell_type": "code",
   "execution_count": 4,
   "metadata": {},
   "outputs": [
    {
     "name": "stdout",
     "output_type": "stream",
     "text": [
      "* * * * * \n",
      "*       * \n",
      "* * * * * \n"
     ]
    }
   ],
   "source": [
    "i=1\n",
    "while i<=3:\n",
    "    if i==2:\n",
    "        j=1\n",
    "        while j<=5:\n",
    "            if j>=2 and j<=4:\n",
    "                print(\" \",end=\" \")\n",
    "            else:\n",
    "                print(\"*\",end=\" \")\n",
    "            j+=1\n",
    "    else:\n",
    "        j=1\n",
    "        while j<=5:\n",
    "            print(\"*\",end=\" \")\n",
    "            j+=1\n",
    "    print()\n",
    "    i+=1\n"
   ]
  },
  {
   "cell_type": "code",
   "execution_count": null,
   "metadata": {},
   "outputs": [],
   "source": [
    "Main Concepts of Object-Oriented Programming (OOPs) \n",
    "Class\n",
    "Objects\n",
    "Polymorphism\n",
    "Encapsulation\n",
    "Inheritance\n",
    "Data Abstraction\n"
   ]
  },
  {
   "cell_type": "code",
   "execution_count": 6,
   "metadata": {},
   "outputs": [
    {
     "ename": "SyntaxError",
     "evalue": "incomplete input (2331379341.py, line 14)",
     "output_type": "error",
     "traceback": [
      "\u001b[1;36m  Cell \u001b[1;32mIn[6], line 14\u001b[1;36m\u001b[0m\n\u001b[1;33m    \u001b[0m\n\u001b[1;37m    ^\u001b[0m\n\u001b[1;31mSyntaxError\u001b[0m\u001b[1;31m:\u001b[0m incomplete input\n"
     ]
    }
   ],
   "source": [
    "#PARENT CLASS\n",
    "class person():\n",
    "    def __init__(self,fname,lname):\n",
    "        self.firstname=Fname\n",
    "        self.lastname=lname\n",
    "        \n",
    "    def printname(self):\n",
    "        print(self.firstname,self.lastname)\n",
    "    \n",
    "#child class\n",
    "\n",
    "class student(person):\n",
    "    def __init__(self,fname,lname,mname):\n",
    "    "
   ]
  }
 ],
 "metadata": {
  "kernelspec": {
   "display_name": "Python 3",
   "language": "python",
   "name": "python3"
  },
  "language_info": {
   "codemirror_mode": {
    "name": "ipython",
    "version": 3
   },
   "file_extension": ".py",
   "mimetype": "text/x-python",
   "name": "python",
   "nbconvert_exporter": "python",
   "pygments_lexer": "ipython3",
   "version": "3.11.2"
  },
  "orig_nbformat": 4
 },
 "nbformat": 4,
 "nbformat_minor": 2
}
