{
 "cells": [
  {
   "cell_type": "code",
   "execution_count": 2,
   "metadata": {},
   "outputs": [
    {
     "ename": "AttributeError",
     "evalue": "'student' object has no attribute 'fname'",
     "output_type": "error",
     "traceback": [
      "\u001b[1;31m---------------------------------------------------------------------------\u001b[0m",
      "\u001b[1;31mAttributeError\u001b[0m                            Traceback (most recent call last)",
      "Cell \u001b[1;32mIn[2], line 18\u001b[0m\n\u001b[0;32m     15\u001b[0m     \u001b[39mdef\u001b[39;00m \u001b[39mprintname2\u001b[39m(\u001b[39mself\u001b[39m):\n\u001b[0;32m     16\u001b[0m         \u001b[39mprint\u001b[39m(\u001b[39mself\u001b[39m\u001b[39m.\u001b[39mfirstname,\u001b[39mself\u001b[39m\u001b[39m.\u001b[39mmiddle,\u001b[39mself\u001b[39m\u001b[39m.\u001b[39mlastname)\n\u001b[1;32m---> 18\u001b[0m a\u001b[39m=\u001b[39mstudent(\u001b[39m\"\u001b[39;49m\u001b[39mj\u001b[39;49m\u001b[39m\"\u001b[39;49m,\u001b[39m\"\u001b[39;49m\u001b[39mk\u001b[39;49m\u001b[39m\"\u001b[39;49m,\u001b[39m\"\u001b[39;49m\u001b[39mh\u001b[39;49m\u001b[39m\"\u001b[39;49m)\n\u001b[0;32m     19\u001b[0m a\u001b[39m.\u001b[39mprintname2()\n",
      "Cell \u001b[1;32mIn[2], line 13\u001b[0m, in \u001b[0;36mstudent.__init__\u001b[1;34m(self, fname, lname, middle)\u001b[0m\n\u001b[0;32m     12\u001b[0m \u001b[39mdef\u001b[39;00m \u001b[39m__init__\u001b[39m(\u001b[39mself\u001b[39m,fname,lname,middle):\n\u001b[1;32m---> 13\u001b[0m     person\u001b[39m.\u001b[39m\u001b[39m__init__\u001b[39m(\u001b[39mself\u001b[39;49m\u001b[39m.\u001b[39;49mfname,lname)\n\u001b[0;32m     14\u001b[0m     \u001b[39mself\u001b[39m\u001b[39m.\u001b[39mmiddle\u001b[39m=\u001b[39mmiddle\n",
      "\u001b[1;31mAttributeError\u001b[0m: 'student' object has no attribute 'fname'"
     ]
    }
   ],
   "source": [
    "#PARENT CLASS\n",
    "class person:        \n",
    "    def __init__(self,fname,lname):\n",
    "        self.firstname=Fname\n",
    "        self.lastname=lname\n",
    "    def printname(self):\n",
    "        print(self.firstname,self.lastname)\n",
    "    \n",
    "#child class\n",
    "\n",
    "class student(person):\n",
    "    def __init__(self,fname,lname,middle):\n",
    "        person.__init__(self.fname,lname)\n",
    "        self.middle=middle\n",
    "    def printname2(self):\n",
    "        print(self.firstname,self.middle,self.lastname)\n",
    "\n",
    "a=student(\"j\",\"k\",\"h\")\n",
    "a.printname2()\n",
    "\n",
    "    "
   ]
  },
  {
   "cell_type": "code",
   "execution_count": null,
   "metadata": {},
   "outputs": [
    {
     "ename": "SyntaxError",
     "evalue": "invalid syntax (3120432616.py, line 3)",
     "output_type": "error",
     "traceback": [
      "\u001b[1;36m  Cell \u001b[1;32mIn[9], line 3\u001b[1;36m\u001b[0m\n\u001b[1;33m    def __init__(self.fname,lname):\u001b[0m\n\u001b[1;37m                     ^\u001b[0m\n\u001b[1;31mSyntaxError\u001b[0m\u001b[1;31m:\u001b[0m invalid syntax\n"
     ]
    }
   ],
   "source": [
    "# PARENT CLASS\n",
    "class person:        \n",
    "    def __init__(self,fname,lname):\n",
    "        self.firstname=Fname\n",
    "        self.lastname=lname\n",
    "    def printname(self):\n",
    "        print(self.firstname,self.lastname)\n",
    "    \n",
    "#child class\n",
    "\n",
    "class student(person):\n",
    "    def __init__(self,fname,lname,middle):\n",
    "        person.__init__(self.fname,lname)\n",
    "        self.middle=middle\n",
    "    def printname2(self):\n",
    "        print(self.firstname,self.middle,self.lastname)\n",
    "\n",
    "a=student(\"j\",\"k\",\"h\")\n",
    "a.printname2()"
   ]
  },
  {
   "cell_type": "code",
   "execution_count": null,
   "metadata": {},
   "outputs": [],
   "source": [
    "class person:\n",
    "    def _init_(self,fname,lname):\n",
    "        self.firstname=fname\n",
    "        self.lastname=lname\n",
    "    def printname(self):\n",
    "        print(self.firstname,self.lastname)\n",
    "class student(person):\n",
    "    def _init_(self,fname,lname,middle):\n",
    "        person._init_(self,fname,lname)\n",
    "        self.middle=middle\n",
    "    def printname2(self):\n",
    "        print(self.firstname,self.lastname,self.middle)\n",
    "a=student(\"a\",\"v\",\"a\")\n",
    "a.printname2()"
   ]
  },
  {
   "cell_type": "code",
   "execution_count": null,
   "metadata": {},
   "outputs": [],
   "source": [
    "# Q1.\n",
    "# create a class called polygon defined as follows\n",
    "# a)data attributes to store the no.of sides,(take input frome user)\n",
    "# b)create another class called triangle which inherit from pollygon to find the area of triangle\n",
    "\n",
    "class polygon:\n",
    "    def __init__(self):\n",
    "      self.no of sides= int(input(\"Enter number of sides: \"))\n",
    "    def printoutput(self):\n",
    "          print(self.no of sides)\n",
    "          \n",
    "\n",
    "class triangle(polygon):\n",
    "      def __init__(self,no of sides):\n",
    "\n",
    "      def area(self):\n",
    "            "
   ]
  },
  {
   "cell_type": "code",
   "execution_count": null,
   "metadata": {},
   "outputs": [
    {
     "ename": "ValueError",
     "evalue": "invalid literal for int() with base 10: ''",
     "output_type": "error",
     "traceback": [
      "\u001b[1;31m---------------------------------------------------------------------------\u001b[0m",
      "\u001b[1;31mValueError\u001b[0m                                Traceback (most recent call last)",
      "Cell \u001b[1;32mIn[1], line 15\u001b[0m\n\u001b[0;32m     12\u001b[0m         \u001b[39mreturn\u001b[39;00m \u001b[39m0.5\u001b[39m \u001b[39m*\u001b[39m base \u001b[39m*\u001b[39m height\n\u001b[0;32m     14\u001b[0m \u001b[39m# Example usage:\u001b[39;00m\n\u001b[1;32m---> 15\u001b[0m t \u001b[39m=\u001b[39m Triangle()\n\u001b[0;32m     16\u001b[0m \u001b[39mprint\u001b[39m(\u001b[39m\"\u001b[39m\u001b[39mThe area of the triangle is:\u001b[39m\u001b[39m\"\u001b[39m, t\u001b[39m.\u001b[39marea())\n",
      "Cell \u001b[1;32mIn[1], line 7\u001b[0m, in \u001b[0;36mTriangle.__init__\u001b[1;34m(self)\u001b[0m\n\u001b[0;32m      6\u001b[0m \u001b[39mdef\u001b[39;00m \u001b[39m__init__\u001b[39m(\u001b[39mself\u001b[39m):\n\u001b[1;32m----> 7\u001b[0m     \u001b[39msuper\u001b[39;49m()\u001b[39m.\u001b[39;49m\u001b[39m__init__\u001b[39;49m()\n",
      "Cell \u001b[1;32mIn[1], line 3\u001b[0m, in \u001b[0;36mPolygon.__init__\u001b[1;34m(self)\u001b[0m\n\u001b[0;32m      2\u001b[0m \u001b[39mdef\u001b[39;00m \u001b[39m__init__\u001b[39m(\u001b[39mself\u001b[39m):\n\u001b[1;32m----> 3\u001b[0m     \u001b[39mself\u001b[39m\u001b[39m.\u001b[39mnum_sides \u001b[39m=\u001b[39m \u001b[39mint\u001b[39;49m(\u001b[39minput\u001b[39;49m(\u001b[39m\"\u001b[39;49m\u001b[39mEnter number of sides: \u001b[39;49m\u001b[39m\"\u001b[39;49m))\n",
      "\u001b[1;31mValueError\u001b[0m: invalid literal for int() with base 10: ''"
     ]
    }
   ],
   "source": [
    "class Polygon:\n",
    "    def __init__(self):\n",
    "        self.num_sides = int(input(\"Enter number of sides: \"))\n",
    "\n",
    "class Triangle(Polygon):\n",
    "    def __init__(self):\n",
    "        super().__init__()\n",
    "\n",
    "    def area(self):\n",
    "        base = float(input(\"Enter the base length of the triangle: \"))\n",
    "        height = float(input(\"Enter the height of the triangle: \"))\n",
    "        return 0.5 * base * height\n",
    "\n",
    "# Example usage:\n",
    "t = Triangle()\n",
    "print(\"The area of the triangle is:\", t.area())\n"
   ]
  },
  {
   "cell_type": "code",
   "execution_count": 4,
   "metadata": {},
   "outputs": [
    {
     "ename": "TypeError",
     "evalue": "polygon.__init__() takes 1 positional argument but 2 were given",
     "output_type": "error",
     "traceback": [
      "\u001b[1;31m---------------------------------------------------------------------------\u001b[0m",
      "\u001b[1;31mTypeError\u001b[0m                                 Traceback (most recent call last)",
      "Cell \u001b[1;32mIn[4], line 27\u001b[0m\n\u001b[0;32m     21\u001b[0m     \u001b[39mprint\u001b[39m(\u001b[39m\"\u001b[39m\u001b[39mthe area of triangle is \u001b[39m\u001b[39m%0.2f\u001b[39;00m\u001b[39m\"\u001b[39m \u001b[39m%\u001b[39ma)\n\u001b[0;32m     24\u001b[0m \u001b[39m# a=polygon()\u001b[39;00m\n\u001b[0;32m     25\u001b[0m \u001b[39m# a.n()\u001b[39;00m\n\u001b[0;32m     26\u001b[0m \u001b[39m# x.sides()\u001b[39;00m\n\u001b[1;32m---> 27\u001b[0m x\u001b[39m=\u001b[39mtriangle()\n\u001b[0;32m     28\u001b[0m x\u001b[39m.\u001b[39minputside()\n\u001b[0;32m     29\u001b[0m x\u001b[39m.\u001b[39marea()\n",
      "Cell \u001b[1;32mIn[4], line 16\u001b[0m, in \u001b[0;36mtriangle.__init__\u001b[1;34m(self)\u001b[0m\n\u001b[0;32m     15\u001b[0m \u001b[39mdef\u001b[39;00m \u001b[39m__init__\u001b[39m(\u001b[39mself\u001b[39m):\n\u001b[1;32m---> 16\u001b[0m   polygon\u001b[39m.\u001b[39;49m\u001b[39m__init__\u001b[39;49m(\u001b[39mself\u001b[39;49m,\u001b[39m3\u001b[39;49m)\n",
      "\u001b[1;31mTypeError\u001b[0m: polygon.__init__() takes 1 positional argument but 2 were given"
     ]
    }
   ],
   "source": [
    "# Q1.\n",
    "# create a class called polygon defined as follows\n",
    "# a)data attributes to store the no.of sides,(take input frome user)\n",
    "# b)create another class called triangle which inherit from pollygon to find the area of triangle\n",
    "\n",
    "class polygon:\n",
    "    def __init__(self):\n",
    "      self.n= int(input(\"enter no of sides:\"))\n",
    "      self.sides =[]\n",
    "      for i in range(self.n):\n",
    "        self.sides.append(float(input(f\"enter the magnitude of side {i+1} \")))\n",
    "\n",
    "\n",
    "class triangle(polygon):\n",
    "  def __init__(self):\n",
    "    polygon.__init__(self,3)\n",
    "  def area(self):\n",
    "    a,b,c=self.sides\n",
    "    s=(a+b+c)/2\n",
    "    a=(s*(s-a)*(s-b)*(s-c))**0.5\n",
    "    print(\"the area of triangle is %0.2f\" %a)\n",
    "    \n",
    "\n",
    "# a=polygon()\n",
    "# a.n()\n",
    "# x.sides()\n",
    "x=triangle()\n",
    "x.inputside()\n",
    "x.area()"
   ]
  },
  {
   "cell_type": "code",
   "execution_count": 3,
   "metadata": {},
   "outputs": [
    {
     "ename": "AttributeError",
     "evalue": "'triangle' object has no attribute 'inputside'",
     "output_type": "error",
     "traceback": [
      "\u001b[1;31m---------------------------------------------------------------------------\u001b[0m",
      "\u001b[1;31mAttributeError\u001b[0m                            Traceback (most recent call last)",
      "Cell \u001b[1;32mIn[3], line 18\u001b[0m\n\u001b[0;32m     15\u001b[0m         \u001b[39mprint\u001b[39m(\u001b[39m'\u001b[39m\u001b[39mthe area of triangle is \u001b[39m\u001b[39m%0.2f\u001b[39;00m\u001b[39m'\u001b[39m \u001b[39m%\u001b[39ma)\n\u001b[0;32m     17\u001b[0m x\u001b[39m=\u001b[39mtriangle()\n\u001b[1;32m---> 18\u001b[0m x\u001b[39m.\u001b[39;49minputside()\n\u001b[0;32m     19\u001b[0m x\u001b[39m.\u001b[39marea()\n",
      "\u001b[1;31mAttributeError\u001b[0m: 'triangle' object has no attribute 'inputside'"
     ]
    }
   ],
   "source": [
    "class Polygon:\n",
    "    def _init_(self):\n",
    "        self.n = int(input(\"Enter the number of sides: \"))\n",
    "        self.sides = []\n",
    "        for i in range(self.n):\n",
    "            self.sides.append(float(input(f\"Enter the magnitude of side {i+1}: \")))\n",
    "\n",
    "class triangle(Polygon):\n",
    "    def _init_(self):\n",
    "        Polygon._init_(self)\n",
    "    def area(self):\n",
    "        a,b,c=self.sides\n",
    "        s=(a+b+c)/2\n",
    "        a=(s*(s-a)(s-b)(s-c))**0.5\n",
    "        print('the area of triangle is %0.2f' %a)\n",
    "\n"
   ]
  }
 ],
 "metadata": {
  "kernelspec": {
   "display_name": "Python 3",
   "language": "python",
   "name": "python3"
  },
  "language_info": {
   "codemirror_mode": {
    "name": "ipython",
    "version": 3
   },
   "file_extension": ".py",
   "mimetype": "text/x-python",
   "name": "python",
   "nbconvert_exporter": "python",
   "pygments_lexer": "ipython3",
   "version": "3.11.2"
  },
  "orig_nbformat": 4
 },
 "nbformat": 4,
 "nbformat_minor": 2
}
