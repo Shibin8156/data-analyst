{
 "cells": [
  {
   "cell_type": "code",
   "execution_count": 4,
   "metadata": {},
   "outputs": [
    {
     "data": {
      "text/plain": [
       "3"
      ]
     },
     "execution_count": 4,
     "metadata": {},
     "output_type": "execute_result"
    }
   ],
   "source": [
    "# MEAN\n",
    "import statistics as sbn\n",
    "a=[1,2,3,4,5]\n",
    "sbn.mean(a)"
   ]
  },
  {
   "cell_type": "code",
   "execution_count": 9,
   "metadata": {},
   "outputs": [
    {
     "name": "stdout",
     "output_type": "stream",
     "text": [
      "median=  5.5\n"
     ]
    }
   ],
   "source": [
    "# MEDIAN\n",
    "import statistics as sbn\n",
    "a=[1,2,3,4,5,6,7,8,9,10]\n",
    "print(\"median= \",sbn.median(a))"
   ]
  },
  {
   "cell_type": "code",
   "execution_count": 7,
   "metadata": {},
   "outputs": [
    {
     "data": {
      "text/plain": [
       "3"
      ]
     },
     "execution_count": 7,
     "metadata": {},
     "output_type": "execute_result"
    }
   ],
   "source": [
    "# MODE\n",
    "import statistics as sbn       \n",
    "b=[1,2,3,2,4,3,5,6,7,3,5,4,3,2,]\n",
    "sbn.mode(b)"
   ]
  },
  {
   "cell_type": "code",
   "execution_count": 15,
   "metadata": {},
   "outputs": [
    {
     "name": "stdout",
     "output_type": "stream",
     "text": [
      "mean= 5.666666666666667\n",
      "mean= 5.5\n",
      "min= 1\n",
      "min= 1\n",
      "range= 8\n"
     ]
    }
   ],
   "source": [
    "# range\n",
    "import statistics as sbn\n",
    "x=[2,4,4,7,7,7,1,1,9,9,9,8]\n",
    "y=[1,3,5,2,4,4,8,6,7,8,9,9]\n",
    "print(\"mean=\",sbn.mean(x))\n",
    "print(\"mean=\",sbn.mean(y))\n",
    "print('min=',min(x))\n",
    "print(\"min=\",min(y))\n",
    "print(\"range=\",max(x)-min(y))"
   ]
  },
  {
   "cell_type": "code",
   "execution_count": 13,
   "metadata": {},
   "outputs": [
    {
     "name": "stdout",
     "output_type": "stream",
     "text": [
      "8\n"
     ]
    }
   ],
   "source": [
    "r=max(x)-min(y)\n",
    "print(r)"
   ]
  },
  {
   "cell_type": "code",
   "execution_count": 27,
   "metadata": {},
   "outputs": [
    {
     "name": "stdout",
     "output_type": "stream",
     "text": [
      "Q1=  5.0 Q2=  6.0 Q3=  7.0\n",
      "IQR= 5.0\n"
     ]
    }
   ],
   "source": [
    "# QUARTILE\n",
    "import numpy as np\n",
    "data=np.array([4,5,5,5,6,6,6,6,7,7,7,8])\n",
    "# fisrt quartile\n",
    "q1=np.percentile(data,25)\n",
    "# 2nd quartile\n",
    "q2=np.percentile(data,50)\n",
    "# 3rd quartile\n",
    "q3=np.percentile(data,75)\n",
    "print(\"Q1= \",q1,\"Q2= \",q2,\"Q3= \",q3,)\n",
    "\n",
    "# INTERQUARTILE RANGE\n",
    "IQR=q3=q1\n",
    "print(\"IQR=\",IQR)\n"
   ]
  }
 ],
 "metadata": {
  "kernelspec": {
   "display_name": "Python 3",
   "language": "python",
   "name": "python3"
  },
  "language_info": {
   "codemirror_mode": {
    "name": "ipython",
    "version": 3
   },
   "file_extension": ".py",
   "mimetype": "text/x-python",
   "name": "python",
   "nbconvert_exporter": "python",
   "pygments_lexer": "ipython3",
   "version": "3.11.2"
  },
  "orig_nbformat": 4
 },
 "nbformat": 4,
 "nbformat_minor": 2
}
