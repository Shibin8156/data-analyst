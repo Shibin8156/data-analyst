{
 "cells": [
  {
   "cell_type": "code",
   "execution_count": 4,
   "metadata": {},
   "outputs": [
    {
     "name": "stdout",
     "output_type": "stream",
     "text": [
      "$ $ $ $ $ $ \n",
      "$ $ $ $ $ $ \n",
      "$ $ $ $ $ $ \n",
      "$ $ $ $ $ $ \n",
      "$ $ $ $ $ $ \n",
      "$ $ $ $ $ $ \n"
     ]
    }
   ],
   "source": [
    "row=1           # NUM OF ROWS\n",
    "while row<=6:\n",
    "    column=1\n",
    "    while column<=6:    # NUM OF COLUMNS\n",
    "        print(\"$\",end=\" \")\n",
    "        column+=1\n",
    "\n",
    "    print()\n",
    "    row+=1\n",
    "\n"
   ]
  },
  {
   "cell_type": "code",
   "execution_count": 5,
   "metadata": {},
   "outputs": [
    {
     "name": "stdout",
     "output_type": "stream",
     "text": [
      "sbn\n",
      "sbn\n",
      "sbn\n",
      "sbn\n"
     ]
    }
   ],
   "source": [
    "q=1\n",
    "while q<=4:\n",
    "    print(\"sbn\")\n",
    "    q+=1\n",
    "\n"
   ]
  },
  {
   "cell_type": "code",
   "execution_count": 6,
   "metadata": {},
   "outputs": [
    {
     "name": "stdout",
     "output_type": "stream",
     "text": [
      "* * * * * * * * * * \n",
      "* * * * * * * * * * \n",
      "* * * * * * * * * * \n",
      "* * * * * * * * * * \n"
     ]
    }
   ],
   "source": [
    "q=1\n",
    "while q<=4:\n",
    "    a=1\n",
    "    while a<=10:\n",
    "        print(\"*\",end=\" \")\n",
    "        a+=1\n",
    "\n",
    "\n",
    "    print()\n",
    "    q+=1"
   ]
  },
  {
   "cell_type": "code",
   "execution_count": 9,
   "metadata": {},
   "outputs": [
    {
     "name": "stdout",
     "output_type": "stream",
     "text": [
      "**********\n",
      "*        *\n",
      "*        *\n",
      "*        *\n",
      "**********\n"
     ]
    }
   ],
   "source": [
    "w=10\n",
    "h=5\n",
    "\n",
    "r= 1\n",
    "while r<= h:\n",
    "    c = 1\n",
    "    while c <= w:\n",
    "        if r== 1 or r == h or c == 1 or c == w:\n",
    "            print(\"*\", end=\"\")\n",
    "        else:\n",
    "            print(\" \", end=\"\")\n",
    "        c += 1\n",
    "    print()\n",
    "    r += 1"
   ]
  },
  {
   "cell_type": "code",
   "execution_count": 9,
   "metadata": {},
   "outputs": [
    {
     "name": "stdout",
     "output_type": "stream",
     "text": [
      " *\n",
      " * *\n",
      " * * *\n",
      " * * * *\n",
      " * * * * *\n"
     ]
    }
   ],
   "source": [
    "h=1\n",
    "while h<=5:\n",
    "    r=1\n",
    "    while r<=h:\n",
    "        print(\" \",end=\"*\")\n",
    "        r+=1\n",
    "\n",
    "    print()\n",
    "    h+=1"
   ]
  },
  {
   "cell_type": "code",
   "execution_count": 14,
   "metadata": {},
   "outputs": [
    {
     "name": "stdout",
     "output_type": "stream",
     "text": [
      "* * * * * \n",
      "* * * * \n",
      "* * * \n",
      "* * \n",
      "* \n"
     ]
    }
   ],
   "source": [
    "q=1\n",
    "while q<=5:\n",
    "    w=1\n",
    "    while w<=6-q:\n",
    "        print(\"*\",end=\" \")\n",
    "        w+=1\n",
    "    print()\n",
    "    q+=1"
   ]
  },
  {
   "cell_type": "code",
   "execution_count": 21,
   "metadata": {},
   "outputs": [
    {
     "name": "stdout",
     "output_type": "stream",
     "text": [
      "* \n",
      "* * \n",
      "* * * \n",
      "* * * * \n",
      "* * * * * \n",
      "* * * * * * \n",
      "* * * * * \n",
      "* * * * \n",
      "* * * \n",
      "* * \n",
      "* \n"
     ]
    }
   ],
   "source": [
    "z=1\n",
    "while z<=6:\n",
    "    x=1\n",
    "    while x<=z:\n",
    "        print(\"*\",end=\" \")\n",
    "        x+=1\n",
    "    print()\n",
    "    z+=1\n",
    "\n",
    "c=1\n",
    "while c<=5:\n",
    "    v=1\n",
    "    while v<=6-c:\n",
    "        print(\"*\",end=\" \")\n",
    "        v+=1\n",
    "    print()\n",
    "    c+=1\n"
   ]
  },
  {
   "cell_type": "code",
   "execution_count": 5,
   "metadata": {},
   "outputs": [
    {
     "name": "stdout",
     "output_type": "stream",
     "text": [
      "* * * * * \n",
      "* * * * * \n",
      "* * * * * \n",
      "* * * * * \n",
      "* * * * * \n"
     ]
    }
   ],
   "source": [
    "r=1\n",
    "while  r<=5:\n",
    "    t=1\n",
    "    while t<=5:\n",
    "        print(\"*\",end=\" \")\n",
    "        t+=1\n",
    "\n",
    "\n",
    "    print()\n",
    "    r+=1"
   ]
  },
  {
   "cell_type": "code",
   "execution_count": 4,
   "metadata": {},
   "outputs": [
    {
     "name": "stdout",
     "output_type": "stream",
     "text": [
      "* * * * * * \n",
      "*         * \n",
      "* * * * * * \n"
     ]
    }
   ],
   "source": [
    "i=1\n",
    "while i<=1:\n",
    "    j=1\n",
    "    while j<=6:\n",
    "        print(\"*\",end=\" \")\n",
    "        j+=1\n",
    "    print()\n",
    "    i+=1\n",
    "    j=1\n",
    "    while j<=1:\n",
    "        print(\"*\",end=\" \")\n",
    "        j+=1\n",
    "    j=1\n",
    "    while j<=4:\n",
    "        print(' ',end=' ')\n",
    "        j+=1\n",
    "    j=1\n",
    "    while j<=1:\n",
    "        print(\"*\",end=\" \")\n",
    "        j+=1\n",
    "    print()\n",
    "    j=1\n",
    "    while j<=6:\n",
    "        print(\"*\",end=\" \")\n",
    "        j+=1\n",
    "\n",
    "    print()\n",
    "    i+=1\n",
    "\n",
    "\n"
   ]
  },
  {
   "cell_type": "code",
   "execution_count": 13,
   "metadata": {},
   "outputs": [
    {
     "name": "stdout",
     "output_type": "stream",
     "text": [
      "* \n",
      "* * \n",
      "* * * \n",
      "* * * * \n",
      "* * * * * \n"
     ]
    }
   ],
   "source": [
    "r=1\n",
    "while r<=5:\n",
    "    h=1\n",
    "    while h<=r:\n",
    "        print(\"*\",end=\" \")\n",
    "        h+=1\n",
    "    print()\n",
    "    r+=1"
   ]
  }
 ],
 "metadata": {
  "kernelspec": {
   "display_name": "Python 3",
   "language": "python",
   "name": "python3"
  },
  "language_info": {
   "codemirror_mode": {
    "name": "ipython",
    "version": 3
   },
   "file_extension": ".py",
   "mimetype": "text/x-python",
   "name": "python",
   "nbconvert_exporter": "python",
   "pygments_lexer": "ipython3",
   "version": "3.11.2"
  },
  "orig_nbformat": 4
 },
 "nbformat": 4,
 "nbformat_minor": 2
}
