{
 "cells": [
  {
   "cell_type": "code",
   "execution_count": 3,
   "metadata": {},
   "outputs": [
    {
     "name": "stdout",
     "output_type": "stream",
     "text": [
      "selling price :900\n",
      "selling price :900\n",
      "selling price :2000\n"
     ]
    }
   ],
   "source": [
    "# ENCAPSULATION    used to not modify the values in a mothods variables in a class. to keep the data private.\n",
    "\n",
    "class computer():\n",
    "    def __init__(self):\n",
    "        self.__maxprice=900   # BY USING UNDERSCORE __\n",
    "    def sell(self):\n",
    "        print(\"selling price :{}\".format(self.__maxprice))\n",
    "    def setmaxprice(self,price):\n",
    "        self.__maxprice=price\n",
    "\n",
    "c=computer()\n",
    "c.sell()\n",
    "c.__maxprice=1000\n",
    "c.sell()\n",
    "c.setmaxprice(2000)\n",
    "c.sell()\n",
    "\n",
    "\n"
   ]
  },
  {
   "cell_type": "code",
   "execution_count": 4,
   "metadata": {},
   "outputs": [
    {
     "name": "stdout",
     "output_type": "stream",
     "text": [
      "parrot can fly\n",
      "parrot cant swim\n",
      "penguin cant fly\n",
      "penguin can swim\n"
     ]
    }
   ],
   "source": [
    "# POLYMORPHISM             to create a common interface\n",
    "\n",
    "class parrot():\n",
    "    def fly(self):\n",
    "        print(\"parrot can fly\")\n",
    "    def swim (self):\n",
    "        print(\"parrot cant swim\")\n",
    "class penguin():\n",
    "    def fly (self):\n",
    "        print(\"penguin cant fly\")\n",
    "    def swim (self):\n",
    "        print(\"penguin can swim\")\n",
    "def test (bird):\n",
    "    bird.fly()\n",
    "    bird.swim()\n",
    "\n",
    "\n",
    "c=parrot()\n",
    "i=penguin()\n",
    "test(c)\n",
    "test(i)"
   ]
  },
  {
   "cell_type": "code",
   "execution_count": null,
   "metadata": {},
   "outputs": [],
   "source": [
    "#CONSTUCTORS= TO INITIALIZE VARIABLES\n",
    "#1.SPECIAL FUCTIONS\n",
    "class classname():\n",
    "    def __init__(self):"
   ]
  },
  {
   "cell_type": "code",
   "execution_count": 5,
   "metadata": {},
   "outputs": [
    {
     "name": "stdout",
     "output_type": "stream",
     "text": [
      "HELLO\n",
      "HELLO SHIBIN\n"
     ]
    }
   ],
   "source": [
    "#Method overloading     WE CAN CALL METHOD MULTIPLE TIMES\n",
    "\n",
    "class person():\n",
    "    def hello(self,name=None):\n",
    "        if name is not None:\n",
    "            print (\"HELLO \"+name)\n",
    "        else:\n",
    "            print(\"HELLO\")\n",
    "\n",
    "ob=person()\n",
    "ob.hello()\n",
    "ob.hello(\"SHIBIN\")  #ADD onemore same method"
   ]
  },
  {
   "cell_type": "code",
   "execution_count": 8,
   "metadata": {},
   "outputs": [
    {
     "name": "stdout",
     "output_type": "stream",
     "text": [
      "inside child class\n"
     ]
    }
   ],
   "source": [
    "#Method Overriding\n",
    "\n",
    "class person():\n",
    "    def __init__(self):\n",
    "        self.value=\"inside parent class\"\n",
    "    def show (self):\n",
    "        print(self.value)\n",
    "class child (person):\n",
    "    def __init__(self):\n",
    "        self.value=\"inside child class\"     #priority is for child class.\n",
    "    def show(self):                         # child class overriding parent class\n",
    "        print(self.value)\n",
    "\n",
    "\n",
    "ob2=child()\n",
    "ob2.show()"
   ]
  },
  {
   "cell_type": "code",
   "execution_count": 10,
   "metadata": {},
   "outputs": [
    {
     "name": "stdout",
     "output_type": "stream",
     "text": [
      "17\n",
      "10\n"
     ]
    }
   ],
   "source": [
    "#SCOPE\n",
    "#1.LOCAL SCOPE  2.GLOBAL SCOPE\n",
    "#WE CAN ACCESS VARIABLE ONLY IN THE FUNCTION IS CALLED LOCAL SCOPE\n",
    "#2.WE CAN ACCESS VARIABLES OUTSIDE THE FUNCTION IS CALLED GLOBAL\n",
    "\n",
    "x=10     #global\n",
    "def fname():\n",
    "    x=17     #local\n",
    "    print(x)\n",
    "fname()\n",
    "print(x)"
   ]
  },
  {
   "cell_type": "code",
   "execution_count": 14,
   "metadata": {},
   "outputs": [
    {
     "name": "stdout",
     "output_type": "stream",
     "text": [
      "90\n"
     ]
    }
   ],
   "source": [
    "def fname():\n",
    "    global x\n",
    "    x=90     #convert local scope into global\n",
    "    print(x)\n",
    "fname()"
   ]
  }
 ],
 "metadata": {
  "kernelspec": {
   "display_name": "Python 3",
   "language": "python",
   "name": "python3"
  },
  "language_info": {
   "codemirror_mode": {
    "name": "ipython",
    "version": 3
   },
   "file_extension": ".py",
   "mimetype": "text/x-python",
   "name": "python",
   "nbconvert_exporter": "python",
   "pygments_lexer": "ipython3",
   "version": "3.11.2"
  },
  "orig_nbformat": 4
 },
 "nbformat": 4,
 "nbformat_minor": 2
}
