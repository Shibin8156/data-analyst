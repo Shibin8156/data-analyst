{
 "cells": [
  {
   "cell_type": "code",
   "execution_count": 3,
   "metadata": {},
   "outputs": [
    {
     "name": "stdout",
     "output_type": "stream",
     "text": [
      "55\n"
     ]
    }
   ],
   "source": [
    "# Q1. CALCULATE THE SUM OF ALL NUMBERS FROM 1 TO A GIVEN NUMBER ?.\n",
    "\n",
    "r=int (input(\"enter your range :\"))\n",
    "sum=0\n",
    "for p in range(1,r+1):\n",
    "  sum+=p\n",
    "print(sum)"
   ]
  },
  {
   "cell_type": "code",
   "execution_count": 11,
   "metadata": {},
   "outputs": [
    {
     "name": "stdout",
     "output_type": "stream",
     "text": [
      "1 * 5 = 5\n",
      "2 * 5 = 10\n",
      "3 * 5 = 15\n",
      "4 * 5 = 20\n",
      "5 * 5 = 25\n",
      "6 * 5 = 30\n",
      "7 * 5 = 35\n",
      "8 * 5 = 40\n",
      "9 * 5 = 45\n",
      "10 * 5 = 50\n"
     ]
    }
   ],
   "source": [
    "# Q2. MULTIPLICATION TABLE OF A GIVEN NUMBER ?.\n",
    "\n",
    "m=int(input(\"enter your number :\"))\n",
    "for p in range(1,10+1):\n",
    "   print(p,\"*\",m,\"=\",p*m)"
   ]
  },
  {
   "cell_type": "code",
   "execution_count": 18,
   "metadata": {},
   "outputs": [
    {
     "name": "stdout",
     "output_type": "stream",
     "text": [
      "10\n",
      "20\n",
      "30\n",
      "40\n",
      "50\n",
      "60\n"
     ]
    }
   ],
   "source": [
    "# Q3. DISPLAY NUMBERS FROM A LIST USING LOOP ?.\n",
    "\n",
    "list1=[10,20,30,40,50,60]\n",
    "for sbn in list1:\n",
    "   print(sbn)"
   ]
  },
  {
   "cell_type": "code",
   "execution_count": 22,
   "metadata": {},
   "outputs": [
    {
     "name": "stdout",
     "output_type": "stream",
     "text": [
      "Total number of digits: 6\n"
     ]
    }
   ],
   "source": [
    "# Q4. COUNT TOTAL NUMBER OF DIGITS FROM A NUMBER ?.\n",
    "\n",
    "sbn=int(input(\"enter your number :\"))\n",
    "count = 0\n",
    "while sbn > 0:\n",
    "    sbn = sbn // 10\n",
    "    count += 1\n",
    "print(\"Total number of digits:\", count)\n",
    "\n",
    "\n"
   ]
  },
  {
   "cell_type": "code",
   "execution_count": 1,
   "metadata": {},
   "outputs": [
    {
     "name": "stdout",
     "output_type": "stream",
     "text": [
      "number of digits 4\n"
     ]
    }
   ],
   "source": [
    "    num =int(input(\"enter your numbers :\"))\n",
    "    count=0\n",
    "    while num > 0:\n",
    "        num = num//10\n",
    "        count +=1\n",
    "    print(\"number of digits\",count)"
   ]
  },
  {
   "cell_type": "code",
   "execution_count": 19,
   "metadata": {},
   "outputs": [
    {
     "name": "stdout",
     "output_type": "stream",
     "text": [
      "0 1 1 2 3 5 8 13 21 34 "
     ]
    }
   ],
   "source": [
    "#Q10. factorial\n",
    "\n",
    "n1=0\n",
    "n2=1\n",
    "for j in range(10):\n",
    "    print(n1,end=\" \")     #end=\" \" koduthall nere print aakum line by line allathe\n",
    "    re=n1+n2\n",
    "    n1=n2\n",
    "    n2=re"
   ]
  },
  {
   "cell_type": "code",
   "execution_count": 6,
   "metadata": {},
   "outputs": [
    {
     "name": "stdout",
     "output_type": "stream",
     "text": [
      "sbn\n",
      "gbn\n",
      "shk\n",
      "tvk\n"
     ]
    }
   ],
   "source": [
    "newlist =[\"sbn\",\"gbn\",\"shk\",\"tvk\"]\n",
    "a,b,c,d = newlist\n",
    "print(a)\n",
    "print(b)\n",
    "print(c)\n",
    "print(d)"
   ]
  },
  {
   "cell_type": "code",
   "execution_count": 11,
   "metadata": {},
   "outputs": [
    {
     "name": "stdout",
     "output_type": "stream",
     "text": [
      "sbn gbn shk tvk\n",
      "sbngbnshktvk\n"
     ]
    }
   ],
   "source": [
    "newlist =[\"sbn\",\"gbn\",\"shk\",\"tvk\"]\n",
    "a,b,c,d = newlist\n",
    "print(a,b,c,d)\n",
    "print(a+b+c+d)"
   ]
  },
  {
   "cell_type": "code",
   "execution_count": 30,
   "metadata": {},
   "outputs": [
    {
     "name": "stdout",
     "output_type": "stream",
     "text": [
      "melcow  come on\n"
     ]
    }
   ],
   "source": [
    "t=\"welcome gooys 😎....\"\n",
    "\n",
    "def sbn():\n",
    "    t=\"melcow\"\n",
    "    print(t +\" \", \"come on\")\n",
    "\n",
    "sbn()"
   ]
  },
  {
   "cell_type": "code",
   "execution_count": 31,
   "metadata": {},
   "outputs": [
    {
     "name": "stdout",
     "output_type": "stream",
     "text": [
      "melcow  come on\n",
      "welcome gooys 😎....lets rock\n"
     ]
    }
   ],
   "source": [
    "t=\"welcome gooys 😎....\"\n",
    "\n",
    "def sbn():\n",
    "    t=\"melcow\"\n",
    "    print(t +\" \", \"come on\")\n",
    "\n",
    "sbn()\n",
    "\n",
    "print(t+ \"lets rock\")         "
   ]
  },
  {
   "cell_type": "code",
   "execution_count": 2,
   "metadata": {},
   "outputs": [
    {
     "name": "stdout",
     "output_type": "stream",
     "text": [
      "5.555\n",
      "<class 'str'>\n"
     ]
    }
   ],
   "source": [
    "h=\"5.555\"\n",
    "print(h)\n",
    "print(type(h))"
   ]
  },
  {
   "cell_type": "code",
   "execution_count": 1,
   "metadata": {},
   "outputs": [
    {
     "name": "stdout",
     "output_type": "stream",
     "text": [
      "HELLO WELCOME\n"
     ]
    }
   ],
   "source": [
    "p=\"HELLO WELCOME\"\n",
    "print(p)"
   ]
  },
  {
   "cell_type": "code",
   "execution_count": 8,
   "metadata": {},
   "outputs": [
    {
     "name": "stdout",
     "output_type": "stream",
     "text": [
      "llo worl\n"
     ]
    }
   ],
   "source": [
    "p=\"hello world\"\n",
    "print(p[2:10])"
   ]
  },
  {
   "cell_type": "code",
   "execution_count": 9,
   "metadata": {},
   "outputs": [
    {
     "name": "stdout",
     "output_type": "stream",
     "text": [
      " world\n"
     ]
    }
   ],
   "source": [
    "p=\"hello world\"\n",
    "print(p[5:])"
   ]
  },
  {
   "cell_type": "code",
   "execution_count": 12,
   "metadata": {},
   "outputs": [
    {
     "name": "stdout",
     "output_type": "stream",
     "text": [
      "4\n",
      "<class 'list'>\n"
     ]
    }
   ],
   "source": [
    "k=[\"sbn\",\"gbn\",\"shk\",\"tvk\"]\n",
    "print(len(k))\n",
    "print(type(k))"
   ]
  }
 ],
 "metadata": {
  "kernelspec": {
   "display_name": "Python 3",
   "language": "python",
   "name": "python3"
  },
  "language_info": {
   "codemirror_mode": {
    "name": "ipython",
    "version": 3
   },
   "file_extension": ".py",
   "mimetype": "text/x-python",
   "name": "python",
   "nbconvert_exporter": "python",
   "pygments_lexer": "ipython3",
   "version": "3.11.2"
  },
  "orig_nbformat": 4,
  "vscode": {
   "interpreter": {
    "hash": "96ff149a402c5f40eba30845bb36f20e6e4ed370844e95dc28f89a11d9394ee6"
   }
  }
 },
 "nbformat": 4,
 "nbformat_minor": 2
}
